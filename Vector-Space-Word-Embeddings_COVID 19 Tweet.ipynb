{
 "cells": [
  {
   "cell_type": "markdown",
   "metadata": {},
   "source": [
    "# Vector Space Word Embeddings\n",
    "\n",
    "*Sunny Li, MPP Student, Harris School of Public Policy, University of Chicago*"
   ]
  },
  {
   "attachments": {},
   "cell_type": "markdown",
   "metadata": {},
   "source": [
    "In this part, Word2Vec, Doc2Vec and Projection are used to help us understand the topics and influence of COVID19 in each of the three data sets and how the content may differ between different time and different states."
   ]
  },
  {
   "cell_type": "markdown",
   "metadata": {},
   "source": [
    "# Import packages"
   ]
  },
  {
   "cell_type": "code",
   "execution_count": 416,
   "metadata": {},
   "outputs": [],
   "source": [
    "#All these packages need to be installed from pip\n",
    "import gensim#For word2vec, etc\n",
    "import requests #For downloading our datasets\n",
    "import lucem_illud_2020\n",
    "\n",
    "import numpy as np #For arrays\n",
    "import pandas as pd#Gives us DataFrames\n",
    "import matplotlib.pyplot as plt #For graphics\n",
    "import seaborn #Makes the graphics look nicer\n",
    "import sklearn.metrics.pairwise #For cosine similarity\n",
    "import sklearn.manifold #For T-SNE\n",
    "import sklearn.decomposition #For PCA\n",
    "\n",
    "#This 'magic' command makes the plots work better\n",
    "#in the notebook, don't use it outside of a notebook.\n",
    "#Also you can ignore the warning\n",
    "%matplotlib inline\n",
    "\n",
    "import os #For looking through files\n",
    "import os.path #For managing file paths\n",
    "import glob\n",
    "\n",
    "import re\n",
    "import string\n",
    "from wordcloud import STOPWORDS"
   ]
  },
  {
   "cell_type": "markdown",
   "metadata": {},
   "source": [
    "# Data Preparation\n",
    "\n",
    "In this part, we will read all the twitter data and do basic processing on them. The tweet data we used was the tweets related to Covid19 in March. We will extract some of the columns in these datasets and calculate its sentiment scores using polarity scores based on the tweet content. After processing all the tweets, we divided them into three data sets according to the time they were generated: early, middle and late.\n",
    "\n",
    "The early tweets included all tweets before March 12. The reason we chose this date as the time node is that this day is the day when Covid19 was determined to be a global pandemic. Mid-term tweets include all data from March 12 to March 20, while late tweets include all data from March 21 to March 31. In different analysis sections, we will use Early, Middle and Late to refer to the three datasets."
   ]
  },
  {
   "cell_type": "code",
   "execution_count": 511,
   "metadata": {},
   "outputs": [],
   "source": [
    "def new_sentence(text):\n",
    "    '''\n",
    "    This function is to clean a text with some regular expression methods. We\n",
    "    want to return a new string with all marks and numbers deleted and all\n",
    "    letters in the lower case format.\n",
    "\n",
    "    Input:\n",
    "    text (string): a text which needs to be processed.\n",
    "\n",
    "    Ouput:\n",
    "    new (string): a processed text.\n",
    "    '''\n",
    "\n",
    "    text = re.sub(r'[{}]+'.format(string.punctuation), '', text)\n",
    "    text = re.sub(r'[{}]+'.format(string.digits), '', text)\n",
    "    word_list = text.strip().lower().split()\n",
    "    picked_words = [word for word in word_list if word not in STOPWORDS]\n",
    "    new = ' '.join(picked_words)\n",
    "    return new"
   ]
  },
  {
   "cell_type": "code",
   "execution_count": 512,
   "metadata": {},
   "outputs": [],
   "source": [
    "def add_tokenized_nomalized_sents(df):\n",
    "    '''\n",
    "    This function is to extract necessary columns from a dataframe and \n",
    "    add two columns to describ the tokenized and nomalized of the text\n",
    "    and one column to descrie the date of the text.\n",
    "    \n",
    "    Input:\n",
    "    df (DataFrame): a DataFrame with needs to be processed.\n",
    "    \n",
    "    Output:\n",
    "    df (DataFrame): a processed DataFrame.\n",
    "    '''\n",
    "    df = df[['status_id','user_id','created_at','screen_name','text','followers_count','friends_count']]\n",
    "    df['text'] = df['text'].astype(str)\n",
    "    df['clean_text'] = df['text'].apply(new_sentence)\n",
    "    df['created_at'] = df['created_at'].astype(str)\n",
    "    df['tokenized_sents'] = df['clean_text'].apply(lambda x: [lucem_illud_2020.word_tokenize(s) for s in lucem_illud_2020.sent_tokenize(x)])\n",
    "    df['normalized_sents'] = df['tokenized_sents'].apply(lambda x: [lucem_illud_2020.normalizeTokens(s, lemma=False) for s in x])\n",
    "    return df"
   ]
  },
  {
   "cell_type": "code",
   "execution_count": 513,
   "metadata": {},
   "outputs": [],
   "source": [
    "def add_date(df):\n",
    "    '''\n",
    "    This function is to add one column to descrie the date of the text.\n",
    "    \n",
    "    Input:\n",
    "    df (DataFrame): a DataFrame with needs to be processed.\n",
    "    \n",
    "    Output:\n",
    "    df (DataFrame): a processed DataFrame.\n",
    "    '''\n",
    "    df['date'] = df['created_at']\n",
    "    for i,time in enumerate(df['created_at']):\n",
    "        if i <= len(df['created_at']):\n",
    "            df['date'][i:i+1]=time[:10]\n",
    "        \n",
    "    #df['date'] = df['date'].astype(str)\n",
    "    return df"
   ]
  },
  {
   "cell_type": "code",
   "execution_count": 514,
   "metadata": {},
   "outputs": [],
   "source": [
    "def read_path_csv(path):\n",
    "    '''\n",
    "    This function is to get a DataFrame from a csv, extract necessary columns \n",
    "    and add two columns to describing the tokenized and nomalized of the text.\n",
    "    \n",
    "    Input:\n",
    "    path (string): the path of a csv to be read\n",
    "    \n",
    "    Output:\n",
    "    df (DataFrame): a processed DataFrame\n",
    "    '''\n",
    "    allFiles = glob.glob(path + \"/*.CSV\")\n",
    "    \n",
    "    frame = pd.DataFrame()\n",
    "    list_ = []\n",
    "    for file_ in allFiles:\n",
    "        df = pd.read_csv(file_,index_col=None, header=0)\n",
    "        list_.append(df)\n",
    "    frame = pd.concat(list_)\n",
    "    return frame"
   ]
  },
  {
   "cell_type": "code",
   "execution_count": 515,
   "metadata": {},
   "outputs": [],
   "source": [
    "path ='/Users/sunny/CCA 2020/slim_tweets_0125' \n",
    "early_path = path +'/early'\n",
    "middle_path = path +'/middle'\n",
    "late_path = path +'/late'"
   ]
  },
  {
   "cell_type": "code",
   "execution_count": 516,
   "metadata": {},
   "outputs": [],
   "source": [
    "t_early_df = read_path_csv(early_path)"
   ]
  },
  {
   "cell_type": "code",
   "execution_count": 517,
   "metadata": {},
   "outputs": [],
   "source": [
    "t_early_df = read_path_csv(early_path)\n",
    "t_middle_df = read_path_csv(middle_path)\n",
    "t_late_df = read_path_csv(late_path)"
   ]
  },
  {
   "cell_type": "code",
   "execution_count": 423,
   "metadata": {},
   "outputs": [],
   "source": [
    "def reduce_mem_usage(df, verbose=True):\n",
    "    '''\n",
    "    This function is to reduce the DataFrame size while keep all the valuable information.\n",
    "    \n",
    "    Input:\n",
    "    df (DataFrame): a DataFrame with needs to be processed.\n",
    "    \n",
    "    Output:\n",
    "    df (DataFrame): a processed DataFrame\n",
    "    '''\n",
    "    numerics = ['int16', 'int32', 'int64', 'float16', 'float32', 'float64']\n",
    "    start_mem = df.memory_usage().sum() / 1024**2    \n",
    "    for col in df.columns:\n",
    "        col_type = df[col].dtypes\n",
    "        if col_type in numerics:\n",
    "            c_min = df[col].min()\n",
    "            c_max = df[col].max()\n",
    "            if str(col_type)[:3] == 'int':\n",
    "                if c_min > np.iinfo(np.int8).min and c_max < np.iinfo(np.int8).max:\n",
    "                     df[col] = df[col].astype(np.int8)\n",
    "                elif c_min > np.iinfo(np.int16).min and c_max < np.iinfo(np.int16).max:\n",
    "                    df[col] = df[col].astype(np.int16)\n",
    "                elif c_min > np.iinfo(np.int32).min and c_max < np.iinfo(np.int32).max:\n",
    "                    df[col] = df[col].astype(np.int32)\n",
    "                elif c_min > np.iinfo(np.int64).min and c_max < np.iinfo(np.int64).max:\n",
    "                    df[col] = df[col].astype(np.int64)  \n",
    "            else:\n",
    "                if c_min > np.finfo(np.float16).min and c_max < np.finfo(np.float16).max:\n",
    "                    df[col] = df[col].astype(np.float16)\n",
    "                elif c_min > np.finfo(np.float32).min and c_max < np.finfo(np.float32).max:\n",
    "                    df[col] = df[col].astype(np.float32)\n",
    "                else:\n",
    "                    df[col] = df[col].astype(np.float64)    \n",
    "    end_mem = df.memory_usage().sum() / 1024**2\n",
    "    if verbose: print('Mem. usage decreased to {:5.2f} Mb ({:.1f}% reduction)'.format(end_mem, 100 * (start_mem - end_mem) / start_mem))\n",
    "    return df"
   ]
  },
  {
   "cell_type": "code",
   "execution_count": 518,
   "metadata": {},
   "outputs": [
    {
     "name": "stdout",
     "output_type": "stream",
     "text": [
      "Mem. usage decreased to  0.53 Mb (22.2% reduction)\n",
      "Mem. usage decreased to  6.10 Mb (17.0% reduction)\n",
      "Mem. usage decreased to  7.04 Mb (21.2% reduction)\n"
     ]
    }
   ],
   "source": [
    "t_early_df = reduce_mem_usage(t_early_df)\n",
    "t_middle_df = reduce_mem_usage(t_middle_df)\n",
    "t_late_df = reduce_mem_usage(t_late_df)"
   ]
  },
  {
   "cell_type": "code",
   "execution_count": 425,
   "metadata": {
    "scrolled": true
   },
   "outputs": [
    {
     "name": "stderr",
     "output_type": "stream",
     "text": [
      "/Users/sunny/opt/anaconda3/lib/python3.7/site-packages/ipykernel_launcher.py:14: SettingWithCopyWarning: \n",
      "A value is trying to be set on a copy of a slice from a DataFrame.\n",
      "Try using .loc[row_indexer,col_indexer] = value instead\n",
      "\n",
      "See the caveats in the documentation: http://pandas.pydata.org/pandas-docs/stable/user_guide/indexing.html#returning-a-view-versus-a-copy\n",
      "  \n",
      "/Users/sunny/opt/anaconda3/lib/python3.7/site-packages/ipykernel_launcher.py:15: SettingWithCopyWarning: \n",
      "A value is trying to be set on a copy of a slice from a DataFrame.\n",
      "Try using .loc[row_indexer,col_indexer] = value instead\n",
      "\n",
      "See the caveats in the documentation: http://pandas.pydata.org/pandas-docs/stable/user_guide/indexing.html#returning-a-view-versus-a-copy\n",
      "  from ipykernel import kernelapp as app\n",
      "/Users/sunny/opt/anaconda3/lib/python3.7/site-packages/ipykernel_launcher.py:16: SettingWithCopyWarning: \n",
      "A value is trying to be set on a copy of a slice from a DataFrame.\n",
      "Try using .loc[row_indexer,col_indexer] = value instead\n",
      "\n",
      "See the caveats in the documentation: http://pandas.pydata.org/pandas-docs/stable/user_guide/indexing.html#returning-a-view-versus-a-copy\n",
      "  app.launch_new_instance()\n",
      "/Users/sunny/opt/anaconda3/lib/python3.7/site-packages/ipykernel_launcher.py:17: SettingWithCopyWarning: \n",
      "A value is trying to be set on a copy of a slice from a DataFrame.\n",
      "Try using .loc[row_indexer,col_indexer] = value instead\n",
      "\n",
      "See the caveats in the documentation: http://pandas.pydata.org/pandas-docs/stable/user_guide/indexing.html#returning-a-view-versus-a-copy\n",
      "/Users/sunny/opt/anaconda3/lib/python3.7/site-packages/ipykernel_launcher.py:18: SettingWithCopyWarning: \n",
      "A value is trying to be set on a copy of a slice from a DataFrame.\n",
      "Try using .loc[row_indexer,col_indexer] = value instead\n",
      "\n",
      "See the caveats in the documentation: http://pandas.pydata.org/pandas-docs/stable/user_guide/indexing.html#returning-a-view-versus-a-copy\n"
     ]
    }
   ],
   "source": [
    "t_early = add_tokenized_nomalized_sents(t_early_df)\n",
    "t_middle = add_tokenized_nomalized_sents(t_middle_df)\n",
    "t_late = add_tokenized_nomalized_sents(t_late_df)"
   ]
  },
  {
   "cell_type": "code",
   "execution_count": 426,
   "metadata": {},
   "outputs": [
    {
     "name": "stderr",
     "output_type": "stream",
     "text": [
      "/Users/sunny/opt/anaconda3/lib/python3.7/site-packages/ipykernel_launcher.py:11: SettingWithCopyWarning: \n",
      "A value is trying to be set on a copy of a slice from a DataFrame.\n",
      "Try using .loc[row_indexer,col_indexer] = value instead\n",
      "\n",
      "See the caveats in the documentation: http://pandas.pydata.org/pandas-docs/stable/user_guide/indexing.html#returning-a-view-versus-a-copy\n",
      "  # This is added back by InteractiveShellApp.init_path()\n",
      "/Users/sunny/opt/anaconda3/lib/python3.7/site-packages/ipykernel_launcher.py:14: SettingWithCopyWarning: \n",
      "A value is trying to be set on a copy of a slice from a DataFrame\n",
      "\n",
      "See the caveats in the documentation: http://pandas.pydata.org/pandas-docs/stable/user_guide/indexing.html#returning-a-view-versus-a-copy\n",
      "  \n",
      "/Users/sunny/opt/anaconda3/lib/python3.7/site-packages/pandas/core/series.py:1237: SettingWithCopyWarning: \n",
      "A value is trying to be set on a copy of a slice from a DataFrame\n",
      "\n",
      "See the caveats in the documentation: http://pandas.pydata.org/pandas-docs/stable/user_guide/indexing.html#returning-a-view-versus-a-copy\n",
      "  self._set_with(key, value)\n",
      "/Users/sunny/opt/anaconda3/lib/python3.7/site-packages/ipykernel_launcher.py:1: SettingWithCopyWarning: \n",
      "A value is trying to be set on a copy of a slice from a DataFrame\n",
      "\n",
      "See the caveats in the documentation: http://pandas.pydata.org/pandas-docs/stable/user_guide/indexing.html#returning-a-view-versus-a-copy\n",
      "  \"\"\"Entry point for launching an IPython kernel.\n",
      "/Users/sunny/opt/anaconda3/lib/python3.7/site-packages/ipykernel_launcher.py:2: SettingWithCopyWarning: \n",
      "A value is trying to be set on a copy of a slice from a DataFrame\n",
      "\n",
      "See the caveats in the documentation: http://pandas.pydata.org/pandas-docs/stable/user_guide/indexing.html#returning-a-view-versus-a-copy\n",
      "  \n",
      "/Users/sunny/opt/anaconda3/lib/python3.7/site-packages/ipykernel_launcher.py:3: SettingWithCopyWarning: \n",
      "A value is trying to be set on a copy of a slice from a DataFrame\n",
      "\n",
      "See the caveats in the documentation: http://pandas.pydata.org/pandas-docs/stable/user_guide/indexing.html#returning-a-view-versus-a-copy\n",
      "  This is separate from the ipykernel package so we can avoid doing imports until\n"
     ]
    }
   ],
   "source": [
    "t_early = add_date(t_early)\n",
    "t_middle = add_date(t_middle)\n",
    "t_late = add_date(t_late)"
   ]
  },
  {
   "cell_type": "code",
   "execution_count": 482,
   "metadata": {
    "scrolled": true
   },
   "outputs": [
    {
     "data": {
      "text/html": [
       "<div>\n",
       "<style scoped>\n",
       "    .dataframe tbody tr th:only-of-type {\n",
       "        vertical-align: middle;\n",
       "    }\n",
       "\n",
       "    .dataframe tbody tr th {\n",
       "        vertical-align: top;\n",
       "    }\n",
       "\n",
       "    .dataframe thead th {\n",
       "        text-align: right;\n",
       "    }\n",
       "</style>\n",
       "<table border=\"1\" class=\"dataframe\">\n",
       "  <thead>\n",
       "    <tr style=\"text-align: right;\">\n",
       "      <th></th>\n",
       "      <th>Unnamed: 0</th>\n",
       "      <th>clean_text</th>\n",
       "      <th>created_at</th>\n",
       "      <th>date</th>\n",
       "      <th>followers_count</th>\n",
       "      <th>friends_count</th>\n",
       "      <th>normalized_sents</th>\n",
       "      <th>normalized_tokens</th>\n",
       "      <th>reduced_tokens</th>\n",
       "      <th>screen_name</th>\n",
       "      <th>sentiment</th>\n",
       "      <th>sentiment_scores</th>\n",
       "      <th>status_id</th>\n",
       "      <th>text</th>\n",
       "      <th>tokenized_sents</th>\n",
       "      <th>tokenized_text</th>\n",
       "      <th>user_id</th>\n",
       "    </tr>\n",
       "  </thead>\n",
       "  <tbody>\n",
       "    <tr>\n",
       "      <td>0</td>\n",
       "      <td>0</td>\n",
       "      <td>remember shudder superb ben elton sketch last ...</td>\n",
       "      <td>2020-03-08T10:31:23Z</td>\n",
       "      <td>NaN</td>\n",
       "      <td>155.0</td>\n",
       "      <td>197.0</td>\n",
       "      <td>NaN</td>\n",
       "      <td>['remember', 'shudder', 'superb', 'ben', 'elto...</td>\n",
       "      <td>['remember', 'way', 'covid_19']</td>\n",
       "      <td>GarySch47413717</td>\n",
       "      <td>-1.0</td>\n",
       "      <td>{'neg': 0.252, 'neu': 0.579, 'pos': 0.169, 'co...</td>\n",
       "      <td>1.236600e+18</td>\n",
       "      <td>I remember this with a shudder. A superb Ben E...</td>\n",
       "      <td>NaN</td>\n",
       "      <td>['I', 'remember', 'this', 'with', 'a', 'shudde...</td>\n",
       "      <td>1.113032e+18</td>\n",
       "    </tr>\n",
       "    <tr>\n",
       "      <td>1</td>\n",
       "      <td>1</td>\n",
       "      <td>people die coronavirus gravestones say quarand...</td>\n",
       "      <td>2020-03-11T11:17:42Z</td>\n",
       "      <td>NaN</td>\n",
       "      <td>13.0</td>\n",
       "      <td>57.0</td>\n",
       "      <td>NaN</td>\n",
       "      <td>['people', 'die', 'coronavirus', 'gravestone',...</td>\n",
       "      <td>['people', 'die', 'coronavirus', 'coronavirus']</td>\n",
       "      <td>KritikaSiroliya</td>\n",
       "      <td>-1.0</td>\n",
       "      <td>{'neg': 0.474, 'neu': 0.526, 'pos': 0.0, 'comp...</td>\n",
       "      <td>1.237699e+18</td>\n",
       "      <td>People who die because of Coronavirus should h...</td>\n",
       "      <td>NaN</td>\n",
       "      <td>['People', 'who', 'die', 'because', 'of', 'Cor...</td>\n",
       "      <td>1.215211e+18</td>\n",
       "    </tr>\n",
       "    <tr>\n",
       "      <td>2</td>\n",
       "      <td>2</td>\n",
       "      <td>authackeray officeofut prevention better cure ...</td>\n",
       "      <td>2020-03-07T20:56:13Z</td>\n",
       "      <td>NaN</td>\n",
       "      <td>38.0</td>\n",
       "      <td>106.0</td>\n",
       "      <td>NaN</td>\n",
       "      <td>['@authackeray', '@officeofut', 'prevention', ...</td>\n",
       "      <td>['prevention', 'cure', 'urge', 'amp', 'school'...</td>\n",
       "      <td>kumar_2302</td>\n",
       "      <td>1.0</td>\n",
       "      <td>{'neg': 0.0, 'neu': 0.754, 'pos': 0.246, 'comp...</td>\n",
       "      <td>1.236395e+18</td>\n",
       "      <td>@AUThackeray @OfficeofUT \\n\\nPrevention is bet...</td>\n",
       "      <td>NaN</td>\n",
       "      <td>['@AUThackeray', '@OfficeofUT', 'Prevention', ...</td>\n",
       "      <td>3.248120e+08</td>\n",
       "    </tr>\n",
       "    <tr>\n",
       "      <td>3</td>\n",
       "      <td>3</td>\n",
       "      <td>sobering assessment every country still contai...</td>\n",
       "      <td>2020-03-11T17:30:58Z</td>\n",
       "      <td>NaN</td>\n",
       "      <td>2712.0</td>\n",
       "      <td>4994.0</td>\n",
       "      <td>NaN</td>\n",
       "      <td>['sober', 'assessment', 'country', 'contain', ...</td>\n",
       "      <td>['country', 'contain', 'mitigate', 'impact']</td>\n",
       "      <td>HEARDatUNSW</td>\n",
       "      <td>-1.0</td>\n",
       "      <td>{'neg': 0.129, 'neu': 0.719, 'pos': 0.151, 'co...</td>\n",
       "      <td>1.237793e+18</td>\n",
       "      <td>Sobering assessment; every country should be d...</td>\n",
       "      <td>NaN</td>\n",
       "      <td>['Sobering', 'assessment', 'every', 'country',...</td>\n",
       "      <td>3.868509e+08</td>\n",
       "    </tr>\n",
       "    <tr>\n",
       "      <td>4</td>\n",
       "      <td>4</td>\n",
       "      <td>even good beat covid alaskans going take huge ...</td>\n",
       "      <td>2020-03-11T22:24:15Z</td>\n",
       "      <td>NaN</td>\n",
       "      <td>713.0</td>\n",
       "      <td>247.0</td>\n",
       "      <td>NaN</td>\n",
       "      <td>['good', 'beat', 'covid19', 'alaskans', 'go', ...</td>\n",
       "      <td>['good', 'huge', 'financial', 'hit', 'oil', 'w...</td>\n",
       "      <td>mspanish</td>\n",
       "      <td>1.0</td>\n",
       "      <td>{'neg': 0.0, 'neu': 0.78, 'pos': 0.22, 'compou...</td>\n",
       "      <td>1.237867e+18</td>\n",
       "      <td>Even if we get a good beat on #covid19, Alaska...</td>\n",
       "      <td>NaN</td>\n",
       "      <td>['Even', 'if', 'we', 'get', 'a', 'good', 'beat...</td>\n",
       "      <td>1.952652e+07</td>\n",
       "    </tr>\n",
       "  </tbody>\n",
       "</table>\n",
       "</div>"
      ],
      "text/plain": [
       "   Unnamed: 0                                         clean_text  \\\n",
       "0           0  remember shudder superb ben elton sketch last ...   \n",
       "1           1  people die coronavirus gravestones say quarand...   \n",
       "2           2  authackeray officeofut prevention better cure ...   \n",
       "3           3  sobering assessment every country still contai...   \n",
       "4           4  even good beat covid alaskans going take huge ...   \n",
       "\n",
       "             created_at date  followers_count  friends_count normalized_sents  \\\n",
       "0  2020-03-08T10:31:23Z  NaN            155.0          197.0              NaN   \n",
       "1  2020-03-11T11:17:42Z  NaN             13.0           57.0              NaN   \n",
       "2  2020-03-07T20:56:13Z  NaN             38.0          106.0              NaN   \n",
       "3  2020-03-11T17:30:58Z  NaN           2712.0         4994.0              NaN   \n",
       "4  2020-03-11T22:24:15Z  NaN            713.0          247.0              NaN   \n",
       "\n",
       "                                   normalized_tokens  \\\n",
       "0  ['remember', 'shudder', 'superb', 'ben', 'elto...   \n",
       "1  ['people', 'die', 'coronavirus', 'gravestone',...   \n",
       "2  ['@authackeray', '@officeofut', 'prevention', ...   \n",
       "3  ['sober', 'assessment', 'country', 'contain', ...   \n",
       "4  ['good', 'beat', 'covid19', 'alaskans', 'go', ...   \n",
       "\n",
       "                                      reduced_tokens      screen_name  \\\n",
       "0                    ['remember', 'way', 'covid_19']  GarySch47413717   \n",
       "1    ['people', 'die', 'coronavirus', 'coronavirus']  KritikaSiroliya   \n",
       "2  ['prevention', 'cure', 'urge', 'amp', 'school'...       kumar_2302   \n",
       "3       ['country', 'contain', 'mitigate', 'impact']      HEARDatUNSW   \n",
       "4  ['good', 'huge', 'financial', 'hit', 'oil', 'w...         mspanish   \n",
       "\n",
       "   sentiment                                   sentiment_scores     status_id  \\\n",
       "0       -1.0  {'neg': 0.252, 'neu': 0.579, 'pos': 0.169, 'co...  1.236600e+18   \n",
       "1       -1.0  {'neg': 0.474, 'neu': 0.526, 'pos': 0.0, 'comp...  1.237699e+18   \n",
       "2        1.0  {'neg': 0.0, 'neu': 0.754, 'pos': 0.246, 'comp...  1.236395e+18   \n",
       "3       -1.0  {'neg': 0.129, 'neu': 0.719, 'pos': 0.151, 'co...  1.237793e+18   \n",
       "4        1.0  {'neg': 0.0, 'neu': 0.78, 'pos': 0.22, 'compou...  1.237867e+18   \n",
       "\n",
       "                                                text tokenized_sents  \\\n",
       "0  I remember this with a shudder. A superb Ben E...             NaN   \n",
       "1  People who die because of Coronavirus should h...             NaN   \n",
       "2  @AUThackeray @OfficeofUT \\n\\nPrevention is bet...             NaN   \n",
       "3  Sobering assessment; every country should be d...             NaN   \n",
       "4  Even if we get a good beat on #covid19, Alaska...             NaN   \n",
       "\n",
       "                                      tokenized_text       user_id  \n",
       "0  ['I', 'remember', 'this', 'with', 'a', 'shudde...  1.113032e+18  \n",
       "1  ['People', 'who', 'die', 'because', 'of', 'Cor...  1.215211e+18  \n",
       "2  ['@AUThackeray', '@OfficeofUT', 'Prevention', ...  3.248120e+08  \n",
       "3  ['Sobering', 'assessment', 'every', 'country',...  3.868509e+08  \n",
       "4  ['Even', 'if', 'we', 'get', 'a', 'good', 'beat...  1.952652e+07  "
      ]
     },
     "execution_count": 482,
     "metadata": {},
     "output_type": "execute_result"
    }
   ],
   "source": [
    "tweets = pd.concat([t_early,t_middle,t_late])"
   ]
  },
  {
   "cell_type": "code",
   "execution_count": 428,
   "metadata": {},
   "outputs": [],
   "source": [
    "tweets.to_csv(path+'/tweets.CSV')\n",
    "t_early.to_csv(path+'/t_early.CSV')\n",
    "t_middle.to_csv(path+'/t_middle.CSV')\n",
    "t_late.to_csv(path+'/t_late.CSV')"
   ]
  },
  {
   "cell_type": "code",
   "execution_count": 429,
   "metadata": {},
   "outputs": [],
   "source": [
    "# since the tokenized and normalized process takes more than an hour, \n",
    "# I save the results and read the results for future use\n",
    "tweets=pd.read_csv(path+'/tweets.CSV')\n",
    "t_early=pd.read_csv(path+'/t_early.CSV')\n",
    "t_middle=pd.read_csv(path+'/t_middle.CSV')\n",
    "t_late=pd.read_csv(path+'/t_late.CSV')"
   ]
  },
  {
   "cell_type": "code",
   "execution_count": 522,
   "metadata": {},
   "outputs": [],
   "source": [
    "tweets=pd.read_csv(path+'/tweets.CSV')"
   ]
  },
  {
   "cell_type": "code",
   "execution_count": 523,
   "metadata": {},
   "outputs": [
    {
     "data": {
      "text/html": [
       "<div>\n",
       "<style scoped>\n",
       "    .dataframe tbody tr th:only-of-type {\n",
       "        vertical-align: middle;\n",
       "    }\n",
       "\n",
       "    .dataframe tbody tr th {\n",
       "        vertical-align: top;\n",
       "    }\n",
       "\n",
       "    .dataframe thead th {\n",
       "        text-align: right;\n",
       "    }\n",
       "</style>\n",
       "<table border=\"1\" class=\"dataframe\">\n",
       "  <thead>\n",
       "    <tr style=\"text-align: right;\">\n",
       "      <th></th>\n",
       "      <th>Unnamed: 0</th>\n",
       "      <th>status_id</th>\n",
       "      <th>user_id</th>\n",
       "      <th>created_at</th>\n",
       "      <th>screen_name</th>\n",
       "      <th>text</th>\n",
       "      <th>followers_count</th>\n",
       "      <th>friends_count</th>\n",
       "      <th>clean_text</th>\n",
       "      <th>tokenized_sents</th>\n",
       "      <th>normalized_sents</th>\n",
       "      <th>date</th>\n",
       "    </tr>\n",
       "  </thead>\n",
       "  <tbody>\n",
       "    <tr>\n",
       "      <td>0</td>\n",
       "      <td>0</td>\n",
       "      <td>1.236600e+18</td>\n",
       "      <td>1.113032e+18</td>\n",
       "      <td>2020-03-08T10:31:23Z</td>\n",
       "      <td>GarySch47413717</td>\n",
       "      <td>I remember this with a shudder. A superb Ben E...</td>\n",
       "      <td>155.0</td>\n",
       "      <td>197.0</td>\n",
       "      <td>remember shudder superb ben elton sketch last ...</td>\n",
       "      <td>[['remember', 'shudder', 'superb', 'ben', 'elt...</td>\n",
       "      <td>[['remember', 'shudder', 'superb', 'ben', 'elt...</td>\n",
       "      <td>2020-03-08</td>\n",
       "    </tr>\n",
       "    <tr>\n",
       "      <td>1</td>\n",
       "      <td>1</td>\n",
       "      <td>1.237699e+18</td>\n",
       "      <td>1.215211e+18</td>\n",
       "      <td>2020-03-11T11:17:42Z</td>\n",
       "      <td>KritikaSiroliya</td>\n",
       "      <td>People who die because of Coronavirus should h...</td>\n",
       "      <td>13.0</td>\n",
       "      <td>57.0</td>\n",
       "      <td>people die coronavirus gravestones say quarand...</td>\n",
       "      <td>[['people', 'die', 'coronavirus', 'gravestones...</td>\n",
       "      <td>[['people', 'die', 'coronavirus', 'gravestones...</td>\n",
       "      <td>2020-03-11</td>\n",
       "    </tr>\n",
       "    <tr>\n",
       "      <td>2</td>\n",
       "      <td>2</td>\n",
       "      <td>1.236395e+18</td>\n",
       "      <td>3.248120e+08</td>\n",
       "      <td>2020-03-07T20:56:13Z</td>\n",
       "      <td>kumar_2302</td>\n",
       "      <td>@AUThackeray @OfficeofUT \\n\\nPrevention is bet...</td>\n",
       "      <td>38.0</td>\n",
       "      <td>106.0</td>\n",
       "      <td>authackeray officeofut prevention better cure ...</td>\n",
       "      <td>[['authackeray', 'officeofut', 'prevention', '...</td>\n",
       "      <td>[['authackeray', 'officeofut', 'prevention', '...</td>\n",
       "      <td>2020-03-07</td>\n",
       "    </tr>\n",
       "    <tr>\n",
       "      <td>3</td>\n",
       "      <td>3</td>\n",
       "      <td>1.237793e+18</td>\n",
       "      <td>3.868509e+08</td>\n",
       "      <td>2020-03-11T17:30:58Z</td>\n",
       "      <td>HEARDatUNSW</td>\n",
       "      <td>Sobering assessment; every country should be d...</td>\n",
       "      <td>2712.0</td>\n",
       "      <td>4994.0</td>\n",
       "      <td>sobering assessment every country still contai...</td>\n",
       "      <td>[['sobering', 'assessment'], ['every', 'countr...</td>\n",
       "      <td>[['sobering', 'assessment'], ['country', 'cont...</td>\n",
       "      <td>2020-03-11</td>\n",
       "    </tr>\n",
       "    <tr>\n",
       "      <td>4</td>\n",
       "      <td>4</td>\n",
       "      <td>1.237867e+18</td>\n",
       "      <td>1.952652e+07</td>\n",
       "      <td>2020-03-11T22:24:15Z</td>\n",
       "      <td>mspanish</td>\n",
       "      <td>Even if we get a good beat on #covid19, Alaska...</td>\n",
       "      <td>713.0</td>\n",
       "      <td>247.0</td>\n",
       "      <td>even good beat covid alaskans going take huge ...</td>\n",
       "      <td>[['even', 'good', 'beat', 'covid', 'alaskans',...</td>\n",
       "      <td>[['good', 'beat', 'covid', 'alaskans', 'going'...</td>\n",
       "      <td>2020-03-11</td>\n",
       "    </tr>\n",
       "  </tbody>\n",
       "</table>\n",
       "</div>"
      ],
      "text/plain": [
       "   Unnamed: 0     status_id       user_id            created_at  \\\n",
       "0           0  1.236600e+18  1.113032e+18  2020-03-08T10:31:23Z   \n",
       "1           1  1.237699e+18  1.215211e+18  2020-03-11T11:17:42Z   \n",
       "2           2  1.236395e+18  3.248120e+08  2020-03-07T20:56:13Z   \n",
       "3           3  1.237793e+18  3.868509e+08  2020-03-11T17:30:58Z   \n",
       "4           4  1.237867e+18  1.952652e+07  2020-03-11T22:24:15Z   \n",
       "\n",
       "       screen_name                                               text  \\\n",
       "0  GarySch47413717  I remember this with a shudder. A superb Ben E...   \n",
       "1  KritikaSiroliya  People who die because of Coronavirus should h...   \n",
       "2       kumar_2302  @AUThackeray @OfficeofUT \\n\\nPrevention is bet...   \n",
       "3      HEARDatUNSW  Sobering assessment; every country should be d...   \n",
       "4         mspanish  Even if we get a good beat on #covid19, Alaska...   \n",
       "\n",
       "   followers_count  friends_count  \\\n",
       "0            155.0          197.0   \n",
       "1             13.0           57.0   \n",
       "2             38.0          106.0   \n",
       "3           2712.0         4994.0   \n",
       "4            713.0          247.0   \n",
       "\n",
       "                                          clean_text  \\\n",
       "0  remember shudder superb ben elton sketch last ...   \n",
       "1  people die coronavirus gravestones say quarand...   \n",
       "2  authackeray officeofut prevention better cure ...   \n",
       "3  sobering assessment every country still contai...   \n",
       "4  even good beat covid alaskans going take huge ...   \n",
       "\n",
       "                                     tokenized_sents  \\\n",
       "0  [['remember', 'shudder', 'superb', 'ben', 'elt...   \n",
       "1  [['people', 'die', 'coronavirus', 'gravestones...   \n",
       "2  [['authackeray', 'officeofut', 'prevention', '...   \n",
       "3  [['sobering', 'assessment'], ['every', 'countr...   \n",
       "4  [['even', 'good', 'beat', 'covid', 'alaskans',...   \n",
       "\n",
       "                                    normalized_sents        date  \n",
       "0  [['remember', 'shudder', 'superb', 'ben', 'elt...  2020-03-08  \n",
       "1  [['people', 'die', 'coronavirus', 'gravestones...  2020-03-11  \n",
       "2  [['authackeray', 'officeofut', 'prevention', '...  2020-03-07  \n",
       "3  [['sobering', 'assessment'], ['country', 'cont...  2020-03-11  \n",
       "4  [['good', 'beat', 'covid', 'alaskans', 'going'...  2020-03-11  "
      ]
     },
     "execution_count": 523,
     "metadata": {},
     "output_type": "execute_result"
    }
   ],
   "source": [
    "tweets.head()"
   ]
  },
  {
   "cell_type": "code",
   "execution_count": 431,
   "metadata": {},
   "outputs": [
    {
     "name": "stdout",
     "output_type": "stream",
     "text": [
      "Size of t_early data (4144, 12)\n",
      "Size of t_middle data (38555, 12)\n",
      "Size of t_late data (52327, 12)\n",
      "Size of tweets data (95026, 12)\n"
     ]
    }
   ],
   "source": [
    "print('Size of t_early data', t_early.shape)\n",
    "print('Size of t_middle data', t_middle.shape)\n",
    "print('Size of t_late data', t_late.shape)\n",
    "print('Size of tweets data', tweets.shape)"
   ]
  },
  {
   "cell_type": "markdown",
   "metadata": {},
   "source": [
    "# Word2Vec"
   ]
  },
  {
   "cell_type": "markdown",
   "metadata": {},
   "source": [
    "In this part, We will use the gensim implementation of Word2Vec.\n",
    "\n",
    "To load our data we give all the sentences to the trainer:"
   ]
  },
  {
   "cell_type": "code",
   "execution_count": 471,
   "metadata": {},
   "outputs": [],
   "source": [
    "t_early=pd.read_csv('/Users/sunny/CCA 2020/early.csv')"
   ]
  },
  {
   "cell_type": "code",
   "execution_count": 474,
   "metadata": {},
   "outputs": [
    {
     "data": {
      "text/html": [
       "<div>\n",
       "<style scoped>\n",
       "    .dataframe tbody tr th:only-of-type {\n",
       "        vertical-align: middle;\n",
       "    }\n",
       "\n",
       "    .dataframe tbody tr th {\n",
       "        vertical-align: top;\n",
       "    }\n",
       "\n",
       "    .dataframe thead th {\n",
       "        text-align: right;\n",
       "    }\n",
       "</style>\n",
       "<table border=\"1\" class=\"dataframe\">\n",
       "  <thead>\n",
       "    <tr style=\"text-align: right;\">\n",
       "      <th></th>\n",
       "      <th>Unnamed: 0</th>\n",
       "      <th>status_id</th>\n",
       "      <th>user_id</th>\n",
       "      <th>created_at</th>\n",
       "      <th>screen_name</th>\n",
       "      <th>text</th>\n",
       "      <th>followers_count</th>\n",
       "      <th>friends_count</th>\n",
       "      <th>clean_text</th>\n",
       "      <th>sentiment_scores</th>\n",
       "      <th>sentiment</th>\n",
       "      <th>tokenized_text</th>\n",
       "      <th>normalized_tokens</th>\n",
       "      <th>reduced_tokens</th>\n",
       "    </tr>\n",
       "  </thead>\n",
       "  <tbody>\n",
       "    <tr>\n",
       "      <td>0</td>\n",
       "      <td>0</td>\n",
       "      <td>1236600394521939968</td>\n",
       "      <td>1113032338844385280</td>\n",
       "      <td>2020-03-08T10:31:23Z</td>\n",
       "      <td>GarySch47413717</td>\n",
       "      <td>I remember this with a shudder. A superb Ben E...</td>\n",
       "      <td>155</td>\n",
       "      <td>197</td>\n",
       "      <td>remember shudder superb ben elton sketch last ...</td>\n",
       "      <td>{'neg': 0.252, 'neu': 0.579, 'pos': 0.169, 'co...</td>\n",
       "      <td>-1</td>\n",
       "      <td>['I', 'remember', 'this', 'with', 'a', 'shudde...</td>\n",
       "      <td>['remember', 'shudder', 'superb', 'ben', 'elto...</td>\n",
       "      <td>['remember', 'way', 'covid_19']</td>\n",
       "    </tr>\n",
       "    <tr>\n",
       "      <td>1</td>\n",
       "      <td>1</td>\n",
       "      <td>1237699213489823744</td>\n",
       "      <td>1215211250935828480</td>\n",
       "      <td>2020-03-11T11:17:42Z</td>\n",
       "      <td>KritikaSiroliya</td>\n",
       "      <td>People who die because of Coronavirus should h...</td>\n",
       "      <td>13</td>\n",
       "      <td>57</td>\n",
       "      <td>people die coronavirus gravestones say quarand...</td>\n",
       "      <td>{'neg': 0.474, 'neu': 0.526, 'pos': 0.0, 'comp...</td>\n",
       "      <td>-1</td>\n",
       "      <td>['People', 'who', 'die', 'because', 'of', 'Cor...</td>\n",
       "      <td>['people', 'die', 'coronavirus', 'gravestone',...</td>\n",
       "      <td>['people', 'die', 'coronavirus', 'coronavirus']</td>\n",
       "    </tr>\n",
       "    <tr>\n",
       "      <td>2</td>\n",
       "      <td>2</td>\n",
       "      <td>1236395251008323584</td>\n",
       "      <td>324812029</td>\n",
       "      <td>2020-03-07T20:56:13Z</td>\n",
       "      <td>kumar_2302</td>\n",
       "      <td>@AUThackeray @OfficeofUT \\n\\nPrevention is bet...</td>\n",
       "      <td>38</td>\n",
       "      <td>106</td>\n",
       "      <td>authackeray officeofut prevention better cure ...</td>\n",
       "      <td>{'neg': 0.0, 'neu': 0.754, 'pos': 0.246, 'comp...</td>\n",
       "      <td>1</td>\n",
       "      <td>['@AUThackeray', '@OfficeofUT', 'Prevention', ...</td>\n",
       "      <td>['@authackeray', '@officeofut', 'prevention', ...</td>\n",
       "      <td>['prevention', 'cure', 'urge', 'amp', 'school'...</td>\n",
       "    </tr>\n",
       "    <tr>\n",
       "      <td>3</td>\n",
       "      <td>3</td>\n",
       "      <td>1237793147825967104</td>\n",
       "      <td>386850910</td>\n",
       "      <td>2020-03-11T17:30:58Z</td>\n",
       "      <td>HEARDatUNSW</td>\n",
       "      <td>Sobering assessment; every country should be d...</td>\n",
       "      <td>2712</td>\n",
       "      <td>4994</td>\n",
       "      <td>sobering assessment every country still contai...</td>\n",
       "      <td>{'neg': 0.129, 'neu': 0.719, 'pos': 0.151, 'co...</td>\n",
       "      <td>-1</td>\n",
       "      <td>['Sobering', 'assessment', 'every', 'country',...</td>\n",
       "      <td>['sober', 'assessment', 'country', 'contain', ...</td>\n",
       "      <td>['country', 'contain', 'mitigate', 'impact']</td>\n",
       "    </tr>\n",
       "    <tr>\n",
       "      <td>4</td>\n",
       "      <td>4</td>\n",
       "      <td>1237866955127701506</td>\n",
       "      <td>19526523</td>\n",
       "      <td>2020-03-11T22:24:15Z</td>\n",
       "      <td>mspanish</td>\n",
       "      <td>Even if we get a good beat on #covid19, Alaska...</td>\n",
       "      <td>713</td>\n",
       "      <td>247</td>\n",
       "      <td>even good beat covid alaskans going take huge ...</td>\n",
       "      <td>{'neg': 0.0, 'neu': 0.78, 'pos': 0.22, 'compou...</td>\n",
       "      <td>1</td>\n",
       "      <td>['Even', 'if', 'we', 'get', 'a', 'good', 'beat...</td>\n",
       "      <td>['good', 'beat', 'covid19', 'alaskans', 'go', ...</td>\n",
       "      <td>['good', 'huge', 'financial', 'hit', 'oil', 'w...</td>\n",
       "    </tr>\n",
       "  </tbody>\n",
       "</table>\n",
       "</div>"
      ],
      "text/plain": [
       "   Unnamed: 0            status_id              user_id            created_at  \\\n",
       "0           0  1236600394521939968  1113032338844385280  2020-03-08T10:31:23Z   \n",
       "1           1  1237699213489823744  1215211250935828480  2020-03-11T11:17:42Z   \n",
       "2           2  1236395251008323584            324812029  2020-03-07T20:56:13Z   \n",
       "3           3  1237793147825967104            386850910  2020-03-11T17:30:58Z   \n",
       "4           4  1237866955127701506             19526523  2020-03-11T22:24:15Z   \n",
       "\n",
       "       screen_name                                               text  \\\n",
       "0  GarySch47413717  I remember this with a shudder. A superb Ben E...   \n",
       "1  KritikaSiroliya  People who die because of Coronavirus should h...   \n",
       "2       kumar_2302  @AUThackeray @OfficeofUT \\n\\nPrevention is bet...   \n",
       "3      HEARDatUNSW  Sobering assessment; every country should be d...   \n",
       "4         mspanish  Even if we get a good beat on #covid19, Alaska...   \n",
       "\n",
       "   followers_count  friends_count  \\\n",
       "0              155            197   \n",
       "1               13             57   \n",
       "2               38            106   \n",
       "3             2712           4994   \n",
       "4              713            247   \n",
       "\n",
       "                                          clean_text  \\\n",
       "0  remember shudder superb ben elton sketch last ...   \n",
       "1  people die coronavirus gravestones say quarand...   \n",
       "2  authackeray officeofut prevention better cure ...   \n",
       "3  sobering assessment every country still contai...   \n",
       "4  even good beat covid alaskans going take huge ...   \n",
       "\n",
       "                                    sentiment_scores  sentiment  \\\n",
       "0  {'neg': 0.252, 'neu': 0.579, 'pos': 0.169, 'co...         -1   \n",
       "1  {'neg': 0.474, 'neu': 0.526, 'pos': 0.0, 'comp...         -1   \n",
       "2  {'neg': 0.0, 'neu': 0.754, 'pos': 0.246, 'comp...          1   \n",
       "3  {'neg': 0.129, 'neu': 0.719, 'pos': 0.151, 'co...         -1   \n",
       "4  {'neg': 0.0, 'neu': 0.78, 'pos': 0.22, 'compou...          1   \n",
       "\n",
       "                                      tokenized_text  \\\n",
       "0  ['I', 'remember', 'this', 'with', 'a', 'shudde...   \n",
       "1  ['People', 'who', 'die', 'because', 'of', 'Cor...   \n",
       "2  ['@AUThackeray', '@OfficeofUT', 'Prevention', ...   \n",
       "3  ['Sobering', 'assessment', 'every', 'country',...   \n",
       "4  ['Even', 'if', 'we', 'get', 'a', 'good', 'beat...   \n",
       "\n",
       "                                   normalized_tokens  \\\n",
       "0  ['remember', 'shudder', 'superb', 'ben', 'elto...   \n",
       "1  ['people', 'die', 'coronavirus', 'gravestone',...   \n",
       "2  ['@authackeray', '@officeofut', 'prevention', ...   \n",
       "3  ['sober', 'assessment', 'country', 'contain', ...   \n",
       "4  ['good', 'beat', 'covid19', 'alaskans', 'go', ...   \n",
       "\n",
       "                                      reduced_tokens  \n",
       "0                    ['remember', 'way', 'covid_19']  \n",
       "1    ['people', 'die', 'coronavirus', 'coronavirus']  \n",
       "2  ['prevention', 'cure', 'urge', 'amp', 'school'...  \n",
       "3       ['country', 'contain', 'mitigate', 'impact']  \n",
       "4  ['good', 'huge', 'financial', 'hit', 'oil', 'w...  "
      ]
     },
     "execution_count": 474,
     "metadata": {},
     "output_type": "execute_result"
    }
   ],
   "source": [
    "t_early.head()"
   ]
  },
  {
   "cell_type": "code",
   "execution_count": 452,
   "metadata": {},
   "outputs": [],
   "source": [
    "t_middle_w2v = gensim.models.word2vec.Word2Vec.load(\"t_middle_w2v\")\n",
    "t_late_w2v = gensim.models.word2vec.Word2Vec.load(\"t_late_w2v\")"
   ]
  },
  {
   "cell_type": "code",
   "execution_count": 458,
   "metadata": {
    "scrolled": true
   },
   "outputs": [
    {
     "name": "stdout",
     "output_type": "stream",
     "text": [
      "0.2846956\n"
     ]
    }
   ],
   "source": [
    "print(t_middle_w2v.similarity('italy', 'covid'))"
   ]
  },
  {
   "cell_type": "code",
   "execution_count": 459,
   "metadata": {},
   "outputs": [
    {
     "name": "stdout",
     "output_type": "stream",
     "text": [
      "0.34508565\n"
     ]
    }
   ],
   "source": [
    "print(t_late_w2v.similarity('italy', 'covid'))"
   ]
  },
  {
   "cell_type": "code",
   "execution_count": 477,
   "metadata": {},
   "outputs": [],
   "source": [
    "t_early_w2v = gensim.models.word2vec.Word2Vec(t_early['normalized_tokens'].sum())"
   ]
  },
  {
   "cell_type": "code",
   "execution_count": 432,
   "metadata": {},
   "outputs": [],
   "source": [
    "t_early_w2v = gensim.models.word2vec.Word2Vec(t_early['normalized_sents'].sum())\n",
    "t_middle_w2v = gensim.models.word2vec.Word2Vec(t_middle['normalized_sents'].sum())\n",
    "t_late_w2v = gensim.models.word2vec.Word2Vec(t_late['normalized_sents'].sum())"
   ]
  },
  {
   "cell_type": "markdown",
   "metadata": {},
   "source": [
    "## *early*"
   ]
  },
  {
   "cell_type": "code",
   "execution_count": 478,
   "metadata": {},
   "outputs": [
    {
     "data": {
      "text/plain": [
       "[\"'\",\n",
       " ',',\n",
       " ' ',\n",
       " 'e',\n",
       " 'o',\n",
       " 'a',\n",
       " 't',\n",
       " 'i',\n",
       " 'r',\n",
       " 'c',\n",
       " 'n',\n",
       " 's',\n",
       " 'l',\n",
       " 'd',\n",
       " 'u',\n",
       " 'p',\n",
       " 'v',\n",
       " 'h',\n",
       " 'm',\n",
       " '/']"
      ]
     },
     "execution_count": 478,
     "metadata": {},
     "output_type": "execute_result"
    }
   ],
   "source": [
    "t_early_w2v.wv.index2word[:20] "
   ]
  },
  {
   "cell_type": "code",
   "execution_count": 454,
   "metadata": {},
   "outputs": [
    {
     "data": {
      "text/plain": [
       "['coronavirus',\n",
       " 'covid',\n",
       " 'people',\n",
       " 'coronaviruspandemic',\n",
       " 'amp',\n",
       " 'coronavirusoutbreak',\n",
       " 'nt',\n",
       " 'time',\n",
       " 'home',\n",
       " 'virus',\n",
       " 'pandemic',\n",
       " 'need',\n",
       " 'cases',\n",
       " 'help',\n",
       " 'm',\n",
       " 'health',\n",
       " 'new',\n",
       " 'trump',\n",
       " 'stay',\n",
       " 'know']"
      ]
     },
     "execution_count": 454,
     "metadata": {},
     "output_type": "execute_result"
    }
   ],
   "source": [
    "# All words contained here\n",
    "t_middle_w2v.wv.index2word[:20] "
   ]
  },
  {
   "cell_type": "code",
   "execution_count": 480,
   "metadata": {},
   "outputs": [
    {
     "data": {
      "text/plain": [
       "['covid',\n",
       " 'coronavirus',\n",
       " 'people',\n",
       " 'amp',\n",
       " 'coronaviruspandemic',\n",
       " 'nt',\n",
       " 'cases',\n",
       " 'home',\n",
       " 'pandemic',\n",
       " 'new',\n",
       " 'time',\n",
       " 'help',\n",
       " 'stay',\n",
       " 'need',\n",
       " 'lockdown',\n",
       " 'health',\n",
       " 'virus',\n",
       " 'coronavirusoutbreak',\n",
       " 'world',\n",
       " 'support',\n",
       " 'day',\n",
       " 'trump',\n",
       " 'm',\n",
       " 'covidー',\n",
       " 'china',\n",
       " '️',\n",
       " 'today',\n",
       " 'spread',\n",
       " 'stayhome',\n",
       " 'know',\n",
       " 'deaths',\n",
       " 'quarantine',\n",
       " 'corona',\n",
       " 'safe',\n",
       " 'work',\n",
       " 'crisis',\n",
       " 'italy',\n",
       " 'going',\n",
       " 's',\n",
       " 'realdonaldtrump']"
      ]
     },
     "execution_count": 480,
     "metadata": {},
     "output_type": "execute_result"
    }
   ],
   "source": [
    "t_late_w2v.wv.index2word[:40] "
   ]
  },
  {
   "cell_type": "markdown",
   "metadata": {},
   "source": [
    "Inside the word2vec object the words each have a vector. To access the vector directly, use the square braces (__getitem__) method:"
   ]
  },
  {
   "cell_type": "markdown",
   "metadata": {},
   "source": [
    "If you want the full matrix, syn0 stores all the vectors:"
   ]
  },
  {
   "cell_type": "code",
   "execution_count": 42,
   "metadata": {},
   "outputs": [
    {
     "data": {
      "text/plain": [
       "array([[ 1.63226932e-01, -1.16290428e-01, -6.18352413e-01, ...,\n",
       "        -6.95615336e-02,  3.61301154e-01,  3.70011330e-01],\n",
       "       [ 1.45105392e-01, -9.60146710e-02, -5.61629593e-01, ...,\n",
       "        -6.49905577e-02,  3.23455691e-01,  3.39883149e-01],\n",
       "       [ 1.56325936e-01, -1.04804106e-01, -5.72453976e-01, ...,\n",
       "        -6.99788257e-02,  3.31911892e-01,  3.42949301e-01],\n",
       "       ...,\n",
       "       [ 1.60827935e-02, -1.05341813e-02, -4.55080904e-02, ...,\n",
       "        -9.36503347e-05,  2.61557885e-02,  2.21507382e-02],\n",
       "       [ 1.00528626e-02, -6.73499843e-03, -4.79456969e-02, ...,\n",
       "        -9.59779974e-03,  2.60748640e-02,  3.11321020e-02],\n",
       "       [ 4.04626504e-03, -2.93835346e-03, -2.35369010e-03, ...,\n",
       "         3.66975274e-03, -1.16809667e-03,  3.56321153e-03]], dtype=float32)"
      ]
     },
     "execution_count": 42,
     "metadata": {},
     "output_type": "execute_result"
    }
   ],
   "source": [
    "t_early_w2v.wv.syn0"
   ]
  },
  {
   "cell_type": "code",
   "execution_count": 41,
   "metadata": {},
   "outputs": [
    {
     "data": {
      "text/plain": [
       "'virus'"
      ]
     },
     "execution_count": 41,
     "metadata": {},
     "output_type": "execute_result"
    }
   ],
   "source": [
    "t_early_w2v.wv.index2word[7]"
   ]
  },
  {
   "cell_type": "code",
   "execution_count": 414,
   "metadata": {},
   "outputs": [],
   "source": [
    "t_early_w2v.save(\"t_early_w2v\")"
   ]
  },
  {
   "cell_type": "markdown",
   "metadata": {},
   "source": [
    "**Most similar words**"
   ]
  },
  {
   "cell_type": "code",
   "execution_count": 49,
   "metadata": {
    "scrolled": true
   },
   "outputs": [
    {
     "data": {
      "text/plain": [
       "[('amp', 0.9998902082443237),\n",
       " ('good', 0.9998898506164551),\n",
       " ('time', 0.9998846054077148),\n",
       " ('risk', 0.9998832941055298),\n",
       " ('infected', 0.9998812675476074),\n",
       " ('people', 0.9998801946640015),\n",
       " ('home', 0.9998794198036194),\n",
       " ('realdonaldtrump', 0.9998774528503418),\n",
       " ('travel', 0.9998734593391418),\n",
       " ('news', 0.9998728632926941),\n",
       " ('coronavirusoutbreak', 0.9998726844787598),\n",
       " ('going', 0.9998713731765747),\n",
       " ('work', 0.9998711347579956),\n",
       " ('disease', 0.9998705983161926),\n",
       " ('events', 0.9998697638511658),\n",
       " ('public', 0.9998685717582703),\n",
       " ('today', 0.9998675584793091),\n",
       " ('measures', 0.9998674392700195),\n",
       " ('want', 0.9998674392700195),\n",
       " ('let', 0.9998658895492554)]"
      ]
     },
     "execution_count": 49,
     "metadata": {},
     "output_type": "execute_result"
    }
   ],
   "source": [
    "t_early_w2v.most_similar('mask',topn=20)"
   ]
  },
  {
   "cell_type": "code",
   "execution_count": 460,
   "metadata": {
    "scrolled": true
   },
   "outputs": [
    {
     "data": {
      "text/plain": [
       "[('wear', 0.9858874678611755),\n",
       " ('sanitize', 0.9849362373352051),\n",
       " ('seconds', 0.9805561304092407),\n",
       " ('ur', 0.9802078008651733),\n",
       " ('nose', 0.9786962270736694),\n",
       " ('kind', 0.9784952402114868),\n",
       " ('touch', 0.9781644940376282),\n",
       " ('drink', 0.9773752689361572),\n",
       " ('thoroughly', 0.9765998125076294),\n",
       " ('sensible', 0.9763309955596924),\n",
       " ('🍃', 0.9758017063140869),\n",
       " ('eat', 0.9757019281387329),\n",
       " ('wearing', 0.974125862121582),\n",
       " ('clean', 0.9724180698394775),\n",
       " ('plenty', 0.9715790748596191),\n",
       " ('disinfect', 0.9714343547821045),\n",
       " ('regularly', 0.9712313413619995),\n",
       " ('touching', 0.9707162380218506),\n",
       " ('warm', 0.9693801403045654),\n",
       " ('bath', 0.9692705869674683)]"
      ]
     },
     "execution_count": 460,
     "metadata": {},
     "output_type": "execute_result"
    }
   ],
   "source": [
    "t_middle_w2v.most_similar('mask',topn=20)"
   ]
  },
  {
   "cell_type": "code",
   "execution_count": 461,
   "metadata": {},
   "outputs": [
    {
     "data": {
      "text/plain": [
       "[('wear', 0.967120349407196),\n",
       " ('face', 0.9614160656929016),\n",
       " ('wearing', 0.9601844549179077),\n",
       " ('gloves', 0.9428987503051758),\n",
       " ('n', 0.9079297780990601),\n",
       " ('masks', 0.8997634649276733),\n",
       " ('sanitizer', 0.8979142308235168),\n",
       " ('surgical', 0.8917690515518188),\n",
       " ('hand', 0.8855747580528259),\n",
       " ('nose', 0.8747954368591309),\n",
       " ('water', 0.8602918386459351),\n",
       " ('capes', 0.8543741703033447),\n",
       " ('wore', 0.84669429063797),\n",
       " ('touching', 0.8457788825035095),\n",
       " ('use', 0.8438397645950317),\n",
       " ('buy', 0.840024471282959),\n",
       " ('shields', 0.8393199443817139),\n",
       " ('touch', 0.838141679763794),\n",
       " ('soap', 0.8369647264480591),\n",
       " ('sew', 0.831843376159668)]"
      ]
     },
     "execution_count": 461,
     "metadata": {},
     "output_type": "execute_result"
    }
   ],
   "source": [
    "t_late_w2v.most_similar('mask',topn=20)"
   ]
  },
  {
   "cell_type": "code",
   "execution_count": 51,
   "metadata": {},
   "outputs": [
    {
     "data": {
      "text/plain": [
       "[('people', 0.9999382495880127),\n",
       " ('amp', 0.9999343752861023),\n",
       " ('good', 0.9999293088912964),\n",
       " ('care', 0.9999274015426636),\n",
       " ('going', 0.9999245405197144),\n",
       " ('day', 0.9999244213104248),\n",
       " ('time', 0.9999239444732666),\n",
       " ('help', 0.9999208450317383),\n",
       " ('world', 0.9999189376831055),\n",
       " ('response', 0.9999170899391174),\n",
       " ('nt', 0.9999159574508667),\n",
       " ('health', 0.9999151229858398),\n",
       " ('need', 0.9999145269393921),\n",
       " ('virus', 0.9999116659164429),\n",
       " ('said', 0.9999115467071533),\n",
       " ('days', 0.9999114871025085),\n",
       " ('social', 0.9999113082885742),\n",
       " ('stop', 0.9999112486839294),\n",
       " ('public', 0.9999111294746399),\n",
       " ('trump', 0.9999095797538757)]"
      ]
     },
     "execution_count": 51,
     "metadata": {},
     "output_type": "execute_result"
    }
   ],
   "source": [
    "t_early_w2v.most_similar('home',topn=20)"
   ]
  },
  {
   "cell_type": "code",
   "execution_count": 56,
   "metadata": {},
   "outputs": [
    {
     "data": {
      "text/plain": [
       "[('die', 0.9993382096290588),\n",
       " ('away', 0.9993132948875427),\n",
       " ('m', 0.9993005394935608),\n",
       " ('think', 0.9992945194244385),\n",
       " ('italy', 0.9992908239364624),\n",
       " ('fear', 0.9992795586585999),\n",
       " ('tested', 0.9992743730545044),\n",
       " ('data', 0.9992733001708984),\n",
       " ('cancelled', 0.9992719888687134),\n",
       " ('getting', 0.9992671012878418),\n",
       " ('want', 0.9992666840553284),\n",
       " ('times', 0.9992642402648926),\n",
       " ('care', 0.9992638826370239),\n",
       " ('realdonaldtrump', 0.9992605447769165),\n",
       " ('coronavirus', 0.999258816242218),\n",
       " ('india', 0.999258279800415),\n",
       " ('covidー', 0.9992527365684509),\n",
       " ('virus', 0.9992525577545166),\n",
       " ('response', 0.999252438545227),\n",
       " ('need', 0.9992511868476868)]"
      ]
     },
     "execution_count": 56,
     "metadata": {},
     "output_type": "execute_result"
    }
   ],
   "source": [
    "t_early_w2v.most_similar('employment',topn=20)"
   ]
  },
  {
   "cell_type": "code",
   "execution_count": 58,
   "metadata": {
    "collapsed": true
   },
   "outputs": [
    {
     "data": {
      "text/plain": [
       "[('today', 0.9999427795410156),\n",
       " ('amp', 0.9999422430992126),\n",
       " ('covid', 0.9999370574951172),\n",
       " ('days', 0.9999346733093262),\n",
       " ('world', 0.9999346733093262),\n",
       " ('trump', 0.9999333620071411),\n",
       " ('virus', 0.999932587146759),\n",
       " ('public', 0.9999325275421143),\n",
       " ('state', 0.9999310970306396),\n",
       " ('good', 0.9999294281005859),\n",
       " ('need', 0.9999276399612427),\n",
       " ('coronavirusoutbreak', 0.9999273419380188),\n",
       " ('travel', 0.9999265074729919),\n",
       " ('realdonaldtrump', 0.9999251365661621),\n",
       " ('people', 0.9999246001243591),\n",
       " ('s', 0.99992436170578),\n",
       " ('care', 0.999923825263977),\n",
       " ('medical', 0.9999215602874756),\n",
       " ('coronavirus', 0.9999212622642517),\n",
       " ('nt', 0.9999210238456726)]"
      ]
     },
     "execution_count": 58,
     "metadata": {},
     "output_type": "execute_result"
    }
   ],
   "source": [
    "t_early_w2v.most_similar('health',topn=20)"
   ]
  },
  {
   "cell_type": "code",
   "execution_count": 59,
   "metadata": {
    "collapsed": true
   },
   "outputs": [
    {
     "data": {
      "text/plain": [
       "[('virus', 0.999919056892395),\n",
       " ('public', 0.9999136328697205),\n",
       " ('people', 0.9999065399169922),\n",
       " ('need', 0.9999006390571594),\n",
       " ('amp', 0.9999006390571594),\n",
       " ('italy', 0.999900221824646),\n",
       " ('health', 0.9998992681503296),\n",
       " ('coronavirus', 0.999894380569458),\n",
       " ('days', 0.9998915195465088),\n",
       " ('uk', 0.9998911619186401),\n",
       " ('care', 0.9998905658721924),\n",
       " ('flu', 0.9998903870582581),\n",
       " ('covid', 0.9998888969421387),\n",
       " ('spread', 0.9998885989189148),\n",
       " ('state', 0.9998881220817566),\n",
       " ('time', 0.9998878836631775),\n",
       " ('s', 0.9998878240585327),\n",
       " ('travel', 0.9998857378959656),\n",
       " ('said', 0.9998840093612671),\n",
       " ('world', 0.999883770942688)]"
      ]
     },
     "execution_count": 59,
     "metadata": {},
     "output_type": "execute_result"
    }
   ],
   "source": [
    "t_early_w2v.most_similar('hospital',topn=20)"
   ]
  },
  {
   "cell_type": "code",
   "execution_count": 60,
   "metadata": {
    "collapsed": true
   },
   "outputs": [
    {
     "data": {
      "text/plain": [
       "[('people', 0.9999161958694458),\n",
       " ('days', 0.9999080896377563),\n",
       " ('italy', 0.9999054074287415),\n",
       " ('need', 0.9999039769172668),\n",
       " ('travel', 0.9999028444290161),\n",
       " ('public', 0.9999025464057922),\n",
       " ('amp', 0.999899685382843),\n",
       " ('day', 0.9998995065689087),\n",
       " ('care', 0.9998987913131714),\n",
       " ('coronavirusoutbreak', 0.9998986721038818),\n",
       " ('s', 0.9998934268951416),\n",
       " ('world', 0.9998931884765625),\n",
       " ('time', 0.9998912811279297),\n",
       " ('disease', 0.9998911619186401),\n",
       " ('work', 0.9998911619186401),\n",
       " ('covid', 0.9998908638954163),\n",
       " ('state', 0.999889612197876),\n",
       " ('said', 0.9998894333839417),\n",
       " ('countries', 0.9998888373374939),\n",
       " ('medical', 0.9998887777328491)]"
      ]
     },
     "execution_count": 60,
     "metadata": {},
     "output_type": "execute_result"
    }
   ],
   "source": [
    "t_early_w2v.most_similar('quarantine',topn=20)"
   ]
  },
  {
   "cell_type": "markdown",
   "metadata": {},
   "source": [
    "**Word that is most different from the set**"
   ]
  },
  {
   "cell_type": "code",
   "execution_count": 62,
   "metadata": {},
   "outputs": [
    {
     "name": "stdout",
     "output_type": "stream",
     "text": [
      "0.9992413\n"
     ]
    }
   ],
   "source": [
    "print(t_early_w2v.similarity('employment', 'covid'))"
   ]
  },
  {
   "cell_type": "code",
   "execution_count": 63,
   "metadata": {},
   "outputs": [
    {
     "name": "stdout",
     "output_type": "stream",
     "text": [
      "0.99989086\n"
     ]
    }
   ],
   "source": [
    "print(t_early_w2v.similarity('quarantine', 'covid'))"
   ]
  },
  {
   "cell_type": "code",
   "execution_count": 64,
   "metadata": {
    "scrolled": true
   },
   "outputs": [
    {
     "name": "stdout",
     "output_type": "stream",
     "text": [
      "0.99988896\n"
     ]
    }
   ],
   "source": [
    "print(t_early_w2v.similarity('hospital', 'covid'))"
   ]
  },
  {
   "cell_type": "code",
   "execution_count": 462,
   "metadata": {
    "scrolled": true
   },
   "outputs": [
    {
     "name": "stdout",
     "output_type": "stream",
     "text": [
      "0.47449237\n"
     ]
    }
   ],
   "source": [
    "print(t_middle_w2v.similarity('coronavirus', 'mask'))"
   ]
  },
  {
   "cell_type": "code",
   "execution_count": 463,
   "metadata": {},
   "outputs": [
    {
     "name": "stdout",
     "output_type": "stream",
     "text": [
      "0.12753427\n"
     ]
    }
   ],
   "source": [
    "print(t_late_w2v.similarity('coronavirus', 'mask'))"
   ]
  },
  {
   "cell_type": "code",
   "execution_count": 65,
   "metadata": {},
   "outputs": [
    {
     "name": "stdout",
     "output_type": "stream",
     "text": [
      "0.9998476\n"
     ]
    }
   ],
   "source": [
    "print(t_early_w2v.similarity('coronavirus', 'mask'))"
   ]
  },
  {
   "cell_type": "code",
   "execution_count": 66,
   "metadata": {},
   "outputs": [
    {
     "name": "stdout",
     "output_type": "stream",
     "text": [
      "0.9998794\n"
     ]
    }
   ],
   "source": [
    "print(t_early_w2v.similarity('quarantine', 'home'))"
   ]
  },
  {
   "cell_type": "code",
   "execution_count": 69,
   "metadata": {},
   "outputs": [
    {
     "name": "stdout",
     "output_type": "stream",
     "text": [
      "0.9998653\n"
     ]
    }
   ],
   "source": [
    "print(t_early_w2v.similarity('mask', 'need'))"
   ]
  },
  {
   "cell_type": "markdown",
   "metadata": {},
   "source": [
    "**word relations**"
   ]
  },
  {
   "cell_type": "code",
   "execution_count": 71,
   "metadata": {},
   "outputs": [
    {
     "data": {
      "text/plain": [
       "[('die', 0.9991424083709717),\n",
       " ('away', 0.9991337656974792),\n",
       " ('fear', 0.9991298317909241),\n",
       " ('m', 0.9991172552108765),\n",
       " ('italy', 0.9991074800491333),\n",
       " ('cancelled', 0.9991071224212646),\n",
       " ('think', 0.9991060495376587),\n",
       " ('want', 0.9991023540496826),\n",
       " ('data', 0.9991004467010498),\n",
       " ('response', 0.999096691608429)]"
      ]
     },
     "execution_count": 71,
     "metadata": {},
     "output_type": "execute_result"
    }
   ],
   "source": [
    "# 'coronavirus'+'unemployment' - 'quarantine'\n",
    "t_early_w2v.most_similar(positive = ['coronavirus','employment'], negative = ['quarantine'], topn = 10)"
   ]
  },
  {
   "cell_type": "code",
   "execution_count": 464,
   "metadata": {
    "scrolled": true
   },
   "outputs": [
    {
     "data": {
      "text/plain": [
       "[('economic', 0.8247387409210205),\n",
       " ('global', 0.8133828043937683),\n",
       " ('declared', 0.810341477394104),\n",
       " ('economy', 0.8101247549057007),\n",
       " ('funds', 0.8061999082565308),\n",
       " ('drtedros', 0.7959733605384827),\n",
       " ('classified', 0.795128583908081),\n",
       " ('usnews', 0.7911975383758545),\n",
       " ('declares', 0.789726972579956),\n",
       " ('praises', 0.788289487361908)]"
      ]
     },
     "execution_count": 464,
     "metadata": {},
     "output_type": "execute_result"
    }
   ],
   "source": [
    "t_middle_w2v.most_similar(positive = ['coronavirus','employment'], negative = ['quarantine'], topn = 10)"
   ]
  },
  {
   "cell_type": "code",
   "execution_count": 465,
   "metadata": {},
   "outputs": [
    {
     "data": {
      "text/plain": [
       "[('global', 0.807831346988678),\n",
       " ('humanitarian', 0.7811460494995117),\n",
       " ('funds', 0.7688217163085938),\n",
       " ('current', 0.76557856798172),\n",
       " ('combined', 0.7651761770248413),\n",
       " ('financial', 0.7604192495346069),\n",
       " ('facing', 0.7594742774963379),\n",
       " ('coordinated', 0.7592013478279114),\n",
       " ('dispatched', 0.7566924691200256),\n",
       " ('immediate', 0.7556937336921692)]"
      ]
     },
     "execution_count": 465,
     "metadata": {},
     "output_type": "execute_result"
    }
   ],
   "source": [
    "t_late_w2v.most_similar(positive = ['coronavirus','employment'], negative = ['quarantine'], topn = 10)"
   ]
  },
  {
   "cell_type": "markdown",
   "metadata": {},
   "source": [
    "**visualize**"
   ]
  },
  {
   "cell_type": "code",
   "execution_count": 72,
   "metadata": {},
   "outputs": [
    {
     "data": {
      "text/plain": [
       "2145"
      ]
     },
     "execution_count": 72,
     "metadata": {},
     "output_type": "execute_result"
    }
   ],
   "source": [
    "len(t_early_w2v.wv.index2word)"
   ]
  },
  {
   "cell_type": "code",
   "execution_count": 73,
   "metadata": {},
   "outputs": [],
   "source": [
    "numWords = 100 \n",
    "targetWords = t_early_w2v.wv.index2word[:numWords]"
   ]
  },
  {
   "cell_type": "code",
   "execution_count": 75,
   "metadata": {},
   "outputs": [
    {
     "data": {
      "text/plain": [
       "array([[ 0.16322693, -0.11629043, -0.6183524 , ..., -0.06956153,\n",
       "         0.36130115,  0.37001133],\n",
       "       [ 0.14510539, -0.09601467, -0.5616296 , ..., -0.06499056,\n",
       "         0.3234557 ,  0.33988315],\n",
       "       [ 0.15632594, -0.10480411, -0.572454  , ..., -0.06997883,\n",
       "         0.3319119 ,  0.3429493 ],\n",
       "       ...,\n",
       "       [ 0.08857566, -0.06146147, -0.32874492, ..., -0.03564436,\n",
       "         0.18923618,  0.19938326],\n",
       "       [ 0.08881623, -0.05360539, -0.32891825, ..., -0.03335999,\n",
       "         0.19133604,  0.19659607],\n",
       "       [ 0.08744194, -0.05633709, -0.32238993, ..., -0.0351497 ,\n",
       "         0.19160405,  0.19956177]], dtype=float32)"
      ]
     },
     "execution_count": 75,
     "metadata": {},
     "output_type": "execute_result"
    }
   ],
   "source": [
    "wordsSubMatrix = []\n",
    "for word in targetWords:\n",
    "    wordsSubMatrix.append(t_early_w2v[word])\n",
    "wordsSubMatrix = np.array(wordsSubMatrix)\n",
    "wordsSubMatrix"
   ]
  },
  {
   "cell_type": "code",
   "execution_count": 76,
   "metadata": {},
   "outputs": [],
   "source": [
    "pcaWords = sklearn.decomposition.PCA(n_components = 50).fit(wordsSubMatrix)\n",
    "reducedPCA_data = pcaWords.transform(wordsSubMatrix)\n",
    "#T-SNE is theoretically better, but you should experiment\n",
    "tsneWords = sklearn.manifold.TSNE(n_components = 2).fit_transform(reducedPCA_data)"
   ]
  },
  {
   "cell_type": "code",
   "execution_count": 77,
   "metadata": {},
   "outputs": [],
   "source": [
    "def plot_words(tsneWords):\n",
    "    fig = plt.figure(figsize = (10,6))\n",
    "    ax = fig.add_subplot(111)\n",
    "    ax.set_frame_on(False)\n",
    "    plt.scatter(tsneWords[:, 0], tsneWords[:, 1], alpha = 0)#Making the points invisible \n",
    "    for i, word in enumerate(targetWords):\n",
    "        ax.annotate(word, (tsneWords[:, 0][i],tsneWords[:, 1][i]), size =  20 * (numWords - i) / numWords)\n",
    "    plt.xticks(())\n",
    "    plt.yticks(())\n",
    "    plt.show()"
   ]
  },
  {
   "cell_type": "code",
   "execution_count": 78,
   "metadata": {},
   "outputs": [
    {
     "name": "stderr",
     "output_type": "stream",
     "text": [
      "/Users/sunny/opt/anaconda3/lib/python3.7/site-packages/matplotlib/backends/backend_agg.py:211: RuntimeWarning: Glyph 12540 missing from current font.\n",
      "  font.set_text(s, 0.0, flags=flags)\n",
      "/Users/sunny/opt/anaconda3/lib/python3.7/site-packages/matplotlib/backends/backend_agg.py:180: RuntimeWarning: Glyph 12540 missing from current font.\n",
      "  font.set_text(s, 0, flags=flags)\n"
     ]
    },
    {
     "data": {
      "image/png": "[encoded data removed]",
      "text/plain": [
       "<Figure size 720x432 with 1 Axes>"
      ]
     },
     "metadata": {},
     "output_type": "display_data"
    }
   ],
   "source": [
    "# PCA\n",
    "PCAWords = sklearn.decomposition.PCA(n_components = 2).fit_transform(wordsSubMatrix)\n",
    "plot_words(PCAWords)"
   ]
  },
  {
   "cell_type": "code",
   "execution_count": 79,
   "metadata": {},
   "outputs": [
    {
     "name": "stderr",
     "output_type": "stream",
     "text": [
      "/Users/sunny/opt/anaconda3/lib/python3.7/site-packages/matplotlib/backends/backend_agg.py:211: RuntimeWarning: Glyph 12540 missing from current font.\n",
      "  font.set_text(s, 0.0, flags=flags)\n",
      "/Users/sunny/opt/anaconda3/lib/python3.7/site-packages/matplotlib/backends/backend_agg.py:180: RuntimeWarning: Glyph 12540 missing from current font.\n",
      "  font.set_text(s, 0, flags=flags)\n"
     ]
    },
    {
     "data": {
      "image/png": "[encoded data removed]",
      "text/plain": [
       "<Figure size 720x432 with 1 Axes>"
      ]
     },
     "metadata": {},
     "output_type": "display_data"
    }
   ],
   "source": [
    "# Multidimensional scaling\n",
    "MDSWords = sklearn.manifold.MDS(n_components = 2).fit_transform(reducedPCA_data)\n",
    "plot_words(MDSWords)"
   ]
  },
  {
   "cell_type": "code",
   "execution_count": 80,
   "metadata": {
    "scrolled": true
   },
   "outputs": [
    {
     "data": {
      "image/png": "[encoded data removed]",
      "text/plain": [
       "<Figure size 720x432 with 1 Axes>"
      ]
     },
     "metadata": {},
     "output_type": "display_data"
    }
   ],
   "source": [
    "plot_words(tsneWords)"
   ]
  },
  {
   "cell_type": "markdown",
   "metadata": {},
   "source": [
    "## *middle*"
   ]
  },
  {
   "cell_type": "code",
   "execution_count": 81,
   "metadata": {},
   "outputs": [
    {
     "data": {
      "text/plain": [
       "['coronavirus',\n",
       " 'covid',\n",
       " 'people',\n",
       " 'coronaviruspandemic',\n",
       " 'amp',\n",
       " 'coronavirusoutbreak',\n",
       " 'nt',\n",
       " 'time',\n",
       " 'home',\n",
       " 'virus',\n",
       " 'pandemic',\n",
       " 'need',\n",
       " 'cases',\n",
       " 'help',\n",
       " 'm',\n",
       " 'health',\n",
       " 'new',\n",
       " 'trump',\n",
       " 'stay',\n",
       " 'know']"
      ]
     },
     "execution_count": 81,
     "metadata": {},
     "output_type": "execute_result"
    }
   ],
   "source": [
    "# All words contained here\n",
    "t_middle_w2v.wv.index2word[:20] "
   ]
  },
  {
   "cell_type": "code",
   "execution_count": 82,
   "metadata": {},
   "outputs": [
    {
     "data": {
      "text/plain": [
       "array([-0.49348456,  0.0255612 ,  0.06599437,  0.8144327 , -0.44433025,\n",
       "       -0.2331172 , -0.23514338,  0.3632525 ,  0.16839358, -0.08635192],\n",
       "      dtype=float32)"
      ]
     },
     "execution_count": 82,
     "metadata": {},
     "output_type": "execute_result"
    }
   ],
   "source": [
    "t_middle_w2v['coronavirus'][:10] "
   ]
  },
  {
   "cell_type": "code",
   "execution_count": 83,
   "metadata": {},
   "outputs": [
    {
     "data": {
      "text/plain": [
       "array([[-4.9348456e-01,  2.5561199e-02,  6.5994374e-02, ...,\n",
       "        -4.5959648e-01,  5.3377670e-01,  3.1665513e-01],\n",
       "       [-2.8710532e-01, -2.1960141e-01, -9.1117717e-02, ...,\n",
       "        -6.1468095e-02,  3.2110280e-01, -1.0096670e-01],\n",
       "       [ 2.5215021e-01,  6.5872693e-01, -3.8896951e-01, ...,\n",
       "         1.9220991e-01,  7.3852527e-01,  8.1186724e-01],\n",
       "       ...,\n",
       "       [ 1.0016229e-02,  9.7308746e-03, -4.9911484e-02, ...,\n",
       "        -5.1587604e-02,  8.2920127e-02,  1.6701726e-02],\n",
       "       [-4.3328031e-04,  1.1258202e-02, -1.1741575e-02, ...,\n",
       "        -2.5204502e-02,  3.7352148e-02,  2.4860012e-03],\n",
       "       [-8.4255816e-04,  1.8185548e-02, -2.6574000e-03, ...,\n",
       "        -2.2451445e-02,  3.0652799e-02,  1.3957654e-02]], dtype=float32)"
      ]
     },
     "execution_count": 83,
     "metadata": {},
     "output_type": "execute_result"
    }
   ],
   "source": [
    "t_middle_w2v.wv.syn0"
   ]
  },
  {
   "cell_type": "code",
   "execution_count": 84,
   "metadata": {},
   "outputs": [],
   "source": [
    "t_middle_w2v.save(\"t_middle_w2v\")"
   ]
  },
  {
   "cell_type": "markdown",
   "metadata": {},
   "source": [
    "**Most similar words**"
   ]
  },
  {
   "cell_type": "code",
   "execution_count": 85,
   "metadata": {},
   "outputs": [
    {
     "data": {
      "text/plain": [
       "[('coronavirus', 0.8626343607902527),\n",
       " ('covidindia', 0.8501474857330322),\n",
       " ('coronavirusinindia', 0.8401685953140259),\n",
       " ('coronaindia', 0.8401656150817871),\n",
       " ('narendramodi', 0.8393934965133667),\n",
       " ('coronavirusoutbreak', 0.8345302939414978),\n",
       " ('coronavirusindia', 0.8344253301620483),\n",
       " ('covidtr', 0.8340815305709839),\n",
       " ('coronavirüsü', 0.8314062356948853),\n",
       " ('covidー', 0.8302003145217896),\n",
       " ('coronavirusoutbreakindia', 0.8296473026275635),\n",
       " ('coronaalert', 0.8293160200119019),\n",
       " ('sarscov', 0.8272903561592102),\n",
       " ('novelcoronavirus', 0.8260398507118225),\n",
       " ('coronauk', 0.8245428800582886),\n",
       " ('coronainmaharashtra', 0.8232631087303162),\n",
       " ('coronavirusupdates', 0.8229470252990723),\n",
       " ('shutdownnyc', 0.82228684425354),\n",
       " ('coronaviruspakistan', 0.8219611644744873),\n",
       " ('coronavirusinpakistan', 0.8173189759254456)]"
      ]
     },
     "execution_count": 85,
     "metadata": {},
     "output_type": "execute_result"
    }
   ],
   "source": [
    "t_middle_w2v.most_similar('covid',topn=20)"
   ]
  },
  {
   "cell_type": "code",
   "execution_count": 86,
   "metadata": {},
   "outputs": [
    {
     "data": {
      "text/plain": [
       "[('wear', 0.9858874678611755),\n",
       " ('sanitize', 0.9849362373352051),\n",
       " ('seconds', 0.9805561304092407),\n",
       " ('ur', 0.9802078008651733),\n",
       " ('nose', 0.9786962270736694),\n",
       " ('kind', 0.9784952402114868),\n",
       " ('touch', 0.9781644940376282),\n",
       " ('drink', 0.9773752689361572),\n",
       " ('thoroughly', 0.9765998125076294),\n",
       " ('sensible', 0.9763309955596924),\n",
       " ('🍃', 0.9758017063140869),\n",
       " ('eat', 0.9757019281387329),\n",
       " ('wearing', 0.974125862121582),\n",
       " ('clean', 0.9724180698394775),\n",
       " ('plenty', 0.9715790748596191),\n",
       " ('disinfect', 0.9714343547821045),\n",
       " ('regularly', 0.9712313413619995),\n",
       " ('touching', 0.9707162380218506),\n",
       " ('warm', 0.9693801403045654),\n",
       " ('bath', 0.9692705869674683)]"
      ]
     },
     "execution_count": 86,
     "metadata": {},
     "output_type": "execute_result"
    }
   ],
   "source": [
    "t_middle_w2v.most_similar('mask',topn=20)"
   ]
  },
  {
   "cell_type": "code",
   "execution_count": 87,
   "metadata": {},
   "outputs": [
    {
     "data": {
      "text/plain": [
       "[('tuned', 0.8984594345092773),\n",
       " ('nan', 0.8886526823043823),\n",
       " ('safe', 0.865440845489502),\n",
       " ('away', 0.8497706651687622),\n",
       " ('inside', 0.8330562114715576),\n",
       " ('healthy', 0.830906867980957),\n",
       " ('indoors', 0.817022442817688),\n",
       " ('remotely', 0.81437087059021),\n",
       " ('sane', 0.8035402894020081),\n",
       " ('informed', 0.7821871638298035),\n",
       " ('remote', 0.7819668650627136),\n",
       " ('connected', 0.7784995436668396),\n",
       " ('calm', 0.7719186544418335),\n",
       " ('strong', 0.7698090076446533),\n",
       " ('self', 0.7694422602653503),\n",
       " ('open', 0.7634932994842529),\n",
       " ('needful', 0.7579818367958069),\n",
       " ('afloat', 0.7551501393318176),\n",
       " ('kids', 0.7510143518447876),\n",
       " ('parents', 0.7466272711753845)]"
      ]
     },
     "execution_count": 87,
     "metadata": {},
     "output_type": "execute_result"
    }
   ],
   "source": [
    "t_middle_w2v.most_similar('home',topn=20)"
   ]
  },
  {
   "cell_type": "code",
   "execution_count": 88,
   "metadata": {},
   "outputs": [
    {
     "data": {
      "text/plain": [
       "[('tackling', 0.9934539794921875),\n",
       " ('palestinian', 0.9932538270950317),\n",
       " ('demonstrated', 0.9930591583251953),\n",
       " ('summary', 0.9928123950958252),\n",
       " ('ncnews', 0.992802619934082),\n",
       " ('evolving', 0.9926767349243164),\n",
       " ('surrounding', 0.9923166036605835),\n",
       " ('counter', 0.9921796321868896),\n",
       " ('wordpress', 0.991962730884552),\n",
       " ('slowdown', 0.9919548034667969),\n",
       " ('teamwork', 0.9919338226318359),\n",
       " ('catastrophe', 0.9918642044067383),\n",
       " ('fraud', 0.9916468262672424),\n",
       " ('infectiousdisease', 0.9916419982910156),\n",
       " ('bbhuttozardari', 0.9914300441741943),\n",
       " ('eucommission', 0.9913809299468994),\n",
       " ('regards', 0.9912583231925964),\n",
       " ('implications', 0.9912539720535278),\n",
       " ('mitigation', 0.9909324645996094),\n",
       " ('financialtimes', 0.9907127022743225)]"
      ]
     },
     "execution_count": 88,
     "metadata": {},
     "output_type": "execute_result"
    }
   ],
   "source": [
    "t_middle_w2v.most_similar('employment',topn=20)"
   ]
  },
  {
   "cell_type": "code",
   "execution_count": 89,
   "metadata": {},
   "outputs": [
    {
     "data": {
      "text/plain": [
       "[('public', 0.9178040027618408),\n",
       " ('organization', 0.8528395295143127),\n",
       " ('safety', 0.8522771596908569),\n",
       " ('medical', 0.8454006910324097),\n",
       " ('system', 0.8369561433792114),\n",
       " ('emergency', 0.8356432914733887),\n",
       " ('advice', 0.8335756063461304),\n",
       " ('officials', 0.828551173210144),\n",
       " ('care', 0.8267948627471924),\n",
       " ('healthcare', 0.8220754861831665),\n",
       " ('mental', 0.8195760250091553),\n",
       " ('department', 0.8102734088897705),\n",
       " ('government', 0.8091913461685181),\n",
       " ('transport', 0.8054165840148926),\n",
       " ('underlying', 0.8053796291351318),\n",
       " ('govt', 0.8046690821647644),\n",
       " ('measures', 0.8009821772575378),\n",
       " ('state', 0.7993240356445312),\n",
       " ('hospitals', 0.7971973419189453),\n",
       " ('issues', 0.7932226657867432)]"
      ]
     },
     "execution_count": 89,
     "metadata": {},
     "output_type": "execute_result"
    }
   ],
   "source": [
    "t_middle_w2v.most_similar('health',topn=20)"
   ]
  },
  {
   "cell_type": "code",
   "execution_count": 90,
   "metadata": {},
   "outputs": [
    {
     "data": {
      "text/plain": [
       "[('patients', 0.9574885964393616),\n",
       " ('hospitals', 0.9547406435012817),\n",
       " ('beds', 0.92880779504776),\n",
       " ('including', 0.9200869798660278),\n",
       " ('private', 0.9179971218109131),\n",
       " ('available', 0.9147815704345703),\n",
       " ('capacity', 0.9135773181915283),\n",
       " ('facilities', 0.9127744436264038),\n",
       " ('high', 0.9123623371124268),\n",
       " ('intensive', 0.9029070138931274),\n",
       " ('member', 0.8986437320709229),\n",
       " ('icu', 0.8941500782966614),\n",
       " ('labs', 0.8912094831466675),\n",
       " ('underlying', 0.890540599822998),\n",
       " ('officials', 0.8903740048408508),\n",
       " ('currently', 0.890045166015625),\n",
       " ('treatment', 0.8859425187110901),\n",
       " ('city', 0.8858098983764648),\n",
       " ('testing', 0.8833985328674316),\n",
       " ('center', 0.8826614618301392)]"
      ]
     },
     "execution_count": 90,
     "metadata": {},
     "output_type": "execute_result"
    }
   ],
   "source": [
    "t_middle_w2v.most_similar('hospital',topn=20)"
   ]
  },
  {
   "cell_type": "code",
   "execution_count": 91,
   "metadata": {},
   "outputs": [
    {
     "data": {
      "text/plain": [
       "[('خليكبالبيت', 0.8945896625518799),\n",
       " ('selfisolation', 0.8538191318511963),\n",
       " ('isolation', 0.8465244770050049),\n",
       " ('self', 0.8437603712081909),\n",
       " ('socialdistancing', 0.8277859687805176),\n",
       " ('isolate', 0.8200931549072266),\n",
       " ('bored', 0.8097479343414307),\n",
       " ('selfisolating', 0.8011985421180725),\n",
       " ('workfromhome', 0.800790011882782),\n",
       " ('roommate', 0.7980908751487732),\n",
       " ('stayinghome', 0.7936655879020691),\n",
       " ('isolating', 0.7878254055976868),\n",
       " ('dankmemes', 0.7863516807556152),\n",
       " ('tuberculosis', 0.7858356237411499),\n",
       " ('💜', 0.7848494648933411),\n",
       " ('communityquarantine', 0.7841397523880005),\n",
       " ('cuarentenatotal', 0.7780638933181763),\n",
       " ('socialdistanacing', 0.776846706867218),\n",
       " ('stuck', 0.7678758502006531),\n",
       " ('loop', 0.7664186954498291)]"
      ]
     },
     "execution_count": 91,
     "metadata": {},
     "output_type": "execute_result"
    }
   ],
   "source": [
    "t_middle_w2v.most_similar('quarantine',topn=20)"
   ]
  },
  {
   "cell_type": "markdown",
   "metadata": {},
   "source": [
    "**Word that is most different from the set**"
   ]
  },
  {
   "cell_type": "code",
   "execution_count": 131,
   "metadata": {},
   "outputs": [
    {
     "name": "stdout",
     "output_type": "stream",
     "text": [
      "0.4429376\n"
     ]
    }
   ],
   "source": [
    "print(t_middle_w2v.similarity('china', 'covid'))"
   ]
  },
  {
   "cell_type": "code",
   "execution_count": 92,
   "metadata": {},
   "outputs": [
    {
     "name": "stdout",
     "output_type": "stream",
     "text": [
      "0.6803553\n"
     ]
    }
   ],
   "source": [
    "print(t_middle_w2v.similarity('employment', 'covid'))"
   ]
  },
  {
   "cell_type": "code",
   "execution_count": 93,
   "metadata": {},
   "outputs": [
    {
     "name": "stdout",
     "output_type": "stream",
     "text": [
      "0.54670644\n"
     ]
    }
   ],
   "source": [
    "print(t_middle_w2v.similarity('quarantine', 'covid'))"
   ]
  },
  {
   "cell_type": "code",
   "execution_count": 94,
   "metadata": {},
   "outputs": [
    {
     "name": "stdout",
     "output_type": "stream",
     "text": [
      "0.3921402\n"
     ]
    }
   ],
   "source": [
    "print(t_middle_w2v.similarity('hospital', 'covid'))"
   ]
  },
  {
   "cell_type": "code",
   "execution_count": 95,
   "metadata": {},
   "outputs": [
    {
     "name": "stdout",
     "output_type": "stream",
     "text": [
      "0.47449237\n"
     ]
    }
   ],
   "source": [
    "print(t_middle_w2v.similarity('coronavirus', 'mask'))"
   ]
  },
  {
   "cell_type": "code",
   "execution_count": 96,
   "metadata": {},
   "outputs": [
    {
     "name": "stdout",
     "output_type": "stream",
     "text": [
      "0.5859329\n"
     ]
    }
   ],
   "source": [
    "print(t_middle_w2v.similarity('quarantine', 'home'))"
   ]
  },
  {
   "cell_type": "code",
   "execution_count": 97,
   "metadata": {},
   "outputs": [
    {
     "name": "stdout",
     "output_type": "stream",
     "text": [
      "0.8226154\n"
     ]
    }
   ],
   "source": [
    "print(t_middle_w2v.similarity('mask', 'need'))"
   ]
  },
  {
   "cell_type": "markdown",
   "metadata": {},
   "source": [
    "**word relations**"
   ]
  },
  {
   "cell_type": "code",
   "execution_count": 98,
   "metadata": {},
   "outputs": [
    {
     "data": {
      "text/plain": [
       "[('economic', 0.8247387409210205),\n",
       " ('global', 0.8133828043937683),\n",
       " ('declared', 0.810341477394104),\n",
       " ('economy', 0.8101247549057007),\n",
       " ('funds', 0.8061999082565308),\n",
       " ('drtedros', 0.7959733605384827),\n",
       " ('classified', 0.795128583908081),\n",
       " ('usnews', 0.7911975383758545),\n",
       " ('declares', 0.789726972579956),\n",
       " ('praises', 0.788289487361908)]"
      ]
     },
     "execution_count": 98,
     "metadata": {},
     "output_type": "execute_result"
    }
   ],
   "source": [
    "# 'coronavirus'+'unemployment' - 'quarantine'\n",
    "t_middle_w2v.most_similar(positive = ['coronavirus','employment'], negative = ['quarantine'], topn = 10)"
   ]
  },
  {
   "cell_type": "markdown",
   "metadata": {},
   "source": [
    "**visualize**"
   ]
  },
  {
   "cell_type": "code",
   "execution_count": 99,
   "metadata": {},
   "outputs": [
    {
     "data": {
      "text/plain": [
       "10429"
      ]
     },
     "execution_count": 99,
     "metadata": {},
     "output_type": "execute_result"
    }
   ],
   "source": [
    "len(t_middle_w2v.wv.index2word)"
   ]
  },
  {
   "cell_type": "code",
   "execution_count": 100,
   "metadata": {},
   "outputs": [],
   "source": [
    "numWords = 100 \n",
    "targetWords = t_middle_w2v.wv.index2word[:numWords]"
   ]
  },
  {
   "cell_type": "code",
   "execution_count": 101,
   "metadata": {},
   "outputs": [
    {
     "data": {
      "text/plain": [
       "array([[-0.49348456,  0.0255612 ,  0.06599437, ..., -0.45959648,\n",
       "         0.5337767 ,  0.31665513],\n",
       "       [-0.28710532, -0.21960141, -0.09111772, ..., -0.06146809,\n",
       "         0.3211028 , -0.1009667 ],\n",
       "       [ 0.2521502 ,  0.65872693, -0.3889695 , ...,  0.19220991,\n",
       "         0.7385253 ,  0.81186724],\n",
       "       ...,\n",
       "       [ 0.02666854,  0.38857287, -0.43082663, ..., -0.4554021 ,\n",
       "         0.36176234,  0.69486374],\n",
       "       [ 0.10162496,  0.56467295, -0.27476013, ..., -0.22995397,\n",
       "         0.41476938,  0.66765726],\n",
       "       [-0.05164094,  0.3893625 , -0.22556074, ..., -0.13471968,\n",
       "         0.4323073 ,  0.6590376 ]], dtype=float32)"
      ]
     },
     "execution_count": 101,
     "metadata": {},
     "output_type": "execute_result"
    }
   ],
   "source": [
    "wordsSubMatrix = []\n",
    "for word in targetWords:\n",
    "    wordsSubMatrix.append(t_middle_w2v[word])\n",
    "wordsSubMatrix = np.array(wordsSubMatrix)\n",
    "wordsSubMatrix"
   ]
  },
  {
   "cell_type": "code",
   "execution_count": 102,
   "metadata": {},
   "outputs": [],
   "source": [
    "pcaWords = sklearn.decomposition.PCA(n_components = 50).fit(wordsSubMatrix)\n",
    "reducedPCA_data = pcaWords.transform(wordsSubMatrix)\n",
    "#T-SNE is theoretically better, but you should experiment\n",
    "tsneWords = sklearn.manifold.TSNE(n_components = 2).fit_transform(reducedPCA_data)"
   ]
  },
  {
   "cell_type": "code",
   "execution_count": 103,
   "metadata": {},
   "outputs": [
    {
     "name": "stderr",
     "output_type": "stream",
     "text": [
      "/Users/sunny/opt/anaconda3/lib/python3.7/site-packages/matplotlib/backends/backend_agg.py:211: RuntimeWarning: Glyph 12540 missing from current font.\n",
      "  font.set_text(s, 0.0, flags=flags)\n",
      "/Users/sunny/opt/anaconda3/lib/python3.7/site-packages/matplotlib/backends/backend_agg.py:180: RuntimeWarning: Glyph 12540 missing from current font.\n",
      "  font.set_text(s, 0, flags=flags)\n"
     ]
    },
    {
     "data": {
      "image/png": "[encoded data removed]",
      "text/plain": [
       "<Figure size 720x432 with 1 Axes>"
      ]
     },
     "metadata": {},
     "output_type": "display_data"
    }
   ],
   "source": [
    "# PCA\n",
    "PCAWords = sklearn.decomposition.PCA(n_components = 2).fit_transform(wordsSubMatrix)\n",
    "plot_words(PCAWords)"
   ]
  },
  {
   "cell_type": "code",
   "execution_count": 104,
   "metadata": {},
   "outputs": [
    {
     "name": "stderr",
     "output_type": "stream",
     "text": [
      "/Users/sunny/opt/anaconda3/lib/python3.7/site-packages/matplotlib/backends/backend_agg.py:211: RuntimeWarning: Glyph 12540 missing from current font.\n",
      "  font.set_text(s, 0.0, flags=flags)\n",
      "/Users/sunny/opt/anaconda3/lib/python3.7/site-packages/matplotlib/backends/backend_agg.py:180: RuntimeWarning: Glyph 12540 missing from current font.\n",
      "  font.set_text(s, 0, flags=flags)\n"
     ]
    },
    {
     "data": {
      "image/png": "[encoded data removed]",
      "text/plain": [
       "<Figure size 720x432 with 1 Axes>"
      ]
     },
     "metadata": {},
     "output_type": "display_data"
    }
   ],
   "source": [
    "# Multidimensional scaling\n",
    "MDSWords = sklearn.manifold.MDS(n_components = 2).fit_transform(reducedPCA_data)\n",
    "plot_words(MDSWords)"
   ]
  },
  {
   "cell_type": "code",
   "execution_count": 105,
   "metadata": {},
   "outputs": [
    {
     "data": {
      "image/png": "[encoded data removed]",
      "text/plain": [
       "<Figure size 720x432 with 1 Axes>"
      ]
     },
     "metadata": {},
     "output_type": "display_data"
    }
   ],
   "source": [
    "plot_words(tsneWords)"
   ]
  },
  {
   "cell_type": "markdown",
   "metadata": {},
   "source": [
    "## *late*"
   ]
  },
  {
   "cell_type": "code",
   "execution_count": 106,
   "metadata": {},
   "outputs": [
    {
     "data": {
      "text/plain": [
       "['covid',\n",
       " 'coronavirus',\n",
       " 'people',\n",
       " 'amp',\n",
       " 'coronaviruspandemic',\n",
       " 'nt',\n",
       " 'cases',\n",
       " 'home',\n",
       " 'pandemic',\n",
       " 'new',\n",
       " 'time',\n",
       " 'help',\n",
       " 'stay',\n",
       " 'need',\n",
       " 'lockdown',\n",
       " 'health',\n",
       " 'virus',\n",
       " 'coronavirusoutbreak',\n",
       " 'world',\n",
       " 'support']"
      ]
     },
     "execution_count": 106,
     "metadata": {},
     "output_type": "execute_result"
    }
   ],
   "source": [
    "# All words contained here\n",
    "t_late_w2v.wv.index2word[:20] "
   ]
  },
  {
   "cell_type": "code",
   "execution_count": 107,
   "metadata": {},
   "outputs": [
    {
     "data": {
      "text/plain": [
       "array([-8.7178755e-01, -6.8528490e-04, -8.4864544e-03,  2.7837265e-01,\n",
       "        7.6367182e-01, -2.9962647e-01,  3.0212492e-01,  5.1804453e-01,\n",
       "        2.2133483e-01, -3.0156511e-01], dtype=float32)"
      ]
     },
     "execution_count": 107,
     "metadata": {},
     "output_type": "execute_result"
    }
   ],
   "source": [
    "t_late_w2v['coronavirus'][:10] "
   ]
  },
  {
   "cell_type": "code",
   "execution_count": 108,
   "metadata": {},
   "outputs": [
    {
     "data": {
      "text/plain": [
       "array([[-4.71160948e-01, -1.65837221e-02, -6.68767691e-02, ...,\n",
       "        -5.16132593e-01, -2.03829601e-01,  8.22112441e-01],\n",
       "       [-8.71787548e-01, -6.85284904e-04, -8.48645438e-03, ...,\n",
       "        -4.96872395e-01,  1.13634564e-01,  7.08232522e-01],\n",
       "       [ 4.48251992e-01,  8.93937290e-01, -3.50817293e-01, ...,\n",
       "        -1.18847884e-01, -2.67284781e-01,  2.80496567e-01],\n",
       "       ...,\n",
       "       [ 2.19929554e-02,  3.12178638e-02, -9.09513421e-03, ...,\n",
       "        -3.90028059e-02,  1.15364604e-02,  5.37860096e-02],\n",
       "       [ 3.17267887e-02,  3.17857638e-02,  3.10035907e-02, ...,\n",
       "        -3.91077027e-02,  7.06985546e-03,  4.12937552e-02],\n",
       "       [ 1.42396577e-02,  3.62170488e-02,  5.97181078e-03, ...,\n",
       "        -4.93623503e-02,  2.38918979e-02,  6.94254339e-02]], dtype=float32)"
      ]
     },
     "execution_count": 108,
     "metadata": {},
     "output_type": "execute_result"
    }
   ],
   "source": [
    "t_late_w2v.wv.syn0"
   ]
  },
  {
   "cell_type": "code",
   "execution_count": 109,
   "metadata": {},
   "outputs": [],
   "source": [
    "t_late_w2v.save(\"t_late_w2v\")"
   ]
  },
  {
   "cell_type": "markdown",
   "metadata": {},
   "source": [
    "**Most similar words**"
   ]
  },
  {
   "cell_type": "code",
   "execution_count": 110,
   "metadata": {},
   "outputs": [
    {
     "data": {
      "text/plain": [
       "[('coronavirus', 0.7946761250495911),\n",
       " ('coronavirusoutbreak', 0.7558690905570984),\n",
       " ('dontpanic', 0.718563973903656),\n",
       " ('covidー', 0.7123540639877319),\n",
       " ('coronaviruspandemic', 0.7033707499504089),\n",
       " ('batflu', 0.6884517669677734),\n",
       " ('httpstcoydmaxve', 0.6801744699478149),\n",
       " ('beatcovid', 0.677742063999176),\n",
       " ('coronaoutbreak', 0.6771388649940491),\n",
       " ('coronaout', 0.6723691821098328),\n",
       " ('swasthabharat', 0.6665536165237427),\n",
       " ('handwashchallenge', 0.6632921099662781),\n",
       " ('worldhealthorganization', 0.6619250774383545),\n",
       " ('coronavirusoutbreakindia', 0.6600897908210754),\n",
       " ('uklockdownnow', 0.6571346521377563),\n",
       " ('stayhomecanada', 0.6569954752922058),\n",
       " ('coronaindia', 0.6560655832290649),\n",
       " ('coviduk', 0.6559494137763977),\n",
       " ('coronaalert', 0.6554901599884033),\n",
       " ('onlineshopping', 0.6543351411819458)]"
      ]
     },
     "execution_count": 110,
     "metadata": {},
     "output_type": "execute_result"
    }
   ],
   "source": [
    "t_late_w2v.most_similar('covid',topn=20)"
   ]
  },
  {
   "cell_type": "code",
   "execution_count": 111,
   "metadata": {},
   "outputs": [
    {
     "data": {
      "text/plain": [
       "[('wear', 0.967120349407196),\n",
       " ('face', 0.9614160656929016),\n",
       " ('wearing', 0.9601844549179077),\n",
       " ('gloves', 0.9428987503051758),\n",
       " ('n', 0.9079297780990601),\n",
       " ('masks', 0.8997634649276733),\n",
       " ('sanitizer', 0.8979142308235168),\n",
       " ('surgical', 0.8917690515518188),\n",
       " ('hand', 0.8855747580528259),\n",
       " ('nose', 0.8747954368591309),\n",
       " ('water', 0.8602918386459351),\n",
       " ('capes', 0.8543741703033447),\n",
       " ('wore', 0.84669429063797),\n",
       " ('touching', 0.8457788825035095),\n",
       " ('use', 0.8438397645950317),\n",
       " ('buy', 0.840024471282959),\n",
       " ('shields', 0.8393199443817139),\n",
       " ('touch', 0.838141679763794),\n",
       " ('soap', 0.8369647264480591),\n",
       " ('sew', 0.831843376159668)]"
      ]
     },
     "execution_count": 111,
     "metadata": {},
     "output_type": "execute_result"
    }
   ],
   "source": [
    "t_late_w2v.most_similar('mask',topn=20)"
   ]
  },
  {
   "cell_type": "code",
   "execution_count": 112,
   "metadata": {},
   "outputs": [
    {
     "data": {
      "text/plain": [
       "[('indoors', 0.9020514488220215),\n",
       " ('tuned', 0.8987055420875549),\n",
       " ('inside', 0.898166835308075),\n",
       " ('safe', 0.8747637271881104),\n",
       " ('homes', 0.8669865131378174),\n",
       " ('healthy', 0.8296094536781311),\n",
       " ('calm', 0.7812451124191284),\n",
       " ('sane', 0.7763264179229736),\n",
       " ('away', 0.7762893438339233),\n",
       " ('place', 0.7725052237510681),\n",
       " ('afloat', 0.771268904209137),\n",
       " ('informed', 0.7581678628921509),\n",
       " ('strong', 0.746619701385498),\n",
       " ('wirbleibenzuhause', 0.7387954592704773),\n",
       " ('hunker', 0.7344859838485718),\n",
       " ('connected', 0.7234187126159668),\n",
       " ('leukemia', 0.720326840877533),\n",
       " ('apart', 0.7192078828811646),\n",
       " ('metres', 0.7177472114562988),\n",
       " ('globalgoals', 0.717718243598938)]"
      ]
     },
     "execution_count": 112,
     "metadata": {},
     "output_type": "execute_result"
    }
   ],
   "source": [
    "t_late_w2v.most_similar('home',topn=20)"
   ]
  },
  {
   "cell_type": "code",
   "execution_count": 113,
   "metadata": {},
   "outputs": [
    {
     "data": {
      "text/plain": [
       "[('program', 0.9925974607467651),\n",
       " ('logistics', 0.9918588995933533),\n",
       " ('offers', 0.9906050562858582),\n",
       " ('universities', 0.9899783134460449),\n",
       " ('legal', 0.9881596565246582),\n",
       " ('events', 0.9869744777679443),\n",
       " ('deployed', 0.9864145517349243),\n",
       " ('hotels', 0.9859444499015808),\n",
       " ('institutions', 0.9857660531997681),\n",
       " ('eligible', 0.9854413270950317),\n",
       " ('hiring', 0.9846822023391724),\n",
       " ('projects', 0.9843169450759888),\n",
       " ('operational', 0.9842436909675598),\n",
       " ('educational', 0.9839816093444824),\n",
       " ('safeguards', 0.9832510948181152),\n",
       " ('colleges', 0.9832135438919067),\n",
       " ('applying', 0.9831883907318115),\n",
       " ('offered', 0.9830209016799927),\n",
       " ('minimum', 0.9827293157577515),\n",
       " ('farmers', 0.9820747375488281)]"
      ]
     },
     "execution_count": 113,
     "metadata": {},
     "output_type": "execute_result"
    }
   ],
   "source": [
    "t_late_w2v.most_similar('employment',topn=20)"
   ]
  },
  {
   "cell_type": "code",
   "execution_count": 114,
   "metadata": {},
   "outputs": [
    {
     "data": {
      "text/plain": [
       "[('intensive', 0.7408565282821655),\n",
       " ('immune', 0.7186166048049927),\n",
       " ('police', 0.7065613865852356),\n",
       " ('critical', 0.7048802375793457),\n",
       " ('healthcare', 0.7043869495391846),\n",
       " ('system', 0.7036856412887573),\n",
       " ('facilities', 0.6953127384185791),\n",
       " ('systems', 0.6934127807617188),\n",
       " ('public', 0.6889002919197083),\n",
       " ('general', 0.6855207085609436),\n",
       " ('transport', 0.6832893490791321),\n",
       " ('underlying', 0.6767025589942932),\n",
       " ('ministry', 0.6761752963066101),\n",
       " ('issues', 0.6751086711883545),\n",
       " ('welfare', 0.6740134954452515),\n",
       " ('including', 0.666642427444458),\n",
       " ('migrant', 0.661734938621521),\n",
       " ('security', 0.6565465927124023),\n",
       " ('medical', 0.6521530151367188),\n",
       " ('officer', 0.6475181579589844)]"
      ]
     },
     "execution_count": 114,
     "metadata": {},
     "output_type": "execute_result"
    }
   ],
   "source": [
    "t_late_w2v.most_similar('health',topn=20)"
   ]
  },
  {
   "cell_type": "code",
   "execution_count": 115,
   "metadata": {},
   "outputs": [
    {
     "data": {
      "text/plain": [
       "[('beds', 0.9310659170150757),\n",
       " ('patients', 0.9131675958633423),\n",
       " ('icu', 0.912998616695404),\n",
       " ('patient', 0.8814699649810791),\n",
       " ('hospitals', 0.8805142641067505),\n",
       " ('testing', 0.8800046443939209),\n",
       " ('treatment', 0.8469926118850708),\n",
       " ('underlying', 0.8436368703842163),\n",
       " ('currently', 0.8279253840446472),\n",
       " ('doctor', 0.8271542191505432),\n",
       " ('high', 0.8220677971839905),\n",
       " ('w', 0.8185746669769287),\n",
       " ('kits', 0.8161507844924927),\n",
       " ('center', 0.812798261642456),\n",
       " ('hospitalized', 0.8091530203819275),\n",
       " ('conditions', 0.805656909942627),\n",
       " ('city', 0.8015573620796204),\n",
       " ('capacity', 0.796110987663269),\n",
       " ('condition', 0.7935131192207336),\n",
       " ('intensive', 0.7930217981338501)]"
      ]
     },
     "execution_count": 115,
     "metadata": {},
     "output_type": "execute_result"
    }
   ],
   "source": [
    "t_late_w2v.most_similar('hospital',topn=20)"
   ]
  },
  {
   "cell_type": "code",
   "execution_count": 116,
   "metadata": {},
   "outputs": [
    {
     "data": {
      "text/plain": [
       "[('selfisolation', 0.8953946232795715),\n",
       " ('isolation', 0.8854289650917053),\n",
       " ('selfquaratine', 0.8257683515548706),\n",
       " ('self', 0.8135181665420532),\n",
       " ('selfquarantine', 0.8086565732955933),\n",
       " ('isolating', 0.8048456907272339),\n",
       " ('quarantinelife', 0.7949913740158081),\n",
       " ('stayhome', 0.7949559688568115),\n",
       " ('socialdistancing', 0.7905466556549072),\n",
       " ('stayathome', 0.7900031805038452),\n",
       " ('bored', 0.7752425670623779),\n",
       " ('gorgeous', 0.7728331089019775),\n",
       " ('policeviolence', 0.7721381187438965),\n",
       " ('wfh', 0.770479142665863),\n",
       " ('shelterinplace', 0.7698068618774414),\n",
       " ('fun', 0.7693813443183899),\n",
       " ('abiding', 0.7688226699829102),\n",
       " ('selfisolating', 0.7658952474594116),\n",
       " ('quarantineandchill', 0.7651349306106567),\n",
       " ('illinoislockdown', 0.7604374289512634)]"
      ]
     },
     "execution_count": 116,
     "metadata": {},
     "output_type": "execute_result"
    }
   ],
   "source": [
    "t_late_w2v.most_similar('quarantine',topn=20)"
   ]
  },
  {
   "cell_type": "markdown",
   "metadata": {},
   "source": [
    "**Word that is most different from the set**"
   ]
  },
  {
   "cell_type": "code",
   "execution_count": 133,
   "metadata": {},
   "outputs": [
    {
     "name": "stdout",
     "output_type": "stream",
     "text": [
      "0.2946252\n"
     ]
    }
   ],
   "source": [
    "print(t_late_w2v.similarity('china', 'covid'))"
   ]
  },
  {
   "cell_type": "code",
   "execution_count": 117,
   "metadata": {},
   "outputs": [
    {
     "name": "stdout",
     "output_type": "stream",
     "text": [
      "0.33715594\n"
     ]
    }
   ],
   "source": [
    "print(t_late_w2v.similarity('employment', 'covid'))"
   ]
  },
  {
   "cell_type": "code",
   "execution_count": 118,
   "metadata": {},
   "outputs": [
    {
     "name": "stdout",
     "output_type": "stream",
     "text": [
      "0.3371623\n"
     ]
    }
   ],
   "source": [
    "print(t_late_w2v.similarity('quarantine', 'covid'))"
   ]
  },
  {
   "cell_type": "code",
   "execution_count": 119,
   "metadata": {},
   "outputs": [
    {
     "name": "stdout",
     "output_type": "stream",
     "text": [
      "0.136428\n"
     ]
    }
   ],
   "source": [
    "print(t_late_w2v.similarity('hospital', 'covid'))"
   ]
  },
  {
   "cell_type": "code",
   "execution_count": 120,
   "metadata": {},
   "outputs": [
    {
     "name": "stdout",
     "output_type": "stream",
     "text": [
      "0.12753427\n"
     ]
    }
   ],
   "source": [
    "print(t_late_w2v.similarity('coronavirus', 'mask'))"
   ]
  },
  {
   "cell_type": "code",
   "execution_count": 121,
   "metadata": {},
   "outputs": [
    {
     "name": "stdout",
     "output_type": "stream",
     "text": [
      "0.5236942\n"
     ]
    }
   ],
   "source": [
    "print(t_late_w2v.similarity('quarantine', 'home'))"
   ]
  },
  {
   "cell_type": "code",
   "execution_count": 122,
   "metadata": {},
   "outputs": [
    {
     "name": "stdout",
     "output_type": "stream",
     "text": [
      "0.6267239\n"
     ]
    }
   ],
   "source": [
    "print(t_late_w2v.similarity('mask', 'need'))"
   ]
  },
  {
   "cell_type": "markdown",
   "metadata": {},
   "source": [
    "**word relations**"
   ]
  },
  {
   "cell_type": "code",
   "execution_count": 123,
   "metadata": {},
   "outputs": [
    {
     "data": {
      "text/plain": [
       "[('global', 0.807831346988678),\n",
       " ('humanitarian', 0.7811460494995117),\n",
       " ('funds', 0.7688217163085938),\n",
       " ('current', 0.76557856798172),\n",
       " ('combined', 0.7651761770248413),\n",
       " ('financial', 0.7604192495346069),\n",
       " ('facing', 0.7594742774963379),\n",
       " ('coordinated', 0.7592013478279114),\n",
       " ('dispatched', 0.7566924691200256),\n",
       " ('immediate', 0.7556937336921692)]"
      ]
     },
     "execution_count": 123,
     "metadata": {},
     "output_type": "execute_result"
    }
   ],
   "source": [
    "# 'coronavirus'+'unemployment' - 'quarantine'\n",
    "t_late_w2v.most_similar(positive = ['coronavirus','employment'], negative = ['quarantine'], topn = 10)"
   ]
  },
  {
   "cell_type": "markdown",
   "metadata": {},
   "source": [
    "**visualize**"
   ]
  },
  {
   "cell_type": "code",
   "execution_count": 124,
   "metadata": {},
   "outputs": [
    {
     "data": {
      "text/plain": [
       "13374"
      ]
     },
     "execution_count": 124,
     "metadata": {},
     "output_type": "execute_result"
    }
   ],
   "source": [
    "len(t_late_w2v.wv.index2word)"
   ]
  },
  {
   "cell_type": "code",
   "execution_count": 125,
   "metadata": {},
   "outputs": [],
   "source": [
    "numWords = 100 \n",
    "targetWords = t_late_w2v.wv.index2word[:numWords]"
   ]
  },
  {
   "cell_type": "code",
   "execution_count": 126,
   "metadata": {},
   "outputs": [
    {
     "data": {
      "text/plain": [
       "array([[-4.71160948e-01, -1.65837221e-02, -6.68767691e-02, ...,\n",
       "        -5.16132593e-01, -2.03829601e-01,  8.22112441e-01],\n",
       "       [-8.71787548e-01, -6.85284904e-04, -8.48645438e-03, ...,\n",
       "        -4.96872395e-01,  1.13634564e-01,  7.08232522e-01],\n",
       "       [ 4.48251992e-01,  8.93937290e-01, -3.50817293e-01, ...,\n",
       "        -1.18847884e-01, -2.67284781e-01,  2.80496567e-01],\n",
       "       ...,\n",
       "       [ 5.04415810e-01,  1.00542426e+00, -5.64099133e-01, ...,\n",
       "        -8.29617083e-01,  8.55448395e-02,  1.35654831e+00],\n",
       "       [ 2.12463036e-01,  3.96110594e-01, -3.99716616e-01, ...,\n",
       "        -7.78089911e-02, -3.52078408e-01,  2.33571336e-01],\n",
       "       [ 4.35727745e-01,  3.03592294e-01, -7.24404812e-01, ...,\n",
       "        -6.00867748e-01, -1.01739457e-02,  8.08694303e-01]], dtype=float32)"
      ]
     },
     "execution_count": 126,
     "metadata": {},
     "output_type": "execute_result"
    }
   ],
   "source": [
    "wordsSubMatrix = []\n",
    "for word in targetWords:\n",
    "    wordsSubMatrix.append(t_late_w2v[word])\n",
    "wordsSubMatrix = np.array(wordsSubMatrix)\n",
    "wordsSubMatrix"
   ]
  },
  {
   "cell_type": "code",
   "execution_count": 127,
   "metadata": {},
   "outputs": [],
   "source": [
    "pcaWords = sklearn.decomposition.PCA(n_components = 50).fit(wordsSubMatrix)\n",
    "reducedPCA_data = pcaWords.transform(wordsSubMatrix)\n",
    "#T-SNE is theoretically better, but you should experiment\n",
    "tsneWords = sklearn.manifold.TSNE(n_components = 2).fit_transform(reducedPCA_data)"
   ]
  },
  {
   "cell_type": "code",
   "execution_count": 128,
   "metadata": {},
   "outputs": [
    {
     "name": "stderr",
     "output_type": "stream",
     "text": [
      "/Users/sunny/opt/anaconda3/lib/python3.7/site-packages/matplotlib/backends/backend_agg.py:211: RuntimeWarning: Glyph 12540 missing from current font.\n",
      "  font.set_text(s, 0.0, flags=flags)\n",
      "/Users/sunny/opt/anaconda3/lib/python3.7/site-packages/matplotlib/backends/backend_agg.py:180: RuntimeWarning: Glyph 12540 missing from current font.\n",
      "  font.set_text(s, 0, flags=flags)\n",
      "/Users/sunny/opt/anaconda3/lib/python3.7/site-packages/matplotlib/backends/backend_agg.py:211: RuntimeWarning: Glyph 128591 missing from current font.\n",
      "  font.set_text(s, 0.0, flags=flags)\n",
      "/Users/sunny/opt/anaconda3/lib/python3.7/site-packages/matplotlib/backends/backend_agg.py:176: RuntimeWarning: Glyph 128591 missing from current font.\n",
      "  font.load_char(ord(s), flags=flags)\n"
     ]
    },
    {
     "data": {
      "image/png": "[encoded data removed]",
      "text/plain": [
       "<Figure size 720x432 with 1 Axes>"
      ]
     },
     "metadata": {},
     "output_type": "display_data"
    }
   ],
   "source": [
    "# PCA\n",
    "PCAWords = sklearn.decomposition.PCA(n_components = 2).fit_transform(wordsSubMatrix)\n",
    "plot_words(PCAWords)"
   ]
  },
  {
   "cell_type": "code",
   "execution_count": 129,
   "metadata": {},
   "outputs": [
    {
     "name": "stderr",
     "output_type": "stream",
     "text": [
      "/Users/sunny/opt/anaconda3/lib/python3.7/site-packages/matplotlib/backends/backend_agg.py:211: RuntimeWarning: Glyph 12540 missing from current font.\n",
      "  font.set_text(s, 0.0, flags=flags)\n",
      "/Users/sunny/opt/anaconda3/lib/python3.7/site-packages/matplotlib/backends/backend_agg.py:180: RuntimeWarning: Glyph 12540 missing from current font.\n",
      "  font.set_text(s, 0, flags=flags)\n",
      "/Users/sunny/opt/anaconda3/lib/python3.7/site-packages/matplotlib/backends/backend_agg.py:211: RuntimeWarning: Glyph 128591 missing from current font.\n",
      "  font.set_text(s, 0.0, flags=flags)\n",
      "/Users/sunny/opt/anaconda3/lib/python3.7/site-packages/matplotlib/backends/backend_agg.py:176: RuntimeWarning: Glyph 128591 missing from current font.\n",
      "  font.load_char(ord(s), flags=flags)\n"
     ]
    },
    {
     "data": {
      "image/png": "[encoded data removed]",
      "text/plain": [
       "<Figure size 720x432 with 1 Axes>"
      ]
     },
     "metadata": {},
     "output_type": "display_data"
    }
   ],
   "source": [
    "# Multidimensional scaling\n",
    "MDSWords = sklearn.manifold.MDS(n_components = 2).fit_transform(reducedPCA_data)\n",
    "plot_words(MDSWords)"
   ]
  },
  {
   "cell_type": "code",
   "execution_count": 130,
   "metadata": {},
   "outputs": [
    {
     "data": {
      "image/png": "[encoded data removed]",
      "text/plain": [
       "<Figure size 720x432 with 1 Axes>"
      ]
     },
     "metadata": {},
     "output_type": "display_data"
    }
   ],
   "source": [
    "plot_words(tsneWords)"
   ]
  },
  {
   "cell_type": "markdown",
   "metadata": {},
   "source": [
    "# Doc2Vec"
   ]
  },
  {
   "cell_type": "markdown",
   "metadata": {
    "collapsed": true
   },
   "source": [
    "Instead of just looking at just how words embed within in the space, we can look at how the different documents relate to each other within the space. "
   ]
  },
  {
   "cell_type": "code",
   "execution_count": 531,
   "metadata": {
    "scrolled": false
   },
   "outputs": [
    {
     "data": {
      "text/html": [
       "<div>\n",
       "<style scoped>\n",
       "    .dataframe tbody tr th:only-of-type {\n",
       "        vertical-align: middle;\n",
       "    }\n",
       "\n",
       "    .dataframe tbody tr th {\n",
       "        vertical-align: top;\n",
       "    }\n",
       "\n",
       "    .dataframe thead th {\n",
       "        text-align: right;\n",
       "    }\n",
       "</style>\n",
       "<table border=\"1\" class=\"dataframe\">\n",
       "  <thead>\n",
       "    <tr style=\"text-align: right;\">\n",
       "      <th></th>\n",
       "      <th>Unnamed: 0</th>\n",
       "      <th>status_id</th>\n",
       "      <th>user_id</th>\n",
       "      <th>created_at</th>\n",
       "      <th>screen_name</th>\n",
       "      <th>text</th>\n",
       "      <th>followers_count</th>\n",
       "      <th>friends_count</th>\n",
       "      <th>clean_text</th>\n",
       "      <th>tokenized_sents</th>\n",
       "      <th>normalized_sents</th>\n",
       "      <th>date</th>\n",
       "    </tr>\n",
       "  </thead>\n",
       "  <tbody>\n",
       "    <tr>\n",
       "      <td>0</td>\n",
       "      <td>0</td>\n",
       "      <td>1.236600e+18</td>\n",
       "      <td>1.113032e+18</td>\n",
       "      <td>2020-03-08T10:31:23Z</td>\n",
       "      <td>GarySch47413717</td>\n",
       "      <td>I remember this with a shudder. A superb Ben E...</td>\n",
       "      <td>155.0</td>\n",
       "      <td>197.0</td>\n",
       "      <td>remember shudder superb ben elton sketch last ...</td>\n",
       "      <td>[['remember', 'shudder', 'superb', 'ben', 'elt...</td>\n",
       "      <td>[['remember', 'shudder', 'superb', 'ben', 'elt...</td>\n",
       "      <td>2020-03-08</td>\n",
       "    </tr>\n",
       "    <tr>\n",
       "      <td>1</td>\n",
       "      <td>1</td>\n",
       "      <td>1.237699e+18</td>\n",
       "      <td>1.215211e+18</td>\n",
       "      <td>2020-03-11T11:17:42Z</td>\n",
       "      <td>KritikaSiroliya</td>\n",
       "      <td>People who die because of Coronavirus should h...</td>\n",
       "      <td>13.0</td>\n",
       "      <td>57.0</td>\n",
       "      <td>people die coronavirus gravestones say quarand...</td>\n",
       "      <td>[['people', 'die', 'coronavirus', 'gravestones...</td>\n",
       "      <td>[['people', 'die', 'coronavirus', 'gravestones...</td>\n",
       "      <td>2020-03-11</td>\n",
       "    </tr>\n",
       "    <tr>\n",
       "      <td>2</td>\n",
       "      <td>2</td>\n",
       "      <td>1.236395e+18</td>\n",
       "      <td>3.248120e+08</td>\n",
       "      <td>2020-03-07T20:56:13Z</td>\n",
       "      <td>kumar_2302</td>\n",
       "      <td>@AUThackeray @OfficeofUT \\n\\nPrevention is bet...</td>\n",
       "      <td>38.0</td>\n",
       "      <td>106.0</td>\n",
       "      <td>authackeray officeofut prevention better cure ...</td>\n",
       "      <td>[['authackeray', 'officeofut', 'prevention', '...</td>\n",
       "      <td>[['authackeray', 'officeofut', 'prevention', '...</td>\n",
       "      <td>2020-03-07</td>\n",
       "    </tr>\n",
       "    <tr>\n",
       "      <td>3</td>\n",
       "      <td>3</td>\n",
       "      <td>1.237793e+18</td>\n",
       "      <td>3.868509e+08</td>\n",
       "      <td>2020-03-11T17:30:58Z</td>\n",
       "      <td>HEARDatUNSW</td>\n",
       "      <td>Sobering assessment; every country should be d...</td>\n",
       "      <td>2712.0</td>\n",
       "      <td>4994.0</td>\n",
       "      <td>sobering assessment every country still contai...</td>\n",
       "      <td>[['sobering', 'assessment'], ['every', 'countr...</td>\n",
       "      <td>[['sobering', 'assessment'], ['country', 'cont...</td>\n",
       "      <td>2020-03-11</td>\n",
       "    </tr>\n",
       "    <tr>\n",
       "      <td>4</td>\n",
       "      <td>4</td>\n",
       "      <td>1.237867e+18</td>\n",
       "      <td>1.952652e+07</td>\n",
       "      <td>2020-03-11T22:24:15Z</td>\n",
       "      <td>mspanish</td>\n",
       "      <td>Even if we get a good beat on #covid19, Alaska...</td>\n",
       "      <td>713.0</td>\n",
       "      <td>247.0</td>\n",
       "      <td>even good beat covid alaskans going take huge ...</td>\n",
       "      <td>[['even', 'good', 'beat', 'covid', 'alaskans',...</td>\n",
       "      <td>[['good', 'beat', 'covid', 'alaskans', 'going'...</td>\n",
       "      <td>2020-03-11</td>\n",
       "    </tr>\n",
       "    <tr>\n",
       "      <td>...</td>\n",
       "      <td>...</td>\n",
       "      <td>...</td>\n",
       "      <td>...</td>\n",
       "      <td>...</td>\n",
       "      <td>...</td>\n",
       "      <td>...</td>\n",
       "      <td>...</td>\n",
       "      <td>...</td>\n",
       "      <td>...</td>\n",
       "      <td>...</td>\n",
       "      <td>...</td>\n",
       "      <td>...</td>\n",
       "    </tr>\n",
       "    <tr>\n",
       "      <td>95021</td>\n",
       "      <td>4851</td>\n",
       "      <td>1.242737e+18</td>\n",
       "      <td>8.768303e+17</td>\n",
       "      <td>2020-03-25T08:54:54Z</td>\n",
       "      <td>AKRouseSL</td>\n",
       "      <td>Help slow the spread of #COVID19 and identify ...</td>\n",
       "      <td>2806.0</td>\n",
       "      <td>3576.0</td>\n",
       "      <td>help slow spread covid identify risk cases soo...</td>\n",
       "      <td>[['help', 'slow', 'spread', 'covid', 'identify...</td>\n",
       "      <td>[['help', 'slow', 'spread', 'covid', 'identify...</td>\n",
       "      <td>2020-03-25</td>\n",
       "    </tr>\n",
       "    <tr>\n",
       "      <td>95022</td>\n",
       "      <td>4852</td>\n",
       "      <td>1.242725e+18</td>\n",
       "      <td>1.238406e+18</td>\n",
       "      <td>2020-03-25T08:08:17Z</td>\n",
       "      <td>Illumin67953111</td>\n",
       "      <td>Most people tend to see problems as inconvenie...</td>\n",
       "      <td>0.0</td>\n",
       "      <td>14.0</td>\n",
       "      <td>people tend see problems inconvenient disrupti...</td>\n",
       "      <td>[['people', 'tend', 'see', 'problems', 'inconv...</td>\n",
       "      <td>[['people', 'tend', 'problems', 'inconvenient'...</td>\n",
       "      <td>2020-03-25</td>\n",
       "    </tr>\n",
       "    <tr>\n",
       "      <td>95023</td>\n",
       "      <td>4853</td>\n",
       "      <td>1.242838e+18</td>\n",
       "      <td>9.339442e+17</td>\n",
       "      <td>2020-03-25T15:36:40Z</td>\n",
       "      <td>synapse_doc</td>\n",
       "      <td>#Covid_19 is a modern, retouched version of #P...</td>\n",
       "      <td>201.0</td>\n",
       "      <td>535.0</td>\n",
       "      <td>covid modern retouched version plague call plague</td>\n",
       "      <td>[['covid', 'modern', 'retouched', 'version', '...</td>\n",
       "      <td>[['covid', 'modern', 'retouched', 'version', '...</td>\n",
       "      <td>2020-03-25</td>\n",
       "    </tr>\n",
       "    <tr>\n",
       "      <td>95024</td>\n",
       "      <td>4854</td>\n",
       "      <td>1.242880e+18</td>\n",
       "      <td>2.265559e+09</td>\n",
       "      <td>2020-03-25T18:24:52Z</td>\n",
       "      <td>abbasiam77</td>\n",
       "      <td>Can chloroquine really help treat #COVID19 pat...</td>\n",
       "      <td>457.0</td>\n",
       "      <td>384.0</td>\n",
       "      <td>chloroquine really help treat covid patients h...</td>\n",
       "      <td>[['chloroquine', 'really', 'help', 'treat', 'c...</td>\n",
       "      <td>[['chloroquine', 'help', 'treat', 'covid', 'pa...</td>\n",
       "      <td>2020-03-25</td>\n",
       "    </tr>\n",
       "    <tr>\n",
       "      <td>95025</td>\n",
       "      <td>4855</td>\n",
       "      <td>1.242870e+18</td>\n",
       "      <td>3.442054e+08</td>\n",
       "      <td>2020-03-25T17:43:24Z</td>\n",
       "      <td>madhurarane</td>\n",
       "      <td>#epitwitter any favorite papers on Markov Chai...</td>\n",
       "      <td>243.0</td>\n",
       "      <td>368.0</td>\n",
       "      <td>epitwitter favorite papers markov chain monte ...</td>\n",
       "      <td>[['epitwitter', 'favorite', 'papers', 'markov'...</td>\n",
       "      <td>[['epitwitter', 'favorite', 'papers', 'markov'...</td>\n",
       "      <td>2020-03-25</td>\n",
       "    </tr>\n",
       "  </tbody>\n",
       "</table>\n",
       "<p>95026 rows × 12 columns</p>\n",
       "</div>"
      ],
      "text/plain": [
       "       Unnamed: 0     status_id       user_id            created_at  \\\n",
       "0               0  1.236600e+18  1.113032e+18  2020-03-08T10:31:23Z   \n",
       "1               1  1.237699e+18  1.215211e+18  2020-03-11T11:17:42Z   \n",
       "2               2  1.236395e+18  3.248120e+08  2020-03-07T20:56:13Z   \n",
       "3               3  1.237793e+18  3.868509e+08  2020-03-11T17:30:58Z   \n",
       "4               4  1.237867e+18  1.952652e+07  2020-03-11T22:24:15Z   \n",
       "...           ...           ...           ...                   ...   \n",
       "95021        4851  1.242737e+18  8.768303e+17  2020-03-25T08:54:54Z   \n",
       "95022        4852  1.242725e+18  1.238406e+18  2020-03-25T08:08:17Z   \n",
       "95023        4853  1.242838e+18  9.339442e+17  2020-03-25T15:36:40Z   \n",
       "95024        4854  1.242880e+18  2.265559e+09  2020-03-25T18:24:52Z   \n",
       "95025        4855  1.242870e+18  3.442054e+08  2020-03-25T17:43:24Z   \n",
       "\n",
       "           screen_name                                               text  \\\n",
       "0      GarySch47413717  I remember this with a shudder. A superb Ben E...   \n",
       "1      KritikaSiroliya  People who die because of Coronavirus should h...   \n",
       "2           kumar_2302  @AUThackeray @OfficeofUT \\n\\nPrevention is bet...   \n",
       "3          HEARDatUNSW  Sobering assessment; every country should be d...   \n",
       "4             mspanish  Even if we get a good beat on #covid19, Alaska...   \n",
       "...                ...                                                ...   \n",
       "95021        AKRouseSL  Help slow the spread of #COVID19 and identify ...   \n",
       "95022  Illumin67953111  Most people tend to see problems as inconvenie...   \n",
       "95023      synapse_doc  #Covid_19 is a modern, retouched version of #P...   \n",
       "95024       abbasiam77  Can chloroquine really help treat #COVID19 pat...   \n",
       "95025      madhurarane  #epitwitter any favorite papers on Markov Chai...   \n",
       "\n",
       "       followers_count  friends_count  \\\n",
       "0                155.0          197.0   \n",
       "1                 13.0           57.0   \n",
       "2                 38.0          106.0   \n",
       "3               2712.0         4994.0   \n",
       "4                713.0          247.0   \n",
       "...                ...            ...   \n",
       "95021           2806.0         3576.0   \n",
       "95022              0.0           14.0   \n",
       "95023            201.0          535.0   \n",
       "95024            457.0          384.0   \n",
       "95025            243.0          368.0   \n",
       "\n",
       "                                              clean_text  \\\n",
       "0      remember shudder superb ben elton sketch last ...   \n",
       "1      people die coronavirus gravestones say quarand...   \n",
       "2      authackeray officeofut prevention better cure ...   \n",
       "3      sobering assessment every country still contai...   \n",
       "4      even good beat covid alaskans going take huge ...   \n",
       "...                                                  ...   \n",
       "95021  help slow spread covid identify risk cases soo...   \n",
       "95022  people tend see problems inconvenient disrupti...   \n",
       "95023  covid modern retouched version plague call plague   \n",
       "95024  chloroquine really help treat covid patients h...   \n",
       "95025  epitwitter favorite papers markov chain monte ...   \n",
       "\n",
       "                                         tokenized_sents  \\\n",
       "0      [['remember', 'shudder', 'superb', 'ben', 'elt...   \n",
       "1      [['people', 'die', 'coronavirus', 'gravestones...   \n",
       "2      [['authackeray', 'officeofut', 'prevention', '...   \n",
       "3      [['sobering', 'assessment'], ['every', 'countr...   \n",
       "4      [['even', 'good', 'beat', 'covid', 'alaskans',...   \n",
       "...                                                  ...   \n",
       "95021  [['help', 'slow', 'spread', 'covid', 'identify...   \n",
       "95022  [['people', 'tend', 'see', 'problems', 'inconv...   \n",
       "95023  [['covid', 'modern', 'retouched', 'version', '...   \n",
       "95024  [['chloroquine', 'really', 'help', 'treat', 'c...   \n",
       "95025  [['epitwitter', 'favorite', 'papers', 'markov'...   \n",
       "\n",
       "                                        normalized_sents        date  \n",
       "0      [['remember', 'shudder', 'superb', 'ben', 'elt...  2020-03-08  \n",
       "1      [['people', 'die', 'coronavirus', 'gravestones...  2020-03-11  \n",
       "2      [['authackeray', 'officeofut', 'prevention', '...  2020-03-07  \n",
       "3      [['sobering', 'assessment'], ['country', 'cont...  2020-03-11  \n",
       "4      [['good', 'beat', 'covid', 'alaskans', 'going'...  2020-03-11  \n",
       "...                                                  ...         ...  \n",
       "95021  [['help', 'slow', 'spread', 'covid', 'identify...  2020-03-25  \n",
       "95022  [['people', 'tend', 'problems', 'inconvenient'...  2020-03-25  \n",
       "95023  [['covid', 'modern', 'retouched', 'version', '...  2020-03-25  \n",
       "95024  [['chloroquine', 'help', 'treat', 'covid', 'pa...  2020-03-25  \n",
       "95025  [['epitwitter', 'favorite', 'papers', 'markov'...  2020-03-25  \n",
       "\n",
       "[95026 rows x 12 columns]"
      ]
     },
     "execution_count": 531,
     "metadata": {},
     "output_type": "execute_result"
    }
   ],
   "source": [
    "tweets"
   ]
  },
  {
   "cell_type": "code",
   "execution_count": 529,
   "metadata": {},
   "outputs": [],
   "source": [
    "tweets=pd.read_csv(path+'/tweets.CSV')"
   ]
  },
  {
   "cell_type": "code",
   "execution_count": 530,
   "metadata": {},
   "outputs": [],
   "source": [
    "tweets['clean_text'] =tweets['clean_text'].astype(str)"
   ]
  },
  {
   "cell_type": "code",
   "execution_count": 532,
   "metadata": {},
   "outputs": [],
   "source": [
    "tweets['tokenized_words'] = tweets['clean_text'].apply(lambda x: lucem_illud_2020.word_tokenize(x))\n",
    "tweets['normalized_words'] = tweets['tokenized_words'].apply(lambda x: lucem_illud_2020.normalizeTokens(x, lemma=False))"
   ]
  },
  {
   "cell_type": "code",
   "execution_count": 248,
   "metadata": {
    "scrolled": true
   },
   "outputs": [
    {
     "name": "stderr",
     "output_type": "stream",
     "text": [
      "/Users/sunny/opt/anaconda3/lib/python3.7/site-packages/ipykernel_launcher.py:1: SettingWithCopyWarning: \n",
      "A value is trying to be set on a copy of a slice from a DataFrame.\n",
      "Try using .loc[row_indexer,col_indexer] = value instead\n",
      "\n",
      "See the caveats in the documentation: http://pandas.pydata.org/pandas-docs/stable/user_guide/indexing.html#returning-a-view-versus-a-copy\n",
      "  \"\"\"Entry point for launching an IPython kernel.\n",
      "/Users/sunny/opt/anaconda3/lib/python3.7/site-packages/ipykernel_launcher.py:2: SettingWithCopyWarning: \n",
      "A value is trying to be set on a copy of a slice from a DataFrame.\n",
      "Try using .loc[row_indexer,col_indexer] = value instead\n",
      "\n",
      "See the caveats in the documentation: http://pandas.pydata.org/pandas-docs/stable/user_guide/indexing.html#returning-a-view-versus-a-copy\n",
      "  \n"
     ]
    }
   ],
   "source": [
    "t_middle['tokenized_words'] = t_middle['clean_text'].apply(lambda x: lucem_illud_2020.word_tokenize(x))\n",
    "t_middle['normalized_words'] = t_middle['tokenized_words'].apply(lambda x: lucem_illud_2020.normalizeTokens(x, lemma=False))"
   ]
  },
  {
   "cell_type": "code",
   "execution_count": 533,
   "metadata": {},
   "outputs": [],
   "source": [
    "keywords = ['business', 'health', 'government']"
   ]
  },
  {
   "cell_type": "code",
   "execution_count": 534,
   "metadata": {},
   "outputs": [],
   "source": [
    "def taggedDoc(df):\n",
    "    taggedDocs = []\n",
    "    for index, row in df.iterrows():\n",
    "        #Just doing a simple keyword assignment\n",
    "        docKeywords = [s for s in keywords if s in row['normalized_words']]\n",
    "        #docKeywords.append(row['created_at'])\n",
    "        docKeywords.append(row['user_id']) \n",
    "        docKeywords.append(row['date']) \n",
    "        taggedDocs.append(gensim.models.doc2vec.LabeledSentence(words = row['normalized_words'], tags = docKeywords))\n",
    "    df['TaggedAbstracts'] = taggedDocs\n",
    "    return df"
   ]
  },
  {
   "cell_type": "code",
   "execution_count": 535,
   "metadata": {},
   "outputs": [],
   "source": [
    "tweets2 = taggedDoc(tweets)"
   ]
  },
  {
   "cell_type": "code",
   "execution_count": 536,
   "metadata": {},
   "outputs": [
    {
     "data": {
      "text/html": [
       "<div>\n",
       "<style scoped>\n",
       "    .dataframe tbody tr th:only-of-type {\n",
       "        vertical-align: middle;\n",
       "    }\n",
       "\n",
       "    .dataframe tbody tr th {\n",
       "        vertical-align: top;\n",
       "    }\n",
       "\n",
       "    .dataframe thead th {\n",
       "        text-align: right;\n",
       "    }\n",
       "</style>\n",
       "<table border=\"1\" class=\"dataframe\">\n",
       "  <thead>\n",
       "    <tr style=\"text-align: right;\">\n",
       "      <th></th>\n",
       "      <th>Unnamed: 0</th>\n",
       "      <th>status_id</th>\n",
       "      <th>user_id</th>\n",
       "      <th>created_at</th>\n",
       "      <th>screen_name</th>\n",
       "      <th>text</th>\n",
       "      <th>followers_count</th>\n",
       "      <th>friends_count</th>\n",
       "      <th>clean_text</th>\n",
       "      <th>tokenized_sents</th>\n",
       "      <th>normalized_sents</th>\n",
       "      <th>date</th>\n",
       "      <th>tokenized_words</th>\n",
       "      <th>normalized_words</th>\n",
       "      <th>TaggedAbstracts</th>\n",
       "    </tr>\n",
       "  </thead>\n",
       "  <tbody>\n",
       "    <tr>\n",
       "      <td>0</td>\n",
       "      <td>0</td>\n",
       "      <td>1.236600e+18</td>\n",
       "      <td>1.113032e+18</td>\n",
       "      <td>2020-03-08T10:31:23Z</td>\n",
       "      <td>GarySch47413717</td>\n",
       "      <td>I remember this with a shudder. A superb Ben E...</td>\n",
       "      <td>155.0</td>\n",
       "      <td>197.0</td>\n",
       "      <td>remember shudder superb ben elton sketch last ...</td>\n",
       "      <td>[['remember', 'shudder', 'superb', 'ben', 'elt...</td>\n",
       "      <td>[['remember', 'shudder', 'superb', 'ben', 'elt...</td>\n",
       "      <td>2020-03-08</td>\n",
       "      <td>[remember, shudder, superb, ben, elton, sketch...</td>\n",
       "      <td>[remember, shudder, superb, ben, elton, sketch...</td>\n",
       "      <td>([remember, shudder, superb, ben, elton, sketc...</td>\n",
       "    </tr>\n",
       "    <tr>\n",
       "      <td>1</td>\n",
       "      <td>1</td>\n",
       "      <td>1.237699e+18</td>\n",
       "      <td>1.215211e+18</td>\n",
       "      <td>2020-03-11T11:17:42Z</td>\n",
       "      <td>KritikaSiroliya</td>\n",
       "      <td>People who die because of Coronavirus should h...</td>\n",
       "      <td>13.0</td>\n",
       "      <td>57.0</td>\n",
       "      <td>people die coronavirus gravestones say quarand...</td>\n",
       "      <td>[['people', 'die', 'coronavirus', 'gravestones...</td>\n",
       "      <td>[['people', 'die', 'coronavirus', 'gravestones...</td>\n",
       "      <td>2020-03-11</td>\n",
       "      <td>[people, die, coronavirus, gravestones, say, q...</td>\n",
       "      <td>[people, die, coronavirus, gravestones, quaran...</td>\n",
       "      <td>([people, die, coronavirus, gravestones, quara...</td>\n",
       "    </tr>\n",
       "    <tr>\n",
       "      <td>2</td>\n",
       "      <td>2</td>\n",
       "      <td>1.236395e+18</td>\n",
       "      <td>3.248120e+08</td>\n",
       "      <td>2020-03-07T20:56:13Z</td>\n",
       "      <td>kumar_2302</td>\n",
       "      <td>@AUThackeray @OfficeofUT \\n\\nPrevention is bet...</td>\n",
       "      <td>38.0</td>\n",
       "      <td>106.0</td>\n",
       "      <td>authackeray officeofut prevention better cure ...</td>\n",
       "      <td>[['authackeray', 'officeofut', 'prevention', '...</td>\n",
       "      <td>[['authackeray', 'officeofut', 'prevention', '...</td>\n",
       "      <td>2020-03-07</td>\n",
       "      <td>[authackeray, officeofut, prevention, better, ...</td>\n",
       "      <td>[authackeray, officeofut, prevention, better, ...</td>\n",
       "      <td>([authackeray, officeofut, prevention, better,...</td>\n",
       "    </tr>\n",
       "    <tr>\n",
       "      <td>3</td>\n",
       "      <td>3</td>\n",
       "      <td>1.237793e+18</td>\n",
       "      <td>3.868509e+08</td>\n",
       "      <td>2020-03-11T17:30:58Z</td>\n",
       "      <td>HEARDatUNSW</td>\n",
       "      <td>Sobering assessment; every country should be d...</td>\n",
       "      <td>2712.0</td>\n",
       "      <td>4994.0</td>\n",
       "      <td>sobering assessment every country still contai...</td>\n",
       "      <td>[['sobering', 'assessment'], ['every', 'countr...</td>\n",
       "      <td>[['sobering', 'assessment'], ['country', 'cont...</td>\n",
       "      <td>2020-03-11</td>\n",
       "      <td>[sobering, assessment, every, country, still, ...</td>\n",
       "      <td>[sobering, assessment, country, contain, mitig...</td>\n",
       "      <td>([sobering, assessment, country, contain, miti...</td>\n",
       "    </tr>\n",
       "    <tr>\n",
       "      <td>4</td>\n",
       "      <td>4</td>\n",
       "      <td>1.237867e+18</td>\n",
       "      <td>1.952652e+07</td>\n",
       "      <td>2020-03-11T22:24:15Z</td>\n",
       "      <td>mspanish</td>\n",
       "      <td>Even if we get a good beat on #covid19, Alaska...</td>\n",
       "      <td>713.0</td>\n",
       "      <td>247.0</td>\n",
       "      <td>even good beat covid alaskans going take huge ...</td>\n",
       "      <td>[['even', 'good', 'beat', 'covid', 'alaskans',...</td>\n",
       "      <td>[['good', 'beat', 'covid', 'alaskans', 'going'...</td>\n",
       "      <td>2020-03-11</td>\n",
       "      <td>[even, good, beat, covid, alaskans, going, tak...</td>\n",
       "      <td>[good, beat, covid, alaskans, going, huge, fin...</td>\n",
       "      <td>([good, beat, covid, alaskans, going, huge, fi...</td>\n",
       "    </tr>\n",
       "    <tr>\n",
       "      <td>...</td>\n",
       "      <td>...</td>\n",
       "      <td>...</td>\n",
       "      <td>...</td>\n",
       "      <td>...</td>\n",
       "      <td>...</td>\n",
       "      <td>...</td>\n",
       "      <td>...</td>\n",
       "      <td>...</td>\n",
       "      <td>...</td>\n",
       "      <td>...</td>\n",
       "      <td>...</td>\n",
       "      <td>...</td>\n",
       "      <td>...</td>\n",
       "      <td>...</td>\n",
       "      <td>...</td>\n",
       "    </tr>\n",
       "    <tr>\n",
       "      <td>95021</td>\n",
       "      <td>4851</td>\n",
       "      <td>1.242737e+18</td>\n",
       "      <td>8.768303e+17</td>\n",
       "      <td>2020-03-25T08:54:54Z</td>\n",
       "      <td>AKRouseSL</td>\n",
       "      <td>Help slow the spread of #COVID19 and identify ...</td>\n",
       "      <td>2806.0</td>\n",
       "      <td>3576.0</td>\n",
       "      <td>help slow spread covid identify risk cases soo...</td>\n",
       "      <td>[['help', 'slow', 'spread', 'covid', 'identify...</td>\n",
       "      <td>[['help', 'slow', 'spread', 'covid', 'identify...</td>\n",
       "      <td>2020-03-25</td>\n",
       "      <td>[help, slow, spread, covid, identify, risk, ca...</td>\n",
       "      <td>[help, slow, spread, covid, identify, risk, ca...</td>\n",
       "      <td>([help, slow, spread, covid, identify, risk, c...</td>\n",
       "    </tr>\n",
       "    <tr>\n",
       "      <td>95022</td>\n",
       "      <td>4852</td>\n",
       "      <td>1.242725e+18</td>\n",
       "      <td>1.238406e+18</td>\n",
       "      <td>2020-03-25T08:08:17Z</td>\n",
       "      <td>Illumin67953111</td>\n",
       "      <td>Most people tend to see problems as inconvenie...</td>\n",
       "      <td>0.0</td>\n",
       "      <td>14.0</td>\n",
       "      <td>people tend see problems inconvenient disrupti...</td>\n",
       "      <td>[['people', 'tend', 'see', 'problems', 'inconv...</td>\n",
       "      <td>[['people', 'tend', 'problems', 'inconvenient'...</td>\n",
       "      <td>2020-03-25</td>\n",
       "      <td>[people, tend, see, problems, inconvenient, di...</td>\n",
       "      <td>[people, tend, problems, inconvenient, disrupt...</td>\n",
       "      <td>([people, tend, problems, inconvenient, disrup...</td>\n",
       "    </tr>\n",
       "    <tr>\n",
       "      <td>95023</td>\n",
       "      <td>4853</td>\n",
       "      <td>1.242838e+18</td>\n",
       "      <td>9.339442e+17</td>\n",
       "      <td>2020-03-25T15:36:40Z</td>\n",
       "      <td>synapse_doc</td>\n",
       "      <td>#Covid_19 is a modern, retouched version of #P...</td>\n",
       "      <td>201.0</td>\n",
       "      <td>535.0</td>\n",
       "      <td>covid modern retouched version plague call plague</td>\n",
       "      <td>[['covid', 'modern', 'retouched', 'version', '...</td>\n",
       "      <td>[['covid', 'modern', 'retouched', 'version', '...</td>\n",
       "      <td>2020-03-25</td>\n",
       "      <td>[covid, modern, retouched, version, plague, ca...</td>\n",
       "      <td>[covid, modern, retouched, version, plague, pl...</td>\n",
       "      <td>([covid, modern, retouched, version, plague, p...</td>\n",
       "    </tr>\n",
       "    <tr>\n",
       "      <td>95024</td>\n",
       "      <td>4854</td>\n",
       "      <td>1.242880e+18</td>\n",
       "      <td>2.265559e+09</td>\n",
       "      <td>2020-03-25T18:24:52Z</td>\n",
       "      <td>abbasiam77</td>\n",
       "      <td>Can chloroquine really help treat #COVID19 pat...</td>\n",
       "      <td>457.0</td>\n",
       "      <td>384.0</td>\n",
       "      <td>chloroquine really help treat covid patients h...</td>\n",
       "      <td>[['chloroquine', 'really', 'help', 'treat', 'c...</td>\n",
       "      <td>[['chloroquine', 'help', 'treat', 'covid', 'pa...</td>\n",
       "      <td>2020-03-25</td>\n",
       "      <td>[chloroquine, really, help, treat, covid, pati...</td>\n",
       "      <td>[chloroquine, help, treat, covid, patients, ht...</td>\n",
       "      <td>([chloroquine, help, treat, covid, patients, h...</td>\n",
       "    </tr>\n",
       "    <tr>\n",
       "      <td>95025</td>\n",
       "      <td>4855</td>\n",
       "      <td>1.242870e+18</td>\n",
       "      <td>3.442054e+08</td>\n",
       "      <td>2020-03-25T17:43:24Z</td>\n",
       "      <td>madhurarane</td>\n",
       "      <td>#epitwitter any favorite papers on Markov Chai...</td>\n",
       "      <td>243.0</td>\n",
       "      <td>368.0</td>\n",
       "      <td>epitwitter favorite papers markov chain monte ...</td>\n",
       "      <td>[['epitwitter', 'favorite', 'papers', 'markov'...</td>\n",
       "      <td>[['epitwitter', 'favorite', 'papers', 'markov'...</td>\n",
       "      <td>2020-03-25</td>\n",
       "      <td>[epitwitter, favorite, papers, markov, chain, ...</td>\n",
       "      <td>[epitwitter, favorite, papers, markov, chain, ...</td>\n",
       "      <td>([epitwitter, favorite, papers, markov, chain,...</td>\n",
       "    </tr>\n",
       "  </tbody>\n",
       "</table>\n",
       "<p>95026 rows × 15 columns</p>\n",
       "</div>"
      ],
      "text/plain": [
       "       Unnamed: 0     status_id       user_id            created_at  \\\n",
       "0               0  1.236600e+18  1.113032e+18  2020-03-08T10:31:23Z   \n",
       "1               1  1.237699e+18  1.215211e+18  2020-03-11T11:17:42Z   \n",
       "2               2  1.236395e+18  3.248120e+08  2020-03-07T20:56:13Z   \n",
       "3               3  1.237793e+18  3.868509e+08  2020-03-11T17:30:58Z   \n",
       "4               4  1.237867e+18  1.952652e+07  2020-03-11T22:24:15Z   \n",
       "...           ...           ...           ...                   ...   \n",
       "95021        4851  1.242737e+18  8.768303e+17  2020-03-25T08:54:54Z   \n",
       "95022        4852  1.242725e+18  1.238406e+18  2020-03-25T08:08:17Z   \n",
       "95023        4853  1.242838e+18  9.339442e+17  2020-03-25T15:36:40Z   \n",
       "95024        4854  1.242880e+18  2.265559e+09  2020-03-25T18:24:52Z   \n",
       "95025        4855  1.242870e+18  3.442054e+08  2020-03-25T17:43:24Z   \n",
       "\n",
       "           screen_name                                               text  \\\n",
       "0      GarySch47413717  I remember this with a shudder. A superb Ben E...   \n",
       "1      KritikaSiroliya  People who die because of Coronavirus should h...   \n",
       "2           kumar_2302  @AUThackeray @OfficeofUT \\n\\nPrevention is bet...   \n",
       "3          HEARDatUNSW  Sobering assessment; every country should be d...   \n",
       "4             mspanish  Even if we get a good beat on #covid19, Alaska...   \n",
       "...                ...                                                ...   \n",
       "95021        AKRouseSL  Help slow the spread of #COVID19 and identify ...   \n",
       "95022  Illumin67953111  Most people tend to see problems as inconvenie...   \n",
       "95023      synapse_doc  #Covid_19 is a modern, retouched version of #P...   \n",
       "95024       abbasiam77  Can chloroquine really help treat #COVID19 pat...   \n",
       "95025      madhurarane  #epitwitter any favorite papers on Markov Chai...   \n",
       "\n",
       "       followers_count  friends_count  \\\n",
       "0                155.0          197.0   \n",
       "1                 13.0           57.0   \n",
       "2                 38.0          106.0   \n",
       "3               2712.0         4994.0   \n",
       "4                713.0          247.0   \n",
       "...                ...            ...   \n",
       "95021           2806.0         3576.0   \n",
       "95022              0.0           14.0   \n",
       "95023            201.0          535.0   \n",
       "95024            457.0          384.0   \n",
       "95025            243.0          368.0   \n",
       "\n",
       "                                              clean_text  \\\n",
       "0      remember shudder superb ben elton sketch last ...   \n",
       "1      people die coronavirus gravestones say quarand...   \n",
       "2      authackeray officeofut prevention better cure ...   \n",
       "3      sobering assessment every country still contai...   \n",
       "4      even good beat covid alaskans going take huge ...   \n",
       "...                                                  ...   \n",
       "95021  help slow spread covid identify risk cases soo...   \n",
       "95022  people tend see problems inconvenient disrupti...   \n",
       "95023  covid modern retouched version plague call plague   \n",
       "95024  chloroquine really help treat covid patients h...   \n",
       "95025  epitwitter favorite papers markov chain monte ...   \n",
       "\n",
       "                                         tokenized_sents  \\\n",
       "0      [['remember', 'shudder', 'superb', 'ben', 'elt...   \n",
       "1      [['people', 'die', 'coronavirus', 'gravestones...   \n",
       "2      [['authackeray', 'officeofut', 'prevention', '...   \n",
       "3      [['sobering', 'assessment'], ['every', 'countr...   \n",
       "4      [['even', 'good', 'beat', 'covid', 'alaskans',...   \n",
       "...                                                  ...   \n",
       "95021  [['help', 'slow', 'spread', 'covid', 'identify...   \n",
       "95022  [['people', 'tend', 'see', 'problems', 'inconv...   \n",
       "95023  [['covid', 'modern', 'retouched', 'version', '...   \n",
       "95024  [['chloroquine', 'really', 'help', 'treat', 'c...   \n",
       "95025  [['epitwitter', 'favorite', 'papers', 'markov'...   \n",
       "\n",
       "                                        normalized_sents        date  \\\n",
       "0      [['remember', 'shudder', 'superb', 'ben', 'elt...  2020-03-08   \n",
       "1      [['people', 'die', 'coronavirus', 'gravestones...  2020-03-11   \n",
       "2      [['authackeray', 'officeofut', 'prevention', '...  2020-03-07   \n",
       "3      [['sobering', 'assessment'], ['country', 'cont...  2020-03-11   \n",
       "4      [['good', 'beat', 'covid', 'alaskans', 'going'...  2020-03-11   \n",
       "...                                                  ...         ...   \n",
       "95021  [['help', 'slow', 'spread', 'covid', 'identify...  2020-03-25   \n",
       "95022  [['people', 'tend', 'problems', 'inconvenient'...  2020-03-25   \n",
       "95023  [['covid', 'modern', 'retouched', 'version', '...  2020-03-25   \n",
       "95024  [['chloroquine', 'help', 'treat', 'covid', 'pa...  2020-03-25   \n",
       "95025  [['epitwitter', 'favorite', 'papers', 'markov'...  2020-03-25   \n",
       "\n",
       "                                         tokenized_words  \\\n",
       "0      [remember, shudder, superb, ben, elton, sketch...   \n",
       "1      [people, die, coronavirus, gravestones, say, q...   \n",
       "2      [authackeray, officeofut, prevention, better, ...   \n",
       "3      [sobering, assessment, every, country, still, ...   \n",
       "4      [even, good, beat, covid, alaskans, going, tak...   \n",
       "...                                                  ...   \n",
       "95021  [help, slow, spread, covid, identify, risk, ca...   \n",
       "95022  [people, tend, see, problems, inconvenient, di...   \n",
       "95023  [covid, modern, retouched, version, plague, ca...   \n",
       "95024  [chloroquine, really, help, treat, covid, pati...   \n",
       "95025  [epitwitter, favorite, papers, markov, chain, ...   \n",
       "\n",
       "                                        normalized_words  \\\n",
       "0      [remember, shudder, superb, ben, elton, sketch...   \n",
       "1      [people, die, coronavirus, gravestones, quaran...   \n",
       "2      [authackeray, officeofut, prevention, better, ...   \n",
       "3      [sobering, assessment, country, contain, mitig...   \n",
       "4      [good, beat, covid, alaskans, going, huge, fin...   \n",
       "...                                                  ...   \n",
       "95021  [help, slow, spread, covid, identify, risk, ca...   \n",
       "95022  [people, tend, problems, inconvenient, disrupt...   \n",
       "95023  [covid, modern, retouched, version, plague, pl...   \n",
       "95024  [chloroquine, help, treat, covid, patients, ht...   \n",
       "95025  [epitwitter, favorite, papers, markov, chain, ...   \n",
       "\n",
       "                                         TaggedAbstracts  \n",
       "0      ([remember, shudder, superb, ben, elton, sketc...  \n",
       "1      ([people, die, coronavirus, gravestones, quara...  \n",
       "2      ([authackeray, officeofut, prevention, better,...  \n",
       "3      ([sobering, assessment, country, contain, miti...  \n",
       "4      ([good, beat, covid, alaskans, going, huge, fi...  \n",
       "...                                                  ...  \n",
       "95021  ([help, slow, spread, covid, identify, risk, c...  \n",
       "95022  ([people, tend, problems, inconvenient, disrup...  \n",
       "95023  ([covid, modern, retouched, version, plague, p...  \n",
       "95024  ([chloroquine, help, treat, covid, patients, h...  \n",
       "95025  ([epitwitter, favorite, papers, markov, chain,...  \n",
       "\n",
       "[95026 rows x 15 columns]"
      ]
     },
     "execution_count": 536,
     "metadata": {},
     "output_type": "execute_result"
    }
   ],
   "source": [
    "tweets"
   ]
  },
  {
   "cell_type": "code",
   "execution_count": 537,
   "metadata": {},
   "outputs": [],
   "source": [
    "tweets_D2V = gensim.models.doc2vec.Doc2Vec(tweets2['TaggedAbstracts']) #Limiting to 100 dimensions"
   ]
  },
  {
   "cell_type": "code",
   "execution_count": 538,
   "metadata": {},
   "outputs": [
    {
     "data": {
      "text/plain": [
       "array([-0.00944724, -0.01113185,  0.01034331, -0.01270521, -0.01149586,\n",
       "       -0.01094904, -0.00387386,  0.00515857,  0.01895185, -0.00311887,\n",
       "        0.01152909, -0.0154078 , -0.01070913, -0.02611423, -0.00197807,\n",
       "        0.0113584 , -0.01059575, -0.04016032, -0.01311278, -0.01240623,\n",
       "        0.02912775, -0.02328047,  0.012389  ,  0.01519553, -0.00604678,\n",
       "       -0.00479146, -0.01494254,  0.00670888, -0.00541329,  0.00370007,\n",
       "       -0.01125775, -0.00696997,  0.00669943,  0.00900911,  0.01027095,\n",
       "        0.02541978, -0.01208153,  0.00291027, -0.0122975 ,  0.00718307,\n",
       "        0.01719297, -0.01355731, -0.00393203, -0.00964338, -0.00170793,\n",
       "        0.00736828, -0.01354241,  0.02063713,  0.00751775, -0.00898272,\n",
       "       -0.00101904,  0.01196939, -0.00441029,  0.00441157, -0.00686843,\n",
       "        0.0135488 , -0.01112121, -0.01406554,  0.01526789, -0.01361915,\n",
       "       -0.0092185 ,  0.01893493, -0.01312734, -0.01336498, -0.00723595,\n",
       "       -0.00282249, -0.02739462,  0.00964466,  0.00484938, -0.00863351,\n",
       "       -0.01439855,  0.01046823, -0.02442251,  0.01883106, -0.03750236,\n",
       "        0.01777146,  0.01320407,  0.00694656, -0.02259208,  0.01166679,\n",
       "        0.00859559,  0.00285108,  0.02666971,  0.00296736,  0.00967585,\n",
       "        0.00478256,  0.03266544,  0.00126834,  0.00241016, -0.00456379,\n",
       "        0.00998669,  0.00642805,  0.01665842, -0.03609054, -0.02319757,\n",
       "       -0.01715466, -0.00669489, -0.00116773,  0.03047807, -0.00631678],\n",
       "      dtype=float32)"
      ]
     },
     "execution_count": 538,
     "metadata": {},
     "output_type": "execute_result"
    }
   ],
   "source": [
    "tweets_D2V.docvecs[1952]"
   ]
  },
  {
   "cell_type": "code",
   "execution_count": 541,
   "metadata": {},
   "outputs": [
    {
     "data": {
      "text/plain": [
       "[('prc', 0.7321560978889465),\n",
       " ('spared', 0.7007890939712524),\n",
       " ('conceal', 0.6924067139625549),\n",
       " ('capitalist', 0.6889759302139282),\n",
       " ('erase', 0.6831562519073486),\n",
       " ('mistake', 0.6768040657043457),\n",
       " ('chooses', 0.6748636960983276),\n",
       " ('incompetents', 0.6693326234817505),\n",
       " ('isis', 0.6665671467781067),\n",
       " ('ccp', 0.6661813855171204)]"
      ]
     },
     "execution_count": 541,
     "metadata": {},
     "output_type": "execute_result"
    }
   ],
   "source": [
    "tweets_D2V.most_similar(positive = ['coronavirus','die'], negative = ['quarantine'], topn = 10)"
   ]
  },
  {
   "cell_type": "code",
   "execution_count": 569,
   "metadata": {},
   "outputs": [
    {
     "data": {
      "text/plain": [
       "[('crippled', 0.7527470588684082),\n",
       " ('repo', 0.7455227375030518),\n",
       " ('davidndii', 0.7370357513427734),\n",
       " ('imf', 0.7356643676757812),\n",
       " ('worsens', 0.7348222732543945),\n",
       " ('monies', 0.7297657132148743),\n",
       " ('moderna', 0.7249673008918762),\n",
       " ('bil', 0.7210463285446167),\n",
       " ('investments', 0.7191322445869446),\n",
       " ('abrupt', 0.71263587474823)]"
      ]
     },
     "execution_count": 569,
     "metadata": {},
     "output_type": "execute_result"
    }
   ],
   "source": [
    "tweets_D2V.most_similar(positive = ['coronavirus','unemployment'], negative = ['quarantine'], topn = 10)"
   ]
  },
  {
   "cell_type": "code",
   "execution_count": 542,
   "metadata": {},
   "outputs": [
    {
     "data": {
      "text/plain": [
       "[('inside', 0.894413948059082),\n",
       " ('stylish', 0.8567161560058594),\n",
       " ('indoors', 0.8524848222732544),\n",
       " ('calm', 0.84672611951828),\n",
       " ('indoor', 0.8284932971000671),\n",
       " ('away', 0.8273236751556396),\n",
       " ('tuned', 0.8065897226333618),\n",
       " ('sane', 0.8060049414634705),\n",
       " ('slaves', 0.8028801679611206),\n",
       " ('strong', 0.8022218942642212),\n",
       " ('hydrated', 0.8014959096908569),\n",
       " ('homes', 0.8006170988082886),\n",
       " ('safe', 0.7978359460830688),\n",
       " ('lulu', 0.7960317134857178),\n",
       " ('remotely', 0.794701099395752),\n",
       " ('chemist', 0.7910518646240234),\n",
       " ('grill', 0.7851932048797607),\n",
       " ('intact', 0.7840599417686462),\n",
       " ('informed', 0.780685544013977),\n",
       " ('afloat', 0.7798203229904175)]"
      ]
     },
     "execution_count": 542,
     "metadata": {},
     "output_type": "execute_result"
    }
   ],
   "source": [
    "tweets_D2V.most_similar('home',topn=20)"
   ]
  },
  {
   "cell_type": "code",
   "execution_count": 543,
   "metadata": {},
   "outputs": [
    {
     "data": {
      "text/plain": [
       "[('wear', 0.962250828742981),\n",
       " ('wearing', 0.9526770710945129),\n",
       " ('gloves', 0.9386795163154602),\n",
       " ('surgical', 0.9378361105918884),\n",
       " ('masks', 0.9191844463348389),\n",
       " ('face', 0.9167375564575195),\n",
       " ('homemade', 0.9124873876571655),\n",
       " ('cloth', 0.8930113315582275),\n",
       " ('reuse', 0.8881298303604126),\n",
       " ('cotton', 0.885045051574707),\n",
       " ('wore', 0.8769561052322388),\n",
       " ('n', 0.8769251704216003),\n",
       " ('disposable', 0.8735134601593018),\n",
       " ('sew', 0.8692960739135742),\n",
       " ('gowns', 0.8685742616653442),\n",
       " ('damp', 0.8619394898414612),\n",
       " ('rubber', 0.861600399017334),\n",
       " ('filter', 0.8613491058349609),\n",
       " ('crypt', 0.8490316867828369),\n",
       " ('washable', 0.8488696813583374)]"
      ]
     },
     "execution_count": 543,
     "metadata": {},
     "output_type": "execute_result"
    }
   ],
   "source": [
    "tweets_D2V.most_similar('mask',topn=20)"
   ]
  },
  {
   "cell_type": "code",
   "execution_count": 544,
   "metadata": {},
   "outputs": [
    {
     "data": {
      "text/plain": [
       "[('coronavirus', 0.712731122970581),\n",
       " ('coronaviruspandemic', 0.7015467882156372),\n",
       " ('coronavirusoutbreak', 0.6760886907577515),\n",
       " ('covidー', 0.6691873073577881),\n",
       " ('ino', 0.6286684274673462),\n",
       " ('writerscommunity', 0.6248790621757507),\n",
       " ('hpbsrilanka', 0.6225948333740234),\n",
       " ('bearing', 0.6194446086883545),\n",
       " ('nizamuddinmarkaz', 0.6141741871833801),\n",
       " ('️⃣️⃣', 0.6118367910385132),\n",
       " ('nswpol', 0.6081840991973877),\n",
       " ('robotics', 0.6070255041122437),\n",
       " ('coronavirusnews', 0.6065179705619812),\n",
       " ('meghanmccain', 0.6061654090881348),\n",
       " ('coronaviruswuhan', 0.6008708477020264),\n",
       " ('covidsk', 0.5946162939071655),\n",
       " ('🤜', 0.5945422053337097),\n",
       " ('microbe', 0.5939949750900269),\n",
       " ('preventcovidspread', 0.5923926830291748),\n",
       " ('coronaviruscare', 0.5899040102958679)]"
      ]
     },
     "execution_count": 544,
     "metadata": {},
     "output_type": "execute_result"
    }
   ],
   "source": [
    "tweets_D2V.most_similar('covid',topn=20)"
   ]
  },
  {
   "cell_type": "code",
   "execution_count": 545,
   "metadata": {},
   "outputs": [
    {
     "data": {
      "text/plain": [
       "[('revenue', 0.9337961673736572),\n",
       " ('repo', 0.9227470755577087),\n",
       " ('interest', 0.9217000603675842),\n",
       " ('crashed', 0.9104493856430054),\n",
       " ('cuts', 0.9090235829353333),\n",
       " ('raised', 0.9088479280471802),\n",
       " ('crunch', 0.9056503772735596),\n",
       " ('congressional', 0.9055623412132263),\n",
       " ('benefits', 0.9048537611961365),\n",
       " ('immigration', 0.9007117748260498),\n",
       " ('waived', 0.899989128112793),\n",
       " ('borrowers', 0.8994029760360718),\n",
       " ('file', 0.8988276720046997),\n",
       " ('cynthia', 0.8958545327186584),\n",
       " ('consumer', 0.8955869674682617),\n",
       " ('dwindling', 0.8953313231468201),\n",
       " ('reserves', 0.8947199583053589),\n",
       " ('spur', 0.893818736076355),\n",
       " ('substantial', 0.8918281197547913),\n",
       " ('foldinghome', 0.890113353729248)]"
      ]
     },
     "execution_count": 545,
     "metadata": {},
     "output_type": "execute_result"
    }
   ],
   "source": [
    "tweets_D2V.most_similar('unemployment',topn=20)"
   ]
  },
  {
   "cell_type": "code",
   "execution_count": 546,
   "metadata": {},
   "outputs": [
    {
     "data": {
      "text/plain": [
       "[('relations', 0.8365764617919922),\n",
       " ('general', 0.802803635597229),\n",
       " ('confidently', 0.7983219623565674),\n",
       " ('lav', 0.7977764010429382),\n",
       " ('sabotage', 0.7867748737335205),\n",
       " ('defender', 0.7863364219665527),\n",
       " ('gender', 0.7845973372459412),\n",
       " ('aggarwal', 0.7750453352928162),\n",
       " ('welfare', 0.7734865546226501),\n",
       " ('susannareid', 0.7732248306274414),\n",
       " ('justice', 0.770909309387207),\n",
       " ('abuse', 0.7689192891120911),\n",
       " ('informing', 0.767680287361145),\n",
       " ('healthcare', 0.7668037414550781),\n",
       " ('tb', 0.7658102512359619),\n",
       " ('infrastructure', 0.7650285959243774),\n",
       " ('duty', 0.7612237334251404),\n",
       " ('core', 0.7609747648239136),\n",
       " ('values', 0.7606238722801208),\n",
       " ('publicrelations', 0.7586989998817444)]"
      ]
     },
     "execution_count": 546,
     "metadata": {},
     "output_type": "execute_result"
    }
   ],
   "source": [
    "tweets_D2V.most_similar('health',topn=20)"
   ]
  },
  {
   "cell_type": "code",
   "execution_count": 547,
   "metadata": {},
   "outputs": [
    {
     "data": {
      "text/plain": [
       "[('icu', 0.9440659880638123),\n",
       " ('beds', 0.9422420859336853),\n",
       " ('clinic', 0.9310956001281738),\n",
       " ('patients', 0.913620114326477),\n",
       " ('transferred', 0.9053199291229248),\n",
       " ('overflow', 0.9031969308853149),\n",
       " ('lopinavir', 0.8985985517501831),\n",
       " ('patient', 0.8982025384902954),\n",
       " ('mechanical', 0.8927170038223267),\n",
       " ('unit', 0.8907941579818726),\n",
       " ('gilgitbaltistan', 0.8897199630737305),\n",
       " ('skims', 0.8879135847091675),\n",
       " ('admitted', 0.8833320736885071),\n",
       " ('er', 0.8825514316558838),\n",
       " ('facility', 0.8789114356040955),\n",
       " ('condition', 0.8772653937339783),\n",
       " ('elmhurst', 0.875521183013916),\n",
       " ('nurse', 0.8704530596733093),\n",
       " ('intubated', 0.8691346049308777),\n",
       " ('memorial', 0.8669761419296265)]"
      ]
     },
     "execution_count": 547,
     "metadata": {},
     "output_type": "execute_result"
    }
   ],
   "source": [
    "tweets_D2V.most_similar('hospital',topn=20)"
   ]
  },
  {
   "cell_type": "code",
   "execution_count": 548,
   "metadata": {},
   "outputs": [
    {
     "data": {
      "text/plain": [
       "[('isolation', 0.8921976089477539),\n",
       " ('selfisolation', 0.8880329728126526),\n",
       " ('outdoors', 0.8757480978965759),\n",
       " ('snacks', 0.8599215745925903),\n",
       " ('self', 0.8545185923576355),\n",
       " ('confinement', 0.8542624711990356),\n",
       " ('selfisolating', 0.8475316762924194),\n",
       " ('hermit', 0.845015287399292),\n",
       " ('isolating', 0.8420137763023376),\n",
       " ('selfquarantine', 0.8380619883537292),\n",
       " ('socialdistancing', 0.8237118721008301),\n",
       " ('overs', 0.8226363062858582),\n",
       " ('fitfam', 0.8127874732017517),\n",
       " ('dmv', 0.8095118403434753),\n",
       " ('freshair', 0.8081628084182739),\n",
       " ('restless', 0.8067786693572998),\n",
       " ('apartments', 0.8067275881767273),\n",
       " ('adhering', 0.8061392307281494),\n",
       " ('silverlining', 0.7999780178070068),\n",
       " ('mco', 0.7944450974464417)]"
      ]
     },
     "execution_count": 548,
     "metadata": {},
     "output_type": "execute_result"
    }
   ],
   "source": [
    "tweets_D2V.most_similar('quarantine',topn=20)"
   ]
  },
  {
   "cell_type": "code",
   "execution_count": 551,
   "metadata": {},
   "outputs": [],
   "source": [
    "def heatmap(D2V):\n",
    "    keywords = ['business', 'health', 'government']\n",
    "    heatmapMatrix = []\n",
    "    for tagOuter in keywords:\n",
    "        column = []\n",
    "        tagVec = D2V.docvecs[tagOuter].reshape(1, -1)\n",
    "        for tagInner in keywords:\n",
    "            column.append(sklearn.metrics.pairwise.cosine_similarity(tagVec, D2V.docvecs[tagInner].reshape(1, -1))[0][0])\n",
    "        heatmapMatrix.append(column)\n",
    "    heatmapMatrix = np.array(heatmapMatrix)\n",
    "    return heatmapMatrix"
   ]
  },
  {
   "cell_type": "code",
   "execution_count": 552,
   "metadata": {
    "scrolled": true
   },
   "outputs": [
    {
     "data": {
      "image/png": "[encoded data removed]",
      "text/plain": [
       "<Figure size 432x288 with 2 Axes>"
      ]
     },
     "metadata": {
      "needs_background": "light"
     },
     "output_type": "display_data"
    }
   ],
   "source": [
    "fig, ax = plt.subplots()\n",
    "hmap = ax.pcolor(heatmap(tweets_D2V), cmap='terrain')\n",
    "cbar = plt.colorbar(hmap)\n",
    "\n",
    "cbar.set_label('cosine similarity', rotation=270)\n",
    "a = ax.set_xticks(np.arange(heatmap(tweets_D2V).shape[1]) + 0.5, minor=False)\n",
    "a = ax.set_yticks(np.arange(heatmap(tweets_D2V).shape[0]) + 0.5, minor=False)\n",
    "\n",
    "a = ax.set_xticklabels(keywords, minor=False, rotation=270)\n",
    "a = ax.set_yticklabels(keywords, minor=False)"
   ]
  },
  {
   "cell_type": "markdown",
   "metadata": {},
   "source": [
    "Second set of keywords"
   ]
  },
  {
   "cell_type": "code",
   "execution_count": 249,
   "metadata": {},
   "outputs": [],
   "source": [
    "keywords = ['home', 'mask', 'hospital', 'unemploy', 'business','china','trump']"
   ]
  },
  {
   "cell_type": "code",
   "execution_count": 250,
   "metadata": {},
   "outputs": [],
   "source": [
    "def taggedDoc(df):\n",
    "    taggedDocs = []\n",
    "    for index, row in df.iterrows():\n",
    "        #Just doing a simple keyword assignment\n",
    "        docKeywords = [s for s in keywords if s in row['normalized_words']]\n",
    "        #docKeywords.append(row['created_at'])\n",
    "        docKeywords.append(row['user_id']) \n",
    "        docKeywords.append(row['date']) \n",
    "        taggedDocs.append(gensim.models.doc2vec.LabeledSentence(words = row['normalized_words'], tags = docKeywords))\n",
    "    df['TaggedAbstracts'] = taggedDocs\n",
    "    return df"
   ]
  },
  {
   "cell_type": "code",
   "execution_count": 251,
   "metadata": {},
   "outputs": [],
   "source": [
    "tweets = taggedDoc(tweets)"
   ]
  },
  {
   "cell_type": "code",
   "execution_count": 252,
   "metadata": {},
   "outputs": [
    {
     "name": "stderr",
     "output_type": "stream",
     "text": [
      "/Users/sunny/opt/anaconda3/lib/python3.7/site-packages/ipykernel_launcher.py:10: SettingWithCopyWarning: \n",
      "A value is trying to be set on a copy of a slice from a DataFrame.\n",
      "Try using .loc[row_indexer,col_indexer] = value instead\n",
      "\n",
      "See the caveats in the documentation: http://pandas.pydata.org/pandas-docs/stable/user_guide/indexing.html#returning-a-view-versus-a-copy\n",
      "  # Remove the CWD from sys.path while we load stuff.\n"
     ]
    }
   ],
   "source": [
    "#t_early = taggedDoc(t_early)\n",
    "t_middle = taggedDoc(t_middle)\n",
    "#t_late = taggedDoc(t_late)"
   ]
  },
  {
   "cell_type": "markdown",
   "metadata": {},
   "source": [
    "Now we can train a Doc2Vec model:"
   ]
  },
  {
   "cell_type": "code",
   "execution_count": 264,
   "metadata": {},
   "outputs": [],
   "source": [
    "tweets_D2V = gensim.models.doc2vec.Doc2Vec(tweets['TaggedAbstracts']) #Limiting to 100 dimensions"
   ]
  },
  {
   "cell_type": "code",
   "execution_count": 265,
   "metadata": {},
   "outputs": [],
   "source": [
    "t_middle_D2V = gensim.models.doc2vec.Doc2Vec(t_middle['TaggedAbstracts']) #Limiting to 100 dimensions"
   ]
  },
  {
   "cell_type": "code",
   "execution_count": 266,
   "metadata": {},
   "outputs": [
    {
     "data": {
      "text/plain": [
       "array([-0.00355948,  0.01570338,  0.0082319 ,  0.00290277,  0.02367098,\n",
       "        0.01124169,  0.00042136,  0.01496433, -0.01550144, -0.01926011,\n",
       "        0.00163466,  0.0101212 , -0.00502198,  0.00598547,  0.00099262,\n",
       "        0.00402529,  0.01920057,  0.00881477, -0.00333056,  0.00083656,\n",
       "       -0.00077794,  0.00304133,  0.01337029,  0.00171063, -0.01292666,\n",
       "       -0.00963844, -0.00184522,  0.00288545,  0.01193904, -0.00714251,\n",
       "        0.02885506,  0.00897219,  0.00200434, -0.01363721, -0.00164889,\n",
       "        0.00549172, -0.00282486,  0.00336277,  0.0039133 ,  0.00248418,\n",
       "       -0.00622639, -0.00625132, -0.00309066, -0.0040193 ,  0.00175471,\n",
       "       -0.01028513,  0.00180658, -0.00858772,  0.00238651,  0.01213815,\n",
       "        0.00049258, -0.00710822, -0.01600838, -0.01895694,  0.0033494 ,\n",
       "        0.00343206, -0.00653774,  0.01019723,  0.00386452,  0.0121607 ,\n",
       "       -0.01015812, -0.00519738,  0.01329672,  0.00049012, -0.0079073 ,\n",
       "        0.00937037, -0.00344895, -0.00711733, -0.00640881,  0.0080708 ,\n",
       "        0.02199622, -0.00155039, -0.00245458,  0.01091135,  0.01757585,\n",
       "        0.00534227,  0.01540286, -0.00256145,  0.01480812, -0.00096041,\n",
       "       -0.00349204, -0.0058678 ,  0.00206057, -0.01212376, -0.0001865 ,\n",
       "        0.01724312,  0.00442637, -0.00631228,  0.00775646,  0.00065988,\n",
       "        0.00159622,  0.00705097, -0.00746739,  0.01319953,  0.00785273,\n",
       "       -0.00540672,  0.00151487, -0.00097585, -0.00266046,  0.00825724],\n",
       "      dtype=float32)"
      ]
     },
     "execution_count": 266,
     "metadata": {},
     "output_type": "execute_result"
    }
   ],
   "source": [
    "tweets_D2V.docvecs[1952]"
   ]
  },
  {
   "cell_type": "code",
   "execution_count": 172,
   "metadata": {},
   "outputs": [
    {
     "data": {
      "text/plain": [
       "[('stimulus', 0.7428148984909058),\n",
       " ('package', 0.733729898929596),\n",
       " ('release', 0.7156782150268555),\n",
       " ('disaster', 0.7070413827896118),\n",
       " ('fed', 0.6879985928535461),\n",
       " ('debt', 0.6730920076370239),\n",
       " ('senate', 0.6712179780006409),\n",
       " ('aid', 0.6630401015281677),\n",
       " ('federal', 0.6589062213897705),\n",
       " ('economic', 0.6571395993232727)]"
      ]
     },
     "execution_count": 172,
     "metadata": {},
     "output_type": "execute_result"
    }
   ],
   "source": [
    "tweets_D2V.most_similar(positive = ['coronavirus','unemployment'], negative = ['quarantine'], topn = 10)"
   ]
  },
  {
   "cell_type": "code",
   "execution_count": 173,
   "metadata": {},
   "outputs": [
    {
     "data": {
      "text/plain": [
       "[('inside', 0.7630157470703125),\n",
       " ('tuned', 0.7472996711730957),\n",
       " ('safe', 0.7385143041610718),\n",
       " ('afloat', 0.7382889986038208),\n",
       " ('hydrated', 0.7310097217559814),\n",
       " ('indoors', 0.6941436529159546),\n",
       " ('away', 0.6885595321655273),\n",
       " ('strong', 0.686705470085144),\n",
       " ('compliant', 0.6866974830627441),\n",
       " ('calm', 0.6790152788162231),\n",
       " ('sane', 0.6777802109718323),\n",
       " ('informed', 0.6721887588500977),\n",
       " ('connected', 0.6293342113494873),\n",
       " ('vigilant', 0.6156201958656311),\n",
       " ('hard', 0.6004638671875),\n",
       " ('homes', 0.5999728441238403),\n",
       " ('open', 0.5914211273193359),\n",
       " ('healthy', 0.5890816450119019),\n",
       " ('breaching', 0.5827533602714539),\n",
       " ('alive', 0.5648211240768433)]"
      ]
     },
     "execution_count": 173,
     "metadata": {},
     "output_type": "execute_result"
    }
   ],
   "source": [
    "tweets_D2V.most_similar('home',topn=20)"
   ]
  },
  {
   "cell_type": "code",
   "execution_count": 174,
   "metadata": {},
   "outputs": [
    {
     "data": {
      "text/plain": [
       "[('wearing', 0.9495799541473389),\n",
       " ('masks', 0.9326369762420654),\n",
       " ('wear', 0.9232177734375),\n",
       " ('gloves', 0.9028494954109192),\n",
       " ('n', 0.8869746923446655),\n",
       " ('surgical', 0.878038763999939),\n",
       " ('face', 0.8738647699356079),\n",
       " ('reuse', 0.8112946152687073),\n",
       " ('latex', 0.8006135821342468),\n",
       " ('capes', 0.792030930519104),\n",
       " ('shields', 0.783248245716095),\n",
       " ('inventing', 0.7777981758117676),\n",
       " ('wore', 0.7763280272483826),\n",
       " ('sanitizers', 0.7733383178710938),\n",
       " ('gowns', 0.7725917100906372),\n",
       " ('disposable', 0.7636605501174927),\n",
       " ('scarf', 0.7555315494537354),\n",
       " ('bags', 0.7516893148422241),\n",
       " ('suits', 0.7475183010101318),\n",
       " ('gear', 0.7395716905593872)]"
      ]
     },
     "execution_count": 174,
     "metadata": {},
     "output_type": "execute_result"
    }
   ],
   "source": [
    "tweets_D2V.most_similar('mask',topn=20)"
   ]
  },
  {
   "cell_type": "code",
   "execution_count": 175,
   "metadata": {},
   "outputs": [
    {
     "data": {
      "text/plain": [
       "[('coronavirus', 0.6896874308586121),\n",
       " ('coronavirusoutbreak', 0.6504004001617432),\n",
       " ('covidー', 0.5999453663825989),\n",
       " ('coviduk', 0.5723999738693237),\n",
       " ('hcldr', 0.566379189491272),\n",
       " ('socialresponsibility', 0.5653424859046936),\n",
       " ('coronaviruspandemic', 0.5639334321022034),\n",
       " ('coronavirussymptoms', 0.5552061796188354),\n",
       " ('highriskcovid', 0.5465692281723022),\n",
       " ('ivf', 0.5462421178817749),\n",
       " ('batflu', 0.5443960428237915),\n",
       " ('nhsmillion', 0.5430597066879272),\n",
       " ('coronauk', 0.5424625277519226),\n",
       " ('flattenthecurve', 0.5424352884292603),\n",
       " ('coronavirusuk', 0.5419423580169678),\n",
       " ('covidupdates', 0.5355822443962097),\n",
       " ('healthforall', 0.5319230556488037),\n",
       " ('coronaviruscoverup', 0.531039834022522),\n",
       " ('closetheschoolsnow', 0.5308496952056885),\n",
       " ('keeplearning', 0.5284460783004761)]"
      ]
     },
     "execution_count": 175,
     "metadata": {},
     "output_type": "execute_result"
    }
   ],
   "source": [
    "tweets_D2V.most_similar('covid',topn=20)"
   ]
  },
  {
   "cell_type": "code",
   "execution_count": 176,
   "metadata": {},
   "outputs": [
    {
     "data": {
      "text/plain": [
       "[('cut', 0.9113043546676636),\n",
       " ('interest', 0.904624342918396),\n",
       " ('debt', 0.8727056980133057),\n",
       " ('cuts', 0.8710061311721802),\n",
       " ('stimulus', 0.8644973635673523),\n",
       " ('expected', 0.858100175857544),\n",
       " ('tax', 0.8567716479301453),\n",
       " ('package', 0.851997971534729),\n",
       " ('fed', 0.8468796014785767),\n",
       " ('federal', 0.8458130359649658),\n",
       " ('airlines', 0.8436106443405151),\n",
       " ('massive', 0.8409160375595093),\n",
       " ('disaster', 0.836053192615509),\n",
       " ('fiscal', 0.8317457437515259),\n",
       " ('surveyed', 0.8304224014282227),\n",
       " ('emergency', 0.8279049396514893),\n",
       " ('admins', 0.8260005712509155),\n",
       " ('file', 0.8227752447128296),\n",
       " ('received', 0.8224619030952454),\n",
       " ('lawmakers', 0.8216419816017151)]"
      ]
     },
     "execution_count": 176,
     "metadata": {},
     "output_type": "execute_result"
    }
   ],
   "source": [
    "tweets_D2V.most_similar('unemployment',topn=20)"
   ]
  },
  {
   "cell_type": "code",
   "execution_count": 177,
   "metadata": {},
   "outputs": [
    {
     "data": {
      "text/plain": [
       "[('general', 0.6893417835235596),\n",
       " ('intensive', 0.6605275869369507),\n",
       " ('healthcare', 0.6473410725593567),\n",
       " ('immune', 0.6200424432754517),\n",
       " ('transport', 0.5822939872741699),\n",
       " ('prenatal', 0.5729556083679199),\n",
       " ('heeded', 0.5711047649383545),\n",
       " ('migrant', 0.5704168081283569),\n",
       " ('critical', 0.568458080291748),\n",
       " ('welfare', 0.5416004061698914),\n",
       " ('servants', 0.5260827541351318),\n",
       " ('safety', 0.5232753157615662),\n",
       " ('heath', 0.5195261240005493),\n",
       " ('weakened', 0.5181331634521484),\n",
       " ('care', 0.5136484503746033),\n",
       " ('system', 0.5126639604568481),\n",
       " ('medical', 0.5110551118850708),\n",
       " ('underlying', 0.508745551109314),\n",
       " ('transportation', 0.5081567168235779),\n",
       " ('saeed', 0.5048974752426147)]"
      ]
     },
     "execution_count": 177,
     "metadata": {},
     "output_type": "execute_result"
    }
   ],
   "source": [
    "tweets_D2V.most_similar('health',topn=20)"
   ]
  },
  {
   "cell_type": "code",
   "execution_count": 178,
   "metadata": {},
   "outputs": [
    {
     "data": {
      "text/plain": [
       "[('hospitals', 0.8616950511932373),\n",
       " ('icu', 0.8599722385406494),\n",
       " ('beds', 0.8597155809402466),\n",
       " ('patients', 0.8237659931182861),\n",
       " ('nursing', 0.8147004246711731),\n",
       " ('capacity', 0.7704028487205505),\n",
       " ('currently', 0.7639670968055725),\n",
       " ('gilgitbaltistan', 0.7635482549667358),\n",
       " ('patient', 0.7603548765182495),\n",
       " ('medical', 0.7575076818466187),\n",
       " ('nurse', 0.7447112798690796),\n",
       " ('doctor', 0.7380553483963013),\n",
       " ('intensive', 0.7362404465675354),\n",
       " ('overrun', 0.7210046648979187),\n",
       " ('field', 0.7129378914833069),\n",
       " ('overwhelmed', 0.7088659405708313),\n",
       " ('rooms', 0.7055585384368896),\n",
       " ('center', 0.7047498822212219),\n",
       " ('sent', 0.7024325728416443),\n",
       " ('ventilator', 0.7011345624923706)]"
      ]
     },
     "execution_count": 178,
     "metadata": {},
     "output_type": "execute_result"
    }
   ],
   "source": [
    "tweets_D2V.most_similar('hospital',topn=20)"
   ]
  },
  {
   "cell_type": "code",
   "execution_count": 179,
   "metadata": {},
   "outputs": [
    {
     "data": {
      "text/plain": [
       "[('selfisolation', 0.8843644261360168),\n",
       " ('isolation', 0.8773632645606995),\n",
       " ('selfquarantine', 0.8436365127563477),\n",
       " ('isolating', 0.8275821805000305),\n",
       " ('self', 0.824189305305481),\n",
       " ('quarantined', 0.8234496116638184),\n",
       " ('socialdistancing', 0.8215667605400085),\n",
       " ('selfisolating', 0.7773644328117371),\n",
       " ('break', 0.7391167879104614),\n",
       " ('clearwater', 0.7318676710128784),\n",
       " ('stayhome', 0.7291554808616638),\n",
       " ('bored', 0.722053050994873),\n",
       " ('isolationandchill', 0.721092939376831),\n",
       " ('isolate', 0.7192310094833374),\n",
       " ('outside', 0.7135300636291504),\n",
       " ('wfh', 0.712461531162262),\n",
       " ('stayathome', 0.7115699052810669),\n",
       " ('healthyhabits', 0.7083802223205566),\n",
       " ('illinoislockdown', 0.706601619720459),\n",
       " ('period', 0.7021017670631409)]"
      ]
     },
     "execution_count": 179,
     "metadata": {},
     "output_type": "execute_result"
    }
   ],
   "source": [
    "tweets_D2V.most_similar('quarantine',topn=20)"
   ]
  },
  {
   "cell_type": "markdown",
   "metadata": {},
   "source": [
    "Now let's plot some words and documents against one another with a heatmap:"
   ]
  },
  {
   "cell_type": "code",
   "execution_count": 267,
   "metadata": {},
   "outputs": [],
   "source": [
    "def heatmap(D2V):\n",
    "    keywords = ['home', 'mask', 'hospital', 'business']\n",
    "    heatmapMatrix = []\n",
    "    for tagOuter in keywords:\n",
    "        column = []\n",
    "        tagVec = D2V.docvecs[tagOuter].reshape(1, -1)\n",
    "        for tagInner in keywords:\n",
    "            column.append(sklearn.metrics.pairwise.cosine_similarity(tagVec, D2V.docvecs[tagInner].reshape(1, -1))[0][0])\n",
    "        heatmapMatrix.append(column)\n",
    "    heatmapMatrix = np.array(heatmapMatrix)\n",
    "    return heatmapMatrix"
   ]
  },
  {
   "cell_type": "markdown",
   "metadata": {},
   "source": [
    "heatmap for all tweets "
   ]
  },
  {
   "cell_type": "code",
   "execution_count": 268,
   "metadata": {
    "scrolled": true
   },
   "outputs": [
    {
     "data": {
      "image/png": "[encoded data removed]",
      "text/plain": [
       "<Figure size 432x288 with 2 Axes>"
      ]
     },
     "metadata": {
      "needs_background": "light"
     },
     "output_type": "display_data"
    }
   ],
   "source": [
    "fig, ax = plt.subplots()\n",
    "hmap = ax.pcolor(heatmap(tweets_D2V), cmap='terrain')\n",
    "cbar = plt.colorbar(hmap)\n",
    "\n",
    "cbar.set_label('cosine similarity', rotation=270)\n",
    "a = ax.set_xticks(np.arange(heatmap(tweets_D2V).shape[1]) + 0.5, minor=False)\n",
    "a = ax.set_yticks(np.arange(heatmap(tweets_D2V).shape[0]) + 0.5, minor=False)\n",
    "\n",
    "a = ax.set_xticklabels(keywords, minor=False, rotation=270)\n",
    "a = ax.set_yticklabels(keywords, minor=False)"
   ]
  },
  {
   "cell_type": "markdown",
   "metadata": {},
   "source": [
    "heatmap for t_middle"
   ]
  },
  {
   "cell_type": "code",
   "execution_count": 269,
   "metadata": {
    "scrolled": true
   },
   "outputs": [
    {
     "data": {
      "image/png": "[encoded data removed]",
      "text/plain": [
       "<Figure size 432x288 with 2 Axes>"
      ]
     },
     "metadata": {
      "needs_background": "light"
     },
     "output_type": "display_data"
    }
   ],
   "source": [
    "fig, ax = plt.subplots()\n",
    "hmap = ax.pcolor(heatmap(tweets_D2V), cmap='terrain')\n",
    "cbar = plt.colorbar(hmap)\n",
    "\n",
    "cbar.set_label('cosine similarity', rotation=270)\n",
    "a = ax.set_xticks(np.arange(heatmap(t_middle_D2V).shape[1]) + 0.5, minor=False)\n",
    "a = ax.set_yticks(np.arange(heatmap(t_middle_D2V).shape[0]) + 0.5, minor=False)\n",
    "\n",
    "a = ax.set_xticklabels(keywords, minor=False, rotation=270)\n",
    "a = ax.set_yticklabels(keywords, minor=False)"
   ]
  },
  {
   "cell_type": "markdown",
   "metadata": {},
   "source": [
    "Similarities between TIME"
   ]
  },
  {
   "cell_type": "code",
   "execution_count": 567,
   "metadata": {},
   "outputs": [],
   "source": [
    "targetDocs = tweets['date'][1000:1010]\n",
    "\n",
    "heatmapMatrixD = []\n",
    "\n",
    "for tagOuter in targetDocs:\n",
    "    column = []\n",
    "    tagVec = tweets_D2V.docvecs[tagOuter].reshape(1, -1)\n",
    "    for tagInner in targetDocs:\n",
    "        column.append(sklearn.metrics.pairwise.cosine_similarity(tagVec, tweets_D2V.docvecs[tagInner].reshape(1, -1))[0][0])\n",
    "    heatmapMatrixD.append(column)\n",
    "heatmapMatrixD = np.array(heatmapMatrixD)"
   ]
  },
  {
   "cell_type": "code",
   "execution_count": 568,
   "metadata": {},
   "outputs": [
    {
     "data": {
      "image/png": "[encoded data removed]",
      "text/plain": [
       "<Figure size 432x288 with 2 Axes>"
      ]
     },
     "metadata": {
      "needs_background": "light"
     },
     "output_type": "display_data"
    }
   ],
   "source": [
    "fig, ax = plt.subplots()\n",
    "hmap = ax.pcolor(heatmapMatrixD, cmap='terrain')\n",
    "cbar = plt.colorbar(hmap)\n",
    "\n",
    "cbar.set_label('cosine similarity', rotation=270)\n",
    "a = ax.set_xticks(np.arange(heatmapMatrixD.shape[1]) + 0.5, minor=False)\n",
    "a = ax.set_yticks(np.arange(heatmapMatrixD.shape[0]) + 0.5, minor=False)\n",
    "\n",
    "a = ax.set_xticklabels(targetDocs, minor=False, rotation=270)\n",
    "a = ax.set_yticklabels(targetDocs, minor=False)"
   ]
  },
  {
   "cell_type": "code",
   "execution_count": 270,
   "metadata": {},
   "outputs": [],
   "source": [
    "targetDocs = tweets['date'][:10]\n",
    "\n",
    "heatmapMatrixD = []\n",
    "\n",
    "for tagOuter in targetDocs:\n",
    "    column = []\n",
    "    tagVec = tweets_D2V.docvecs[tagOuter].reshape(1, -1)\n",
    "    for tagInner in targetDocs:\n",
    "        column.append(sklearn.metrics.pairwise.cosine_similarity(tagVec, tweets_D2V.docvecs[tagInner].reshape(1, -1))[0][0])\n",
    "    heatmapMatrixD.append(column)\n",
    "heatmapMatrixD = np.array(heatmapMatrixD)"
   ]
  },
  {
   "cell_type": "code",
   "execution_count": 271,
   "metadata": {},
   "outputs": [
    {
     "data": {
      "image/png": "[encoded data removed]",
      "text/plain": [
       "<Figure size 432x288 with 2 Axes>"
      ]
     },
     "metadata": {
      "needs_background": "light"
     },
     "output_type": "display_data"
    }
   ],
   "source": [
    "fig, ax = plt.subplots()\n",
    "hmap = ax.pcolor(heatmapMatrixD, cmap='terrain')\n",
    "cbar = plt.colorbar(hmap)\n",
    "\n",
    "cbar.set_label('cosine similarity', rotation=270)\n",
    "a = ax.set_xticks(np.arange(heatmapMatrixD.shape[1]) + 0.5, minor=False)\n",
    "a = ax.set_yticks(np.arange(heatmapMatrixD.shape[0]) + 0.5, minor=False)\n",
    "\n",
    "a = ax.set_xticklabels(targetDocs, minor=False, rotation=270)\n",
    "a = ax.set_yticklabels(targetDocs, minor=False)"
   ]
  },
  {
   "cell_type": "code",
   "execution_count": 272,
   "metadata": {},
   "outputs": [],
   "source": [
    "tweets_D2V.save('tweets_d2v')"
   ]
  },
  {
   "cell_type": "markdown",
   "metadata": {},
   "source": [
    "# Projection"
   ]
  },
  {
   "cell_type": "markdown",
   "metadata": {},
   "source": [
    "We can also project word vectors to an arbitray semantic dimension. To demonstrate this possibility, let's first load a model trained with New York Times news articles. "
   ]
  },
  {
   "cell_type": "code",
   "execution_count": 277,
   "metadata": {},
   "outputs": [],
   "source": [
    "tweets_w2v_news = gensim.models.word2vec.Word2Vec(tweets['normalized_sents'].sum())"
   ]
  },
  {
   "cell_type": "code",
   "execution_count": 278,
   "metadata": {},
   "outputs": [],
   "source": [
    "t_early_w2v_news = gensim.models.word2vec.Word2Vec(t_early['normalized_sents'].sum())\n",
    "t_middle_w2v_news = gensim.models.word2vec.Word2Vec(t_middle['normalized_sents'].sum())\n",
    "t_late_w2v_news = gensim.models.word2vec.Word2Vec(t_late['normalized_sents'].sum())"
   ]
  },
  {
   "cell_type": "markdown",
   "metadata": {},
   "source": [
    "Define some convenient functions for getting dimensions."
   ]
  },
  {
   "cell_type": "code",
   "execution_count": 280,
   "metadata": {},
   "outputs": [],
   "source": [
    "def normalize(vector):\n",
    "    normalized_vector = vector / np.linalg.norm(vector)\n",
    "    return normalized_vector\n",
    "\n",
    "def dimension(model, positives, negatives):\n",
    "    diff = sum([normalize(model[x]) for x in positives]) - sum([normalize(model[y]) for y in negatives])\n",
    "    return diff"
   ]
  },
  {
   "cell_type": "markdown",
   "metadata": {},
   "source": [
    "First we can visualize with dimension reduction"
   ]
  },
  {
   "cell_type": "code",
   "execution_count": 383,
   "metadata": {},
   "outputs": [],
   "source": [
    "attitude = dimension(tweets_w2v_news,['agree','good'],['disagree','bad'])\n",
    "economic = dimension(tweets_w2v_news, ['depression','crisis'], ['boom','growth'])\n",
    "quarantine = dimension(tweets_w2v_news, ['prohibit', 'ban'], ['welcome', 'accept', 'allow', 'permit'])\n",
    "#wealth = dimension(tweets_w2v_news, ['rich', 'richer', 'richest', 'expensive', 'wealthy'], ['poor', 'poorer', 'poorest', 'cheap'])"
   ]
  },
  {
   "cell_type": "code",
   "execution_count": 400,
   "metadata": {},
   "outputs": [],
   "source": [
    "attitude_m = dimension(t_middle_w2v_news,['agree','good'],['disagree','bad'])\n",
    "economic_m = dimension(t_middle_w2v_news, ['depression','crisis'], ['boom','growth'])\n",
    "quarantine_M = dimension(t_middle_w2v_news, ['prohibit', 'ban'], ['welcome', 'accept', 'allow'])"
   ]
  },
  {
   "cell_type": "code",
   "execution_count": 393,
   "metadata": {},
   "outputs": [],
   "source": [
    "def makeDF(model, word_list):\n",
    "    a = []\n",
    "    e = []\n",
    "    q = []\n",
    "    #w = []\n",
    "    for word in word_list:\n",
    "        a.append(sklearn.metrics.pairwise.cosine_similarity(model[word].reshape(1,-1), attitude.reshape(1,-1))[0][0])\n",
    "        e.append(sklearn.metrics.pairwise.cosine_similarity(model[word].reshape(1,-1), economic.reshape(1,-1))[0][0])\n",
    "        q.append(sklearn.metrics.pairwise.cosine_similarity(model[word].reshape(1,-1), quarantine.reshape(1,-1))[0][0])\n",
    "        #w.append(sklearn.metrics.pairwise.cosine_similarity(model[word].reshape(1,-1), wealth.reshape(1,-1))[0][0])\n",
    "\n",
    "    df = pd.DataFrame({'attitude': a,\n",
    "                       'economic': e, 'quarantine': q, \n",
    "                                                    }, index = word_list)\n",
    "    return df"
   ]
  },
  {
   "cell_type": "markdown",
   "metadata": {},
   "source": [
    "Get the projections."
   ]
  },
  {
   "cell_type": "code",
   "execution_count": 385,
   "metadata": {},
   "outputs": [],
   "source": [
    "States =['illinois','florida','ny','ohio','pennsylvania','washington','california']"
   ]
  },
  {
   "cell_type": "code",
   "execution_count": 394,
   "metadata": {},
   "outputs": [],
   "source": [
    "STAdf = makeDF(tweets_w2v_news, States)"
   ]
  },
  {
   "cell_type": "code",
   "execution_count": 401,
   "metadata": {},
   "outputs": [],
   "source": [
    "STAdf_m = makeDF(t_middle_w2v_news, States)"
   ]
  },
  {
   "cell_type": "code",
   "execution_count": 395,
   "metadata": {
    "scrolled": true
   },
   "outputs": [
    {
     "data": {
      "text/html": [
       "<div>\n",
       "<style scoped>\n",
       "    .dataframe tbody tr th:only-of-type {\n",
       "        vertical-align: middle;\n",
       "    }\n",
       "\n",
       "    .dataframe tbody tr th {\n",
       "        vertical-align: top;\n",
       "    }\n",
       "\n",
       "    .dataframe thead th {\n",
       "        text-align: right;\n",
       "    }\n",
       "</style>\n",
       "<table border=\"1\" class=\"dataframe\">\n",
       "  <thead>\n",
       "    <tr style=\"text-align: right;\">\n",
       "      <th></th>\n",
       "      <th>attitude</th>\n",
       "      <th>economic</th>\n",
       "      <th>quarantine</th>\n",
       "    </tr>\n",
       "  </thead>\n",
       "  <tbody>\n",
       "    <tr>\n",
       "      <td>illinois</td>\n",
       "      <td>-0.356392</td>\n",
       "      <td>-0.431322</td>\n",
       "      <td>-0.397023</td>\n",
       "    </tr>\n",
       "    <tr>\n",
       "      <td>florida</td>\n",
       "      <td>-0.401729</td>\n",
       "      <td>-0.618313</td>\n",
       "      <td>-0.151422</td>\n",
       "    </tr>\n",
       "    <tr>\n",
       "      <td>ny</td>\n",
       "      <td>-0.353061</td>\n",
       "      <td>-0.433273</td>\n",
       "      <td>-0.253394</td>\n",
       "    </tr>\n",
       "    <tr>\n",
       "      <td>ohio</td>\n",
       "      <td>-0.330886</td>\n",
       "      <td>-0.474813</td>\n",
       "      <td>-0.309760</td>\n",
       "    </tr>\n",
       "    <tr>\n",
       "      <td>pennsylvania</td>\n",
       "      <td>-0.311503</td>\n",
       "      <td>-0.329371</td>\n",
       "      <td>-0.481022</td>\n",
       "    </tr>\n",
       "    <tr>\n",
       "      <td>washington</td>\n",
       "      <td>-0.288922</td>\n",
       "      <td>-0.339746</td>\n",
       "      <td>-0.176310</td>\n",
       "    </tr>\n",
       "    <tr>\n",
       "      <td>california</td>\n",
       "      <td>-0.333568</td>\n",
       "      <td>-0.408834</td>\n",
       "      <td>-0.200701</td>\n",
       "    </tr>\n",
       "  </tbody>\n",
       "</table>\n",
       "</div>"
      ],
      "text/plain": [
       "              attitude  economic  quarantine\n",
       "illinois     -0.356392 -0.431322   -0.397023\n",
       "florida      -0.401729 -0.618313   -0.151422\n",
       "ny           -0.353061 -0.433273   -0.253394\n",
       "ohio         -0.330886 -0.474813   -0.309760\n",
       "pennsylvania -0.311503 -0.329371   -0.481022\n",
       "washington   -0.288922 -0.339746   -0.176310\n",
       "california   -0.333568 -0.408834   -0.200701"
      ]
     },
     "execution_count": 395,
     "metadata": {},
     "output_type": "execute_result"
    }
   ],
   "source": [
    "STAdf"
   ]
  },
  {
   "cell_type": "code",
   "execution_count": 571,
   "metadata": {},
   "outputs": [
    {
     "data": {
      "text/plain": [
       "[array([0.5, 0. , 1. , 1. ]), array([0.5, 0. , 1. , 1. ])]"
      ]
     },
     "execution_count": 571,
     "metadata": {},
     "output_type": "execute_result"
    }
   ],
   "source": [
    "list(plt.cm.rainbow([-0.356392, -0.288922]))\n"
   ]
  },
  {
   "cell_type": "markdown",
   "metadata": {},
   "source": [
    "Define some useful functions for plotting."
   ]
  },
  {
   "cell_type": "code",
   "execution_count": 287,
   "metadata": {},
   "outputs": [],
   "source": [
    "def Coloring(Series):\n",
    "    x = Series.values\n",
    "    y = x-x.min()\n",
    "    z = y/y.max()\n",
    "    c = list(plt.cm.rainbow(z))\n",
    "    return c\n",
    "\n",
    "def PlotDimension(ax,df, dim):\n",
    "    ax.set_frame_on(False)\n",
    "    ax.set_title(dim, fontsize = 20)\n",
    "    colors = Coloring(df[dim])\n",
    "    for i, word in enumerate(df.index):\n",
    "        ax.annotate(word, (0, df[dim][i]), color = colors[i], alpha = 0.6, fontsize = 12)\n",
    "    MaxY = df[dim].max()\n",
    "    MinY = df[dim].min()\n",
    "    #ylim(bottem,top)\n",
    "    plt.ylim(MinY,MaxY)\n",
    "    plt.yticks(())\n",
    "    plt.xticks(())"
   ]
  },
  {
   "cell_type": "code",
   "execution_count": 398,
   "metadata": {},
   "outputs": [
    {
     "data": {
      "image/png": "[encoded data removed]",
      "text/plain": [
       "<Figure size 864x288 with 3 Axes>"
      ]
     },
     "metadata": {},
     "output_type": "display_data"
    }
   ],
   "source": [
    "fig = plt.figure(figsize = (12,4))\n",
    "fig.suptitle('tweets',fontsize=15)\n",
    "ax1 = fig.add_subplot(131)\n",
    "PlotDimension(ax1, STAdf, 'attitude')\n",
    "ax2 = fig.add_subplot(132)\n",
    "PlotDimension(ax2, STAdf, 'economic')\n",
    "ax3 = fig.add_subplot(133)\n",
    "PlotDimension(ax3, STAdf, 'quarantine')\n",
    "\n",
    "plt.show()"
   ]
  },
  {
   "cell_type": "code",
   "execution_count": 402,
   "metadata": {},
   "outputs": [
    {
     "data": {
      "image/png": "[encoded data removed]",
      "text/plain": [
       "<Figure size 864x288 with 3 Axes>"
      ]
     },
     "metadata": {},
     "output_type": "display_data"
    }
   ],
   "source": [
    "fig = plt.figure(figsize = (12,4))\n",
    "fig.suptitle('tweets in the middle of March',fontsize=15)\n",
    "ax1 = fig.add_subplot(131)\n",
    "PlotDimension(ax1, STAdf_m, 'attitude')\n",
    "ax2 = fig.add_subplot(132)\n",
    "PlotDimension(ax2, STAdf_m, 'economic')\n",
    "ax3 = fig.add_subplot(133)\n",
    "PlotDimension(ax3, STAdf_m, 'quarantine')\n",
    "\n",
    "plt.show()"
   ]
  }
 ],
 "metadata": {
  "anaconda-cloud": {},
  "kernelspec": {
   "display_name": "Python 3",
   "language": "python",
   "name": "python3"
  },
  "language_info": {
   "codemirror_mode": {
    "name": "ipython",
    "version": 3
   },
   "file_extension": ".py",
   "mimetype": "text/x-python",
   "name": "python",
   "nbconvert_exporter": "python",
   "pygments_lexer": "ipython3",
   "version": "3.7.4"
  }
 },
 "nbformat": 4,
 "nbformat_minor": 1
}
